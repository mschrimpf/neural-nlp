{
 "cells": [
  {
   "cell_type": "code",
   "execution_count": 1,
   "metadata": {},
   "outputs": [],
   "source": [
    "import pickle\n",
    "import numpy as np\n",
    "import scipy.io as sio\n",
    "import matplotlib.pyplot as plt\n",
    "from matplotlib.lines import Line2D\n",
    "import datetime \n",
    "import seaborn\n",
    "from stats import is_significant, _permutation_test\n",
    "import xlsxwriter \n",
    "from scipy import stats\n",
    "import xarray as xr\n",
    "  \n",
    "# Plot specifications\n",
    "seaborn.set(context='talk')\n",
    "seaborn.set_style(\"whitegrid\", {'axes.grid': False})\n",
    "plt.rc('axes', edgecolor='black')\n",
    "plt.rc('axes', edgecolor='black')\n",
    "plt.rcParams['axes.spines.right'] = False\n",
    "plt.rcParams['axes.spines.top'] = False\n",
    "\n",
    "ceil_name = '/om/user/msch/share/neural_nlp/identifier=Pereira2018-encoding.pkl'\n",
    "score_name = '/om/user/msch/share/neural_nlp/benchmark=Pereira2018-encoding,model=gpt2-xl,subsample=None.pkl'"
   ]
  },
  {
   "cell_type": "code",
   "execution_count": 2,
   "metadata": {},
   "outputs": [],
   "source": [
    "# Load score objects\n",
    "with open(score_name, 'rb') as f:  \n",
    "    result = pickle.load(f)\n",
    "\n",
    "score = result['data']\n"
   ]
  },
  {
   "cell_type": "code",
   "execution_count": 3,
   "metadata": {},
   "outputs": [],
   "source": [
    "from func import *"
   ]
  },
  {
   "cell_type": "code",
   "execution_count": 4,
   "metadata": {},
   "outputs": [
    {
     "name": "stderr",
     "output_type": "stream",
     "text": [
      "/om/user/gretatu/.conda/envs/brainmodeling/lib/python3.6/site-packages/brainscore/metrics/__init__.py:48: UserWarning: isel on raw values failed: ValueError(\"dimensions ['aggregation'] do not exist\",)\n",
      "  warnings.warn(f\"{operation} on raw values failed: {repr(e)}\")\n",
      "/om/user/gretatu/.conda/envs/brainmodeling/lib/python3.6/site-packages/brainscore/metrics/__init__.py:48: UserWarning: squeeze on raw values failed: KeyError('aggregation',)\n",
      "  warnings.warn(f\"{operation} on raw values failed: {repr(e)}\")\n"
     ]
    },
    {
     "name": "stdout",
     "output_type": "stream",
     "text": [
      "encoder.h.43\n"
     ]
    },
    {
     "name": "stderr",
     "output_type": "stream",
     "text": [
      "/om/user/gretatu/.conda/envs/brainmodeling/lib/python3.6/site-packages/xarray/core/nanops.py:159: RuntimeWarning: Mean of empty slice\n",
      "  return np.nanmean(a, axis=axis, dtype=dtype)\n"
     ]
    }
   ],
   "source": [
    "b=bestLangLayer(score)\n",
    "o=meanSplitExp(score)\n",
    "o1=freezeBestLangLayer(o,b)"
   ]
  },
  {
   "cell_type": "code",
   "execution_count": 7,
   "metadata": {},
   "outputs": [],
   "source": [
    "o_lang=extractCoord(o1,'atlas','language')\n",
    "o_md=extractCoord(o1,'atlas','MD')\n",
    "o_dmn=extractCoord(o1,'atlas','DMN')\n"
   ]
  },
  {
   "cell_type": "code",
   "execution_count": 8,
   "metadata": {},
   "outputs": [
    {
     "data": {
      "text/plain": [
       "<xarray.Score (neuroid: 13517)>\n",
       "array([0.314565, 0.31357 , 0.288955, ..., 0.38148 , 0.325691, 0.492467])\n",
       "Coordinates:\n",
       "    layer            <U12 'encoder.h.43'\n",
       "  * neuroid          (neuroid) MultiIndex\n",
       "  - subject          (neuroid) object '018' '018' '018' ... '018' '018' '018'\n",
       "  - voxel_num        (neuroid) int64 28 29 31 32 38 42 ... 152 153 154 159 160\n",
       "  - filter_strategy  (neuroid) object nan nan nan nan nan ... nan nan nan nan\n",
       "  - atlas_selection  (neuroid) object 'from90to100prcnt' ... 'from90to100prcnt'\n",
       "  - roi              (neuroid) object 'LH_AntTemp' 'LH_AntTemp' ... 'LH_AntTemp'\n",
       "  - indices_in_3d    (neuroid) int64 72505 72506 72584 ... 87754 87831 87832\n",
       "  - col_to_coord_1   (neuroid) int64 62 63 62 63 63 63 63 ... 65 62 63 64 62 63\n",
       "  - col_to_coord_2   (neuroid) int64 63 63 64 64 65 66 63 ... 65 66 66 66 67 67\n",
       "  - col_to_coord_3   (neuroid) int64 10 10 10 10 10 10 11 ... 12 12 12 12 12 12\n",
       "  - neuroid_id       (neuroid) object '018.28' '018.29' ... '018.159' '018.160'\n",
       "  - atlas            (neuroid) object 'language' 'language' ... 'language'"
      ]
     },
     "execution_count": 8,
     "metadata": {},
     "output_type": "execute_result"
    }
   ],
   "source": [
    "o_lang # There are 13517 lang neuroIDs across subjects"
   ]
  },
  {
   "cell_type": "code",
   "execution_count": 9,
   "metadata": {},
   "outputs": [
    {
     "data": {
      "text/plain": [
       "<xarray.Score (neuroid: 29845)>\n",
       "array([0.223181, 0.345573, 0.332533, ..., 0.220157, 0.272854, 0.426872])\n",
       "Coordinates:\n",
       "    layer            <U12 'encoder.h.43'\n",
       "  * neuroid          (neuroid) MultiIndex\n",
       "  - subject          (neuroid) object '018' '018' '018' ... '018' '018' '018'\n",
       "  - voxel_num        (neuroid) int64 10170 10186 10187 ... 10307 10308 10315\n",
       "  - filter_strategy  (neuroid) object 'HminusE' 'HminusE' ... 'HminusE'\n",
       "  - atlas_selection  (neuroid) object 'from90to100prcnt' ... 'from90to100prcnt'\n",
       "  - roi              (neuroid) object 'RH_Precental_B_IFGop' ... 'LH_midFrontalOrb'\n",
       "  - indices_in_3d    (neuroid) int64 252421 252629 252630 ... 254007 254041\n",
       "  - col_to_coord_1   (neuroid) int64 16 66 67 12 13 14 68 ... 57 58 20 21 22 56\n",
       "  - col_to_coord_2   (neuroid) int64 61 63 63 64 64 64 64 ... 80 80 81 81 81 81\n",
       "  - col_to_coord_3   (neuroid) int64 34 34 34 34 34 34 34 ... 34 34 34 34 34 34\n",
       "  - neuroid_id       (neuroid) object '018.10170' '018.10186' ... '018.10315'\n",
       "  - atlas            (neuroid) object 'MD' 'MD' 'MD' 'MD' ... 'MD' 'MD' 'MD'"
      ]
     },
     "execution_count": 9,
     "metadata": {},
     "output_type": "execute_result"
    }
   ],
   "source": [
    "o_md"
   ]
  },
  {
   "cell_type": "code",
   "execution_count": 10,
   "metadata": {},
   "outputs": [
    {
     "data": {
      "text/plain": [
       "<xarray.Score (neuroid: 10948)>\n",
       "array([0.415297, 0.363854, 0.452729, ..., 0.235367, 0.253682, 0.143237])\n",
       "Coordinates:\n",
       "    layer            <U12 'encoder.h.43'\n",
       "  * neuroid          (neuroid) MultiIndex\n",
       "  - subject          (neuroid) object '018' '018' '018' ... '018' '018' '018'\n",
       "  - voxel_num        (neuroid) int64 166 167 269 270 271 ... 398 406 413 424 504\n",
       "  - filter_strategy  (neuroid) object 'FIXminusH' 'FIXminusH' ... 'FIXminusH'\n",
       "  - atlas_selection  (neuroid) object 'from90to100prcnt' ... 'from90to100prcnt'\n",
       "  - roi              (neuroid) object 'RH_FrontalMed' ... 'RH_FrontalMed'\n",
       "  - indices_in_3d    (neuroid) int64 88282 88284 95708 ... 109406 109485 110559\n",
       "  - col_to_coord_1   (neuroid) int64 39 41 39 41 39 41 39 ... 41 39 70 70 70 38\n",
       "  - col_to_coord_2   (neuroid) int64 73 73 72 72 73 73 74 ... 75 76 54 55 56 70\n",
       "  - col_to_coord_3   (neuroid) int64 12 12 13 13 13 13 13 ... 14 14 15 15 15 15\n",
       "  - neuroid_id       (neuroid) object '018.166' '018.167' ... '018.504'\n",
       "  - atlas            (neuroid) object 'DMN' 'DMN' 'DMN' ... 'DMN' 'DMN' 'DMN'"
      ]
     },
     "execution_count": 10,
     "metadata": {},
     "output_type": "execute_result"
    }
   ],
   "source": [
    "o_dmn"
   ]
  },
  {
   "cell_type": "code",
   "execution_count": 12,
   "metadata": {},
   "outputs": [
    {
     "name": "stdout",
     "output_type": "stream",
     "text": [
      "[\"Number of NaNs: <xarray.DataArray ()>\\narray(16)\\nCoordinates:\\n    layer    <U12 'encoder.h.43'subjID: 018\"\n",
      " \"Number of NaNs: <xarray.DataArray ()>\\narray(16)\\nCoordinates:\\n    layer    <U12 'encoder.h.43'subjID: 018\"\n",
      " \"Number of NaNs: <xarray.DataArray ()>\\narray(16)\\nCoordinates:\\n    layer    <U12 'encoder.h.43'subjID: 018\"\n",
      " ...\n",
      " \"Number of NaNs: <xarray.DataArray ()>\\narray(16)\\nCoordinates:\\n    layer    <U12 'encoder.h.43'subjID: 296\"\n",
      " \"Number of NaNs: <xarray.DataArray ()>\\narray(16)\\nCoordinates:\\n    layer    <U12 'encoder.h.43'subjID: 296\"\n",
      " \"Number of NaNs: <xarray.DataArray ()>\\narray(16)\\nCoordinates:\\n    layer    <U12 'encoder.h.43'subjID: 296\"]\n"
     ]
    },
    {
     "data": {
      "text/plain": [
       "<xarray.Score (neuroid: 13501)>\n",
       "array([0.314565, 0.31357 , 0.288955, ..., 0.38148 , 0.325691, 0.492467])\n",
       "Coordinates:\n",
       "    layer            <U12 'encoder.h.43'\n",
       "  * neuroid          (neuroid) MultiIndex\n",
       "  - subject          (neuroid) object '018' '018' '018' ... '018' '018' '018'\n",
       "  - voxel_num        (neuroid) int64 28 29 31 32 38 64 ... 192 193 199 207 211\n",
       "  - filter_strategy  (neuroid) object nan nan nan nan nan ... nan nan nan nan\n",
       "  - atlas_selection  (neuroid) object 'from90to100prcnt' ... 'from90to100prcnt'\n",
       "  - roi              (neuroid) object 'LH_AntTemp' 'LH_AntTemp' ... 'LH_AntTemp'\n",
       "  - indices_in_3d    (neuroid) int64 72505 72506 72584 ... 94736 94815 94866\n",
       "  - col_to_coord_1   (neuroid) int64 62 63 62 63 63 63 64 ... 16 15 16 15 15 66\n",
       "  - col_to_coord_2   (neuroid) int64 63 63 64 64 65 63 63 ... 58 59 59 60 61 61\n",
       "  - col_to_coord_3   (neuroid) int64 10 10 10 10 10 11 11 ... 13 13 13 13 13 13\n",
       "  - neuroid_id       (neuroid) object '018.28' '018.29' ... '018.207' '018.211'\n",
       "  - atlas            (neuroid) object 'language' 'language' ... 'language'"
      ]
     },
     "execution_count": 12,
     "metadata": {},
     "output_type": "execute_result"
    }
   ],
   "source": [
    "# Drop NaNs\n",
    "o_lang_nn = removeNaNs(o_lang)\n",
    "o_lang_nn\n"
   ]
  },
  {
   "cell_type": "code",
   "execution_count": 13,
   "metadata": {},
   "outputs": [
    {
     "data": {
      "text/plain": [
       "<xarray.Score (neuroid: 29845)>\n",
       "array([0.223181, 0.345573, 0.332533, ..., 0.220157, 0.272854, 0.426872])\n",
       "Coordinates:\n",
       "    layer            <U12 'encoder.h.43'\n",
       "  * neuroid          (neuroid) MultiIndex\n",
       "  - subject          (neuroid) object '018' '018' '018' ... '018' '018' '018'\n",
       "  - voxel_num        (neuroid) int64 10170 10186 10187 ... 10307 10308 10315\n",
       "  - filter_strategy  (neuroid) object 'HminusE' 'HminusE' ... 'HminusE'\n",
       "  - atlas_selection  (neuroid) object 'from90to100prcnt' ... 'from90to100prcnt'\n",
       "  - roi              (neuroid) object 'RH_Precental_B_IFGop' ... 'LH_midFrontalOrb'\n",
       "  - indices_in_3d    (neuroid) int64 252421 252629 252630 ... 254007 254041\n",
       "  - col_to_coord_1   (neuroid) int64 16 66 67 12 13 14 68 ... 57 58 20 21 22 56\n",
       "  - col_to_coord_2   (neuroid) int64 61 63 63 64 64 64 64 ... 80 80 81 81 81 81\n",
       "  - col_to_coord_3   (neuroid) int64 34 34 34 34 34 34 34 ... 34 34 34 34 34 34\n",
       "  - neuroid_id       (neuroid) object '018.10170' '018.10186' ... '018.10315'\n",
       "  - atlas            (neuroid) object 'MD' 'MD' 'MD' 'MD' ... 'MD' 'MD' 'MD'"
      ]
     },
     "execution_count": 13,
     "metadata": {},
     "output_type": "execute_result"
    }
   ],
   "source": [
    "o_md_nn = removeNaNs(o_md)\n",
    "o_md_nn"
   ]
  },
  {
   "cell_type": "code",
   "execution_count": 14,
   "metadata": {},
   "outputs": [
    {
     "data": {
      "text/plain": [
       "<xarray.Score (neuroid: 10948)>\n",
       "array([0.415297, 0.363854, 0.452729, ..., 0.235367, 0.253682, 0.143237])\n",
       "Coordinates:\n",
       "    layer            <U12 'encoder.h.43'\n",
       "  * neuroid          (neuroid) MultiIndex\n",
       "  - subject          (neuroid) object '018' '018' '018' ... '018' '018' '018'\n",
       "  - voxel_num        (neuroid) int64 166 167 269 270 271 ... 398 406 413 424 504\n",
       "  - filter_strategy  (neuroid) object 'FIXminusH' 'FIXminusH' ... 'FIXminusH'\n",
       "  - atlas_selection  (neuroid) object 'from90to100prcnt' ... 'from90to100prcnt'\n",
       "  - roi              (neuroid) object 'RH_FrontalMed' ... 'RH_FrontalMed'\n",
       "  - indices_in_3d    (neuroid) int64 88282 88284 95708 ... 109406 109485 110559\n",
       "  - col_to_coord_1   (neuroid) int64 39 41 39 41 39 41 39 ... 41 39 70 70 70 38\n",
       "  - col_to_coord_2   (neuroid) int64 73 73 72 72 73 73 74 ... 75 76 54 55 56 70\n",
       "  - col_to_coord_3   (neuroid) int64 12 12 13 13 13 13 13 ... 14 14 15 15 15 15\n",
       "  - neuroid_id       (neuroid) object '018.166' '018.167' ... '018.504'\n",
       "  - atlas            (neuroid) object 'DMN' 'DMN' 'DMN' ... 'DMN' 'DMN' 'DMN'"
      ]
     },
     "execution_count": 14,
     "metadata": {},
     "output_type": "execute_result"
    }
   ],
   "source": [
    "o_dmn_nn = removeNaNs(o_dmn)\n",
    "o_dmn_nn"
   ]
  },
  {
   "cell_type": "code",
   "execution_count": null,
   "metadata": {},
   "outputs": [],
   "source": []
  }
 ],
 "metadata": {
  "kernelspec": {
   "display_name": "Python 3",
   "language": "python",
   "name": "python3"
  },
  "language_info": {
   "codemirror_mode": {
    "name": "ipython",
    "version": 3
   },
   "file_extension": ".py",
   "mimetype": "text/x-python",
   "name": "python",
   "nbconvert_exporter": "python",
   "pygments_lexer": "ipython3",
   "version": "3.6.10"
  }
 },
 "nbformat": 4,
 "nbformat_minor": 2
}
