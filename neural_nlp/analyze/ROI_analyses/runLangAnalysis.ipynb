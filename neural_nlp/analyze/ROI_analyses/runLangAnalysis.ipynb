{
 "cells": [
  {
   "cell_type": "code",
   "execution_count": 1,
   "metadata": {},
   "outputs": [],
   "source": [
    "import pickle\n",
    "import numpy as np\n",
    "import scipy.io as sio\n",
    "import matplotlib.pyplot as plt\n",
    "from matplotlib.lines import Line2D\n",
    "import datetime \n",
    "import seaborn\n",
    "from stats import is_significant, _permutation_test\n",
    "import xlsxwriter \n",
    "from scipy import stats\n",
    "import xarray as xr\n",
    "  \n",
    "# Plot specifications\n",
    "seaborn.set(context='talk')\n",
    "seaborn.set_style(\"whitegrid\", {'axes.grid': False})\n",
    "plt.rc('axes', edgecolor='black')\n",
    "plt.rc('axes', edgecolor='black')\n",
    "plt.rcParams['axes.spines.right'] = False\n",
    "plt.rcParams['axes.spines.top'] = False\n",
    "\n",
    "subjectID = '018'\n",
    "subjectIDs = ['018', '288', '289', '296', '426']\n",
    "ceil_name = '/om/user/msch/share/neural_nlp/identifier=Pereira2018-encoding.pkl'\n",
    "score_name = '/om/user/msch/share/neural_nlp/benchmark=Pereira2018-encoding,model=gpt2-xl,subsample=None.pkl'\n",
    "# score_name = '/om/user/msch/share/neural_nlp/benchmark=Pereira2018-encoding,model=glove,subsample=None.pkl'"
   ]
  },
  {
   "cell_type": "code",
   "execution_count": 2,
   "metadata": {},
   "outputs": [],
   "source": [
    "# Load score objects\n",
    "with open(score_name, 'rb') as f:  \n",
    "    result = pickle.load(f)\n",
    "\n",
    "score = result['data']\n",
    "\n",
    "# Load ceil objects\n",
    "with open(ceil_name, 'rb') as f:  \n",
    "    resultc = pickle.load(f)\n",
    "\n",
    "ceil = resultc['data']"
   ]
  },
  {
   "cell_type": "code",
   "execution_count": 3,
   "metadata": {},
   "outputs": [],
   "source": [
    "from func import *"
   ]
  },
  {
   "cell_type": "code",
   "execution_count": 4,
   "metadata": {},
   "outputs": [],
   "source": [
    "# Names for ROI plotting\n",
    "# Intended order: \n",
    "names_ordered_all = ['LH_PostTemp', 'LH_AntTemp', 'LH_IFG', 'LH_IFGorb', 'LH_MFG', \\\n",
    "        'LH_AngG', 'RH_PostTemp', 'RH_AntTemp', 'RH_IFG', 'RH_IFGorb', \\\n",
    "         'RH_MFG', 'RH_AngG', 'LH_postParietal', 'LH_midParietal', 'LH_antParietal', \\\n",
    "         'LH_supFrontal', 'LH_Precentral_A_PrecG', 'LH_Precental_B_IFGop', 'LH_midFrontal', \\\n",
    "         'LH_midFrontalOrb', 'LH_insula', 'LH_medialFrontal', 'RH_postParietal', \\\n",
    "         'RH_midParietal', 'RH_antParietal', 'RH_supFrontal', 'RH_Precentral_A_PrecG', \\\n",
    "         'RH_Precental_B_IFGop', 'RH_midFrontal', 'RH_midFrontalOrb', 'RH_insula', 'RH_medialFrontal', \\\n",
    "         'LH_FrontalMed', 'LH_PostCing', 'LH_TPJ', 'LH_MidCing', 'LH_STGorInsula', \\\n",
    "         'RH_FrontalMed', 'RH_PostCing', 'RH_TPJ', 'RH_MidCing', 'RH_STGorInsula', \\\n",
    "         'LH_TE11', 'LH_TE12', 'RH_TE11', 'RH_TE12', 'LH_OccipInf', 'LH_OccipMid', 'LH_OccipSup', \\\n",
    "         'RH_OccipInf', 'RH_OccipMid', 'RH_OccipSup'] \n",
    "\n",
    "names_ordered_lang = ['LH_PostTemp', 'LH_AntTemp', 'LH_IFG', 'LH_IFGorb', 'LH_MFG', \\\n",
    "        'LH_AngG', 'RH_PostTemp', 'RH_AntTemp', 'RH_IFG', 'RH_IFGorb', \\\n",
    "         'RH_MFG', 'RH_AngG'] \n",
    "\n",
    "model='GPT2-xl'#'GloVe'\n",
    "atlas='language'\n",
    "colors = ['lightgrey']*12"
   ]
  },
  {
   "cell_type": "code",
   "execution_count": 6,
   "metadata": {},
   "outputs": [
    {
     "name": "stderr",
     "output_type": "stream",
     "text": [
      "/om/user/gretatu/.conda/envs/brainmodeling/lib/python3.6/site-packages/brainscore/metrics/__init__.py:48: UserWarning: isel on raw values failed: ValueError(\"dimensions ['aggregation'] do not exist\",)\n",
      "  warnings.warn(f\"{operation} on raw values failed: {repr(e)}\")\n",
      "/om/user/gretatu/.conda/envs/brainmodeling/lib/python3.6/site-packages/brainscore/metrics/__init__.py:48: UserWarning: squeeze on raw values failed: KeyError('aggregation',)\n",
      "  warnings.warn(f\"{operation} on raw values failed: {repr(e)}\")\n",
      "/om/user/gretatu/.conda/envs/brainmodeling/lib/python3.6/site-packages/xarray/core/nanops.py:159: RuntimeWarning: Mean of empty slice\n",
      "  return np.nanmean(a, axis=axis, dtype=dtype)\n"
     ]
    },
    {
     "name": "stdout",
     "output_type": "stream",
     "text": [
      "projection\n",
      "[\"Number of NaNs: <xarray.DataArray ()>\\narray(19)\\nCoordinates:\\n    layer    <U10 'projection'subjID: 018\"\n",
      " \"Number of NaNs: <xarray.DataArray ()>\\narray(19)\\nCoordinates:\\n    layer    <U10 'projection'subjID: 018\"\n",
      " \"Number of NaNs: <xarray.DataArray ()>\\narray(19)\\nCoordinates:\\n    layer    <U10 'projection'subjID: 018\"\n",
      " ...\n",
      " \"Number of NaNs: <xarray.DataArray ()>\\narray(19)\\nCoordinates:\\n    layer    <U10 'projection'subjID: 018\"\n",
      " \"Number of NaNs: <xarray.DataArray ()>\\narray(19)\\nCoordinates:\\n    layer    <U10 'projection'subjID: 018\"\n",
      " \"Number of NaNs: <xarray.DataArray ()>\\narray(19)\\nCoordinates:\\n    layer    <U10 'projection'subjID: 018\"]\n"
     ]
    },
    {
     "name": "stderr",
     "output_type": "stream",
     "text": [
      "/om/user/gretatu/.conda/envs/brainmodeling/lib/python3.6/site-packages/brainscore/metrics/__init__.py:48: UserWarning: isel on raw values failed: ValueError(\"dimensions ['aggregation'] do not exist\",)\n",
      "  warnings.warn(f\"{operation} on raw values failed: {repr(e)}\")\n",
      "/om/user/gretatu/.conda/envs/brainmodeling/lib/python3.6/site-packages/brainscore/metrics/__init__.py:48: UserWarning: squeeze on raw values failed: KeyError('aggregation',)\n",
      "  warnings.warn(f\"{operation} on raw values failed: {repr(e)}\")\n",
      "/om/user/gretatu/.conda/envs/brainmodeling/lib/python3.6/site-packages/brainscore/metrics/__init__.py:48: UserWarning: isel on raw values failed: IndexError('Boolean array size 50628 is used to index array with shape (50647,).',)\n",
      "  warnings.warn(f\"{operation} on raw values failed: {repr(e)}\")\n"
     ]
    },
    {
     "name": "stdout",
     "output_type": "stream",
     "text": [
      "More than one unique atlas:  ['DMN' 'language']\n",
      "More than one unique atlas:  ['DMN' 'language']\n"
     ]
    },
    {
     "name": "stderr",
     "output_type": "stream",
     "text": [
      "/om/user/gretatu/.conda/envs/brainmodeling/lib/python3.6/site-packages/brainscore/metrics/__init__.py:48: UserWarning: isel on raw values failed: ValueError(\"dimensions ['aggregation'] do not exist\",)\n",
      "  warnings.warn(f\"{operation} on raw values failed: {repr(e)}\")\n",
      "/om/user/gretatu/.conda/envs/brainmodeling/lib/python3.6/site-packages/brainscore/metrics/__init__.py:48: UserWarning: squeeze on raw values failed: KeyError('aggregation',)\n",
      "  warnings.warn(f\"{operation} on raw values failed: {repr(e)}\")\n",
      "/om/user/gretatu/.conda/envs/brainmodeling/lib/python3.6/site-packages/xarray/core/nanops.py:159: RuntimeWarning: Mean of empty slice\n",
      "  return np.nanmean(a, axis=axis, dtype=dtype)\n",
      "/om/user/gretatu/.conda/envs/brainmodeling/lib/python3.6/site-packages/brainscore/metrics/__init__.py:48: UserWarning: isel on raw values failed: ValueError(\"dimensions ['aggregation'] do not exist\",)\n",
      "  warnings.warn(f\"{operation} on raw values failed: {repr(e)}\")\n",
      "/om/user/gretatu/.conda/envs/brainmodeling/lib/python3.6/site-packages/brainscore/metrics/__init__.py:48: UserWarning: squeeze on raw values failed: KeyError('aggregation',)\n",
      "  warnings.warn(f\"{operation} on raw values failed: {repr(e)}\")\n",
      "/om/user/gretatu/.conda/envs/brainmodeling/lib/python3.6/site-packages/brainscore/metrics/__init__.py:48: UserWarning: isel on raw values failed: IndexError('Boolean array size 50628 is used to index array with shape (50647,).',)\n",
      "  warnings.warn(f\"{operation} on raw values failed: {repr(e)}\")\n"
     ]
    },
    {
     "name": "stdout",
     "output_type": "stream",
     "text": [
      "projection\n",
      "More than one unique atlas:  ['DMN' 'language']\n",
      "More than one unique atlas:  ['DMN' 'language']\n"
     ]
    },
    {
     "name": "stderr",
     "output_type": "stream",
     "text": [
      "/om/user/gretatu/.conda/envs/brainmodeling/lib/python3.6/site-packages/brainscore/metrics/__init__.py:48: UserWarning: isel on raw values failed: ValueError(\"dimensions ['aggregation'] do not exist\",)\n",
      "  warnings.warn(f\"{operation} on raw values failed: {repr(e)}\")\n",
      "/om/user/gretatu/.conda/envs/brainmodeling/lib/python3.6/site-packages/brainscore/metrics/__init__.py:48: UserWarning: squeeze on raw values failed: KeyError('aggregation',)\n",
      "  warnings.warn(f\"{operation} on raw values failed: {repr(e)}\")\n",
      "/om/user/gretatu/.conda/envs/brainmodeling/lib/python3.6/site-packages/xarray/core/nanops.py:159: RuntimeWarning: Mean of empty slice\n",
      "  return np.nanmean(a, axis=axis, dtype=dtype)\n",
      "/om/user/gretatu/.conda/envs/brainmodeling/lib/python3.6/site-packages/brainscore/metrics/__init__.py:48: UserWarning: isel on raw values failed: ValueError(\"dimensions ['aggregation'] do not exist\",)\n",
      "  warnings.warn(f\"{operation} on raw values failed: {repr(e)}\")\n",
      "/om/user/gretatu/.conda/envs/brainmodeling/lib/python3.6/site-packages/brainscore/metrics/__init__.py:48: UserWarning: squeeze on raw values failed: KeyError('aggregation',)\n",
      "  warnings.warn(f\"{operation} on raw values failed: {repr(e)}\")\n",
      "/om/user/gretatu/.conda/envs/brainmodeling/lib/python3.6/site-packages/brainscore/metrics/__init__.py:48: UserWarning: isel on raw values failed: IndexError('Boolean array size 50628 is used to index array with shape (50647,).',)\n",
      "  warnings.warn(f\"{operation} on raw values failed: {repr(e)}\")\n"
     ]
    },
    {
     "name": "stdout",
     "output_type": "stream",
     "text": [
      "projection\n",
      "More than one unique atlas:  ['DMN' 'language']\n",
      "More than one unique atlas:  ['DMN' 'language']\n"
     ]
    },
    {
     "name": "stderr",
     "output_type": "stream",
     "text": [
      "/om/user/gretatu/.conda/envs/brainmodeling/lib/python3.6/site-packages/brainscore/metrics/__init__.py:48: UserWarning: isel on raw values failed: ValueError(\"dimensions ['aggregation'] do not exist\",)\n",
      "  warnings.warn(f\"{operation} on raw values failed: {repr(e)}\")\n",
      "/om/user/gretatu/.conda/envs/brainmodeling/lib/python3.6/site-packages/brainscore/metrics/__init__.py:48: UserWarning: squeeze on raw values failed: KeyError('aggregation',)\n",
      "  warnings.warn(f\"{operation} on raw values failed: {repr(e)}\")\n",
      "/om/user/gretatu/.conda/envs/brainmodeling/lib/python3.6/site-packages/xarray/core/nanops.py:159: RuntimeWarning: Mean of empty slice\n",
      "  return np.nanmean(a, axis=axis, dtype=dtype)\n",
      "/om/user/gretatu/.conda/envs/brainmodeling/lib/python3.6/site-packages/brainscore/metrics/__init__.py:48: UserWarning: isel on raw values failed: ValueError(\"dimensions ['aggregation'] do not exist\",)\n",
      "  warnings.warn(f\"{operation} on raw values failed: {repr(e)}\")\n",
      "/om/user/gretatu/.conda/envs/brainmodeling/lib/python3.6/site-packages/brainscore/metrics/__init__.py:48: UserWarning: squeeze on raw values failed: KeyError('aggregation',)\n",
      "  warnings.warn(f\"{operation} on raw values failed: {repr(e)}\")\n",
      "/om/user/gretatu/.conda/envs/brainmodeling/lib/python3.6/site-packages/brainscore/metrics/__init__.py:48: UserWarning: isel on raw values failed: IndexError('Boolean array size 50628 is used to index array with shape (50647,).',)\n",
      "  warnings.warn(f\"{operation} on raw values failed: {repr(e)}\")\n"
     ]
    },
    {
     "name": "stdout",
     "output_type": "stream",
     "text": [
      "projection\n",
      "More than one unique atlas:  ['DMN' 'language']\n",
      "More than one unique atlas:  ['DMN' 'language']\n"
     ]
    },
    {
     "name": "stderr",
     "output_type": "stream",
     "text": [
      "/om/user/gretatu/.conda/envs/brainmodeling/lib/python3.6/site-packages/brainscore/metrics/__init__.py:48: UserWarning: isel on raw values failed: ValueError(\"dimensions ['aggregation'] do not exist\",)\n",
      "  warnings.warn(f\"{operation} on raw values failed: {repr(e)}\")\n",
      "/om/user/gretatu/.conda/envs/brainmodeling/lib/python3.6/site-packages/brainscore/metrics/__init__.py:48: UserWarning: squeeze on raw values failed: KeyError('aggregation',)\n",
      "  warnings.warn(f\"{operation} on raw values failed: {repr(e)}\")\n",
      "/om/user/gretatu/.conda/envs/brainmodeling/lib/python3.6/site-packages/xarray/core/nanops.py:159: RuntimeWarning: Mean of empty slice\n",
      "  return np.nanmean(a, axis=axis, dtype=dtype)\n",
      "/om/user/gretatu/.conda/envs/brainmodeling/lib/python3.6/site-packages/brainscore/metrics/__init__.py:48: UserWarning: isel on raw values failed: ValueError(\"dimensions ['aggregation'] do not exist\",)\n",
      "  warnings.warn(f\"{operation} on raw values failed: {repr(e)}\")\n",
      "/om/user/gretatu/.conda/envs/brainmodeling/lib/python3.6/site-packages/brainscore/metrics/__init__.py:48: UserWarning: squeeze on raw values failed: KeyError('aggregation',)\n",
      "  warnings.warn(f\"{operation} on raw values failed: {repr(e)}\")\n",
      "/om/user/gretatu/.conda/envs/brainmodeling/lib/python3.6/site-packages/brainscore/metrics/__init__.py:48: UserWarning: isel on raw values failed: IndexError('Boolean array size 50628 is used to index array with shape (50647,).',)\n",
      "  warnings.warn(f\"{operation} on raw values failed: {repr(e)}\")\n"
     ]
    },
    {
     "name": "stdout",
     "output_type": "stream",
     "text": [
      "projection\n",
      "More than one unique atlas:  ['DMN' 'language']\n",
      "More than one unique atlas:  ['DMN' 'language']\n"
     ]
    },
    {
     "data": {
      "image/png": "[encoded data removed]",
      "text/plain": [
       "<Figure size 576x576 with 1 Axes>"
      ]
     },
     "metadata": {},
     "output_type": "display_data"
    },
    {
     "data": {
      "image/png": "[encoded data removed]",
      "text/plain": [
       "<Figure size 576x576 with 1 Axes>"
      ]
     },
     "metadata": {},
     "output_type": "display_data"
    },
    {
     "data": {
      "image/png": "[encoded data removed]",
      "text/plain": [
       "<Figure size 576x576 with 1 Axes>"
      ]
     },
     "metadata": {},
     "output_type": "display_data"
    },
    {
     "data": {
      "image/png": "[encoded data removed]",
      "text/plain": [
       "<Figure size 576x576 with 1 Axes>"
      ]
     },
     "metadata": {},
     "output_type": "display_data"
    },
    {
     "data": {
      "image/png": "[encoded data removed]",
      "text/plain": [
       "<Figure size 576x576 with 1 Axes>"
      ]
     },
     "metadata": {},
     "output_type": "display_data"
    }
   ],
   "source": [
    "for subjectID in subjectIDs:\n",
    "    # Define variables and file names\n",
    "    timestamp = '{:%Y-%m-%d}'.format(datetime.datetime.now())\n",
    "    fname = score_name.split('=')\n",
    "    pngfile_name = subjectID + '_ROI_' + timestamp + fname[1][:-5] + fname[2][:-10] + '.pdf'\n",
    "    pngfile_name = pngfile_name.replace(',', '_')\n",
    "    pngfile_name = pngfile_name.replace('-', '_')\n",
    "\n",
    "    workbook_name = subjectID + '_stats_' + timestamp + '_' + fname[2][:-10] + '.xlsx'\n",
    "\n",
    "    pngfile_name2 = subjectID + '_Network_' + timestamp + '_' + fname[1][:-5] + fname[2][:-10] + '.pdf'\n",
    "    pngfile_name2 = pngfile_name2.replace(',', '_')\n",
    "    pngfile_name2 = pngfile_name2.replace('-', '_')\n",
    "\n",
    "    fname = score_name.split('=')\n",
    "    matfile_name = subjectID + '_' + fname[1][:-5] + fname[2][:-10] + '.mat'\n",
    "    matfile_name = matfile_name.replace(',', '_')\n",
    "    matfile_name = matfile_name.replace('-', '_')\n",
    "    \n",
    "    b=bestLangLayer(score)\n",
    "    o=meanSplitExp(score)\n",
    "    o1=freezeBestLangLayer(o,b)\n",
    "    o2=extractSubject(o1,subjectID)\n",
    "    o3=sortBy(o2)\n",
    "    o4=removeNaNs(o3)\n",
    "    o5=getUniqueNeuroIDs(o4)\n",
    "    \n",
    "    c=getCenter(ceil)\n",
    "    c1=extractSubject(c,subjectID)\n",
    "    c2=sortBy(c1)\n",
    "    c3=getUniqueNeuroIDs(c2)\n",
    "    \n",
    "    assertCeiling(o5,c3)\n",
    "    o6,c4=dropDMN(o5,c3)\n",
    "    assertCeiling(o6,c4)\n",
    "    \n",
    "    d1=getROIs(o6,c4,filename=matfile_name)\n",
    "    \n",
    "    bars,err,names=writeStats(d1, names_ordered_lang, workbook_name)\n",
    "    plotBars(bars,err,names,colors,model,pngfile_name,subjectID)\n"
   ]
  },
  {
   "cell_type": "markdown",
   "metadata": {},
   "source": [
    "## Sanity checking the pipeline"
   ]
  },
  {
   "cell_type": "code",
   "execution_count": 18,
   "metadata": {},
   "outputs": [],
   "source": [
    "# For one subject:\n",
    "subjectID = '288'"
   ]
  },
  {
   "cell_type": "code",
   "execution_count": 19,
   "metadata": {},
   "outputs": [],
   "source": [
    "# Define variables and file names\n",
    "timestamp = '{:%Y-%m-%d}'.format(datetime.datetime.now())\n",
    "fname = score_name.split('=')\n",
    "pngfile_name = subjectID + '_test_ROI_' + timestamp + fname[1][:-5] + fname[2][:-10] + '.pdf'\n",
    "pngfile_name = pngfile_name.replace(',', '_')\n",
    "pngfile_name = pngfile_name.replace('-', '_')\n",
    "\n",
    "workbook_name = subjectID + '_test_stats_' + timestamp + '_' + fname[2][:-10] + '.xlsx'\n",
    "\n",
    "pngfile_name2 = subjectID + '_test_Network_' + timestamp + '_' + fname[1][:-5] + fname[2][:-10] + '.pdf'\n",
    "pngfile_name2 = pngfile_name2.replace(',', '_')\n",
    "pngfile_name2 = pngfile_name2.replace('-', '_')\n",
    "\n",
    "fname = score_name.split('=')\n",
    "matfile_name = subjectID + '_' + fname[1][:-5] + fname[2][:-10] + '.mat'\n",
    "matfile_name = matfile_name.replace(',', '_')\n",
    "matfile_name = matfile_name.replace('-', '_')"
   ]
  },
  {
   "cell_type": "code",
   "execution_count": 20,
   "metadata": {},
   "outputs": [
    {
     "data": {
      "text/plain": [
       "'288_Pereira2018_encoding_gpt2_xl.mat'"
      ]
     },
     "execution_count": 20,
     "metadata": {},
     "output_type": "execute_result"
    }
   ],
   "source": [
    "matfile_name"
   ]
  },
  {
   "cell_type": "code",
   "execution_count": 21,
   "metadata": {},
   "outputs": [
    {
     "name": "stderr",
     "output_type": "stream",
     "text": [
      "/om/user/gretatu/.conda/envs/brainmodeling/lib/python3.6/site-packages/brainscore/metrics/__init__.py:48: UserWarning: isel on raw values failed: ValueError(\"dimensions ['aggregation'] do not exist\",)\n",
      "  warnings.warn(f\"{operation} on raw values failed: {repr(e)}\")\n",
      "/om/user/gretatu/.conda/envs/brainmodeling/lib/python3.6/site-packages/brainscore/metrics/__init__.py:48: UserWarning: squeeze on raw values failed: KeyError('aggregation',)\n",
      "  warnings.warn(f\"{operation} on raw values failed: {repr(e)}\")\n"
     ]
    },
    {
     "name": "stdout",
     "output_type": "stream",
     "text": [
      "encoder.h.43\n"
     ]
    },
    {
     "name": "stderr",
     "output_type": "stream",
     "text": [
      "/om/user/gretatu/.conda/envs/brainmodeling/lib/python3.6/site-packages/xarray/core/nanops.py:159: RuntimeWarning: Mean of empty slice\n",
      "  return np.nanmean(a, axis=axis, dtype=dtype)\n"
     ]
    },
    {
     "data": {
      "text/plain": [
       "<xarray.Score (layer: 49, neuroid: 102880)>\n",
       "array([[ 0.016596, -0.022679, -0.032394, ..., -0.024181, -0.06163 , -0.009732],\n",
       "       [ 0.173553,  0.206669,  0.205365, ...,  0.016751,  0.037879,  0.264404],\n",
       "       [ 0.227677,  0.241866,  0.255495, ...,  0.110407,  0.153849,  0.339121],\n",
       "       ...,\n",
       "       [ 0.314116,  0.320052,  0.283787, ...,  0.193317,  0.248321,  0.421078],\n",
       "       [ 0.310855,  0.315696,  0.285951, ...,  0.194683,  0.251016,  0.423057],\n",
       "       [ 0.307537,  0.315518,  0.291283, ...,  0.185806,  0.246282,  0.42345 ]])\n",
       "Coordinates:\n",
       "  * layer            (layer) object 'drop' 'encoder.h.0' ... 'encoder.h.47'\n",
       "  * neuroid          (neuroid) MultiIndex\n",
       "  - subject          (neuroid) object '018' '018' '018' ... '018' '018' '018'\n",
       "  - voxel_num        (neuroid) int64 28 29 31 32 38 42 ... 152 153 154 159 160\n",
       "  - filter_strategy  (neuroid) object nan nan nan nan nan ... nan nan nan nan\n",
       "  - atlas_selection  (neuroid) object 'from90to100prcnt' ... 'from90to100prcnt'\n",
       "  - roi              (neuroid) object 'LH_AntTemp' 'LH_AntTemp' ... 'LH_AntTemp'\n",
       "  - indices_in_3d    (neuroid) int64 72505 72506 72584 ... 87754 87831 87832\n",
       "  - col_to_coord_1   (neuroid) int64 62 63 62 63 63 63 63 ... 65 62 63 64 62 63\n",
       "  - col_to_coord_2   (neuroid) int64 63 63 64 64 65 66 63 ... 65 66 66 66 67 67\n",
       "  - col_to_coord_3   (neuroid) int64 10 10 10 10 10 10 11 ... 12 12 12 12 12 12\n",
       "  - neuroid_id       (neuroid) object '018.28' '018.29' ... '018.159' '018.160'\n",
       "  - atlas            (neuroid) object 'language' 'language' ... 'language'"
      ]
     },
     "execution_count": 21,
     "metadata": {},
     "output_type": "execute_result"
    }
   ],
   "source": [
    "b=bestLangLayer(score)\n",
    "o=meanSplitExp(score)\n",
    "o"
   ]
  },
  {
   "cell_type": "code",
   "execution_count": 22,
   "metadata": {},
   "outputs": [
    {
     "data": {
      "text/plain": [
       "<xarray.Score (neuroid: 102880)>\n",
       "array([0.314565, 0.31357 , 0.288955, ..., 0.220157, 0.272854, 0.426872])\n",
       "Coordinates:\n",
       "    layer            <U12 'encoder.h.43'\n",
       "  * neuroid          (neuroid) MultiIndex\n",
       "  - subject          (neuroid) object '018' '018' '018' ... '018' '018' '018'\n",
       "  - voxel_num        (neuroid) int64 28 29 31 32 38 42 ... 152 153 154 159 160\n",
       "  - filter_strategy  (neuroid) object nan nan nan nan nan ... nan nan nan nan\n",
       "  - atlas_selection  (neuroid) object 'from90to100prcnt' ... 'from90to100prcnt'\n",
       "  - roi              (neuroid) object 'LH_AntTemp' 'LH_AntTemp' ... 'LH_AntTemp'\n",
       "  - indices_in_3d    (neuroid) int64 72505 72506 72584 ... 87754 87831 87832\n",
       "  - col_to_coord_1   (neuroid) int64 62 63 62 63 63 63 63 ... 65 62 63 64 62 63\n",
       "  - col_to_coord_2   (neuroid) int64 63 63 64 64 65 66 63 ... 65 66 66 66 67 67\n",
       "  - col_to_coord_3   (neuroid) int64 10 10 10 10 10 10 11 ... 12 12 12 12 12 12\n",
       "  - neuroid_id       (neuroid) object '018.28' '018.29' ... '018.159' '018.160'\n",
       "  - atlas            (neuroid) object 'language' 'language' ... 'language'"
      ]
     },
     "execution_count": 22,
     "metadata": {},
     "output_type": "execute_result"
    }
   ],
   "source": [
    "o1=freezeBestLangLayer(o,b) # Extract best layer\n",
    "o1"
   ]
  },
  {
   "cell_type": "code",
   "execution_count": 23,
   "metadata": {},
   "outputs": [
    {
     "data": {
      "text/plain": [
       "<xarray.Score (neuroid: 10581)>\n",
       "array([0.357969, 0.317871, 0.364419, ..., 0.318637, 0.327497, 0.335158])\n",
       "Coordinates:\n",
       "    layer            <U12 'encoder.h.43'\n",
       "  * neuroid          (neuroid) MultiIndex\n",
       "  - subject          (neuroid) object '288' '288' '288' ... '288' '288' '288'\n",
       "  - voxel_num        (neuroid) int64 1 10000 10001 10002 ... 10026 10027 10028\n",
       "  - filter_strategy  (neuroid) object nan nan nan nan nan ... nan nan nan nan\n",
       "  - atlas_selection  (neuroid) object 'from90to100prcnt' ... 'from90to100prcnt'\n",
       "  - roi              (neuroid) object 'RH_AntTemp' 'RH_TE11' ... 'LH_TE11'\n",
       "  - indices_in_3d    (neuroid) int64 57530 243421 243456 ... 243615 243616\n",
       "  - col_to_coord_1   (neuroid) int64 18 22 57 58 59 60 61 ... 22 23 56 57 58 59\n",
       "  - col_to_coord_2   (neuroid) int64 64 42 42 42 42 42 42 ... 44 44 44 44 44 44\n",
       "  - col_to_coord_3   (neuroid) int64 8 33 33 33 33 33 33 ... 33 33 33 33 33 33\n",
       "  - neuroid_id       (neuroid) object '288.1' '288.10000' ... '288.10028'\n",
       "  - atlas            (neuroid) object 'language' 'auditory' ... 'auditory'"
      ]
     },
     "execution_count": 23,
     "metadata": {},
     "output_type": "execute_result"
    }
   ],
   "source": [
    "o2=extractSubject(o1,subjectID)\n",
    "o3=sortBy(o2)\n",
    "o3"
   ]
  },
  {
   "cell_type": "code",
   "execution_count": 24,
   "metadata": {},
   "outputs": [
    {
     "data": {
      "text/plain": [
       "<xarray.Score (neuroid: 10235)>\n",
       "array([0.357969, 0.317871, 0.364419, ..., 0.318637, 0.327497, 0.335158])\n",
       "Coordinates:\n",
       "    layer            <U12 'encoder.h.43'\n",
       "  * neuroid          (neuroid) MultiIndex\n",
       "  - subject          (neuroid) object '288' '288' '288' ... '288' '288' '288'\n",
       "  - voxel_num        (neuroid) int64 1 10000 10001 10002 ... 10026 10027 10028\n",
       "  - filter_strategy  (neuroid) object nan nan nan nan nan ... nan nan nan nan\n",
       "  - atlas_selection  (neuroid) object 'from90to100prcnt' ... 'from90to100prcnt'\n",
       "  - roi              (neuroid) object 'RH_AntTemp' 'RH_TE11' ... 'LH_TE11'\n",
       "  - indices_in_3d    (neuroid) int64 57530 243421 243456 ... 243615 243616\n",
       "  - col_to_coord_1   (neuroid) int64 18 22 57 58 59 60 61 ... 22 23 56 57 58 59\n",
       "  - col_to_coord_2   (neuroid) int64 64 42 42 42 42 42 42 ... 44 44 44 44 44 44\n",
       "  - col_to_coord_3   (neuroid) int64 8 33 33 33 33 33 33 ... 33 33 33 33 33 33\n",
       "  - neuroid_id       (neuroid) object '288.1' '288.10000' ... '288.10028'\n",
       "  - atlas            (neuroid) object 'language' 'auditory' ... 'auditory'"
      ]
     },
     "execution_count": 24,
     "metadata": {},
     "output_type": "execute_result"
    }
   ],
   "source": [
    "o4=removeNaNs(o3)\n",
    "o5=getUniqueNeuroIDs(o4) # Gets unique neuroIDs - gets assigned to language (great, this is the one we are interested in)\n",
    "o5"
   ]
  },
  {
   "cell_type": "code",
   "execution_count": 25,
   "metadata": {},
   "outputs": [
    {
     "name": "stderr",
     "output_type": "stream",
     "text": [
      "/om/user/gretatu/.conda/envs/brainmodeling/lib/python3.6/site-packages/brainscore/metrics/__init__.py:48: UserWarning: isel on raw values failed: ValueError(\"dimensions ['aggregation'] do not exist\",)\n",
      "  warnings.warn(f\"{operation} on raw values failed: {repr(e)}\")\n",
      "/om/user/gretatu/.conda/envs/brainmodeling/lib/python3.6/site-packages/brainscore/metrics/__init__.py:48: UserWarning: squeeze on raw values failed: KeyError('aggregation',)\n",
      "  warnings.warn(f\"{operation} on raw values failed: {repr(e)}\")\n",
      "/om/user/gretatu/.conda/envs/brainmodeling/lib/python3.6/site-packages/brainscore/metrics/__init__.py:48: UserWarning: isel on raw values failed: IndexError('Boolean array size 50628 is used to index array with shape (50647,).',)\n",
      "  warnings.warn(f\"{operation} on raw values failed: {repr(e)}\")\n"
     ]
    },
    {
     "data": {
      "text/plain": [
       "<xarray.Score (neuroid: 10581)>\n",
       "array([0.3691  , 0.315095, 0.287205, ..., 0.375212, 0.36408 , 0.360292])\n",
       "Coordinates:\n",
       "    aggregation      <U10 'center'\n",
       "  * neuroid          (neuroid) MultiIndex\n",
       "  - subject          (neuroid) object '288' '288' '288' ... '288' '288' '288'\n",
       "  - voxel_num        (neuroid) int64 1 16 29 42 49 69 ... 280 283 284 285 289\n",
       "  - filter_strategy  (neuroid) object nan nan nan nan nan ... nan nan nan nan\n",
       "  - atlas_selection  (neuroid) object 'from90to100prcnt' ... 'from90to100prcnt'\n",
       "  - roi              (neuroid) object 'RH_AntTemp' 'RH_AntTemp' ... 'LH_AntTemp'\n",
       "  - indices_in_3d    (neuroid) int64 57530 65115 72461 ... 102448 102449 102526\n",
       "  - col_to_coord_1   (neuroid) int64 18 19 18 19 19 17 18 ... 65 66 63 64 65 63\n",
       "  - col_to_coord_2   (neuroid) int64 64 65 63 65 66 63 63 ... 61 61 62 62 62 63\n",
       "  - col_to_coord_3   (neuroid) int64 8 9 10 10 10 11 11 ... 14 14 14 14 14 14 14\n",
       "  - neuroid_id       (neuroid) object '288.1' '288.16' ... '288.285' '288.289'\n",
       "  - atlas            (neuroid) object 'language' 'language' ... 'language'\n",
       "Attributes:\n",
       "    raw:                  <xarray.Score (sub_subject: 106, num_subjects: 8, s...\n",
       "    bootstrapped_params:  <xarray.DataAssembly (neuroid: 50628, bootstrap: 10...\n",
       "    endpoint_x:           <xarray.DataAssembly (neuroid: 50628)>\\narray([10, ..."
      ]
     },
     "execution_count": 25,
     "metadata": {},
     "output_type": "execute_result"
    }
   ],
   "source": [
    "c=getCenter(ceil)\n",
    "c1=extractSubject(c,subjectID)\n",
    "c1"
   ]
  },
  {
   "cell_type": "code",
   "execution_count": 26,
   "metadata": {},
   "outputs": [],
   "source": [
    "c2=sortBy(c1)\n",
    "c3=getUniqueNeuroIDs(c2)"
   ]
  },
  {
   "cell_type": "code",
   "execution_count": 27,
   "metadata": {},
   "outputs": [],
   "source": [
    "assertCeiling(o5,c3)"
   ]
  },
  {
   "cell_type": "code",
   "execution_count": 29,
   "metadata": {},
   "outputs": [
    {
     "name": "stdout",
     "output_type": "stream",
     "text": [
      "More than one unique atlas:  ['DMN' 'language']\n",
      "More than one unique atlas:  ['DMN' 'language']\n"
     ]
    }
   ],
   "source": [
    "o6,c4=dropDMN(o5,c3)"
   ]
  },
  {
   "cell_type": "code",
   "execution_count": 30,
   "metadata": {},
   "outputs": [],
   "source": [
    "assertCeiling(o6,c4)\n",
    "atlas='language'"
   ]
  },
  {
   "cell_type": "code",
   "execution_count": null,
   "metadata": {},
   "outputs": [],
   "source": [
    "# d1=getROIs(o6,c4,filename=matfile_name)\n",
    "# Running all the stuff in above function, to check:\n",
    "roi_names_all = obj.roi.values\n",
    "roi_names = np.unique(roi_names_all)\n",
    "\n",
    "roi_atlas = obj.roi[{'neuroid': [l == atlas for l in obj['atlas'].values]}].values\n",
    "roi_atlas_u = np.unique(roi_atlas)\n",
    "\n",
    "SPM_dim = (79,95,69)\n",
    "\n",
    "# Create empty brain matrix\n",
    "brain = np.empty(SPM_dim) # The original data dimensions from that particular subject\n",
    "brain[:] = np.nan\n",
    "\n",
    "assert set(obj.roi.values)==set(cobj.roi.values)\n",
    "\n",
    "d = {}\n",
    "for roiID in roi_atlas_u:\n",
    "    roi = obj[{'neuroid': [roi == roiID for roi in obj['roi'].values]}]\n",
    "    cobj_roi = cobj[{'neuroid': [roi == roiID for roi in cobj['roi'].values]}]\n",
    "\n",
    "    unique_atlas = np.unique(roi.atlas.values)\n",
    "\n",
    "    assert len(unique_atlas) == 1\n",
    "\n",
    "    # Ceil by median ROI val\n",
    "    cobj_roi_med = cobj_roi.median().values\n",
    "    c_vals = roi/cobj_roi_med\n",
    "\n",
    "    # Not ceiled\n",
    "    roi_mean = roi.mean().values\n",
    "    roi_med = roi.median().values\n",
    "\n",
    "    roi_std = roi.std().values\n",
    "    roi_sem = roi_std/np.sqrt(len(roi.values))\n",
    "\n",
    "    roi_mad = stats.median_absolute_deviation(roi)\n",
    "    roi_mad_m = roi_mad/np.sqrt(len(roi.values))\n",
    "\n",
    "    # Ceiled\n",
    "    croi_med = c_vals.median().values\n",
    "    croi_mad = stats.median_absolute_deviation(c_vals)\n",
    "    croi_mad_m = croi_mad/np.sqrt(len(c_vals.values))"
   ]
  },
  {
   "cell_type": "code",
   "execution_count": 32,
   "metadata": {},
   "outputs": [],
   "source": [
    "obj = o6\n",
    "cobj = c4"
   ]
  },
  {
   "cell_type": "code",
   "execution_count": 33,
   "metadata": {},
   "outputs": [
    {
     "data": {
      "text/plain": [
       "array(['LH_AngG', 'LH_AntTemp', 'LH_FrontalMed', 'LH_IFG', 'LH_IFGorb',\n",
       "       'LH_MFG', 'LH_MidCing', 'LH_OccipInf', 'LH_OccipMid',\n",
       "       'LH_OccipSup', 'LH_PostCing', 'LH_PostTemp',\n",
       "       'LH_Precental_B_IFGop', 'LH_Precentral_A_PrecG', 'LH_STGorInsula',\n",
       "       'LH_TE11', 'LH_TE12', 'LH_TPJ', 'LH_antParietal', 'LH_insula',\n",
       "       'LH_medialFrontal', 'LH_midFrontal', 'LH_midFrontalOrb',\n",
       "       'LH_midParietal', 'LH_postParietal', 'LH_supFrontal', 'RH_AngG',\n",
       "       'RH_AntTemp', 'RH_FrontalMed', 'RH_IFG', 'RH_IFGorb', 'RH_MFG',\n",
       "       'RH_MidCing', 'RH_OccipInf', 'RH_OccipMid', 'RH_OccipSup',\n",
       "       'RH_PostCing', 'RH_PostTemp', 'RH_Precental_B_IFGop',\n",
       "       'RH_Precentral_A_PrecG', 'RH_STGorInsula', 'RH_TE11', 'RH_TE12',\n",
       "       'RH_TPJ', 'RH_antParietal', 'RH_insula', 'RH_medialFrontal',\n",
       "       'RH_midFrontal', 'RH_midFrontalOrb', 'RH_midParietal',\n",
       "       'RH_postParietal', 'RH_supFrontal'], dtype=object)"
      ]
     },
     "execution_count": 33,
     "metadata": {},
     "output_type": "execute_result"
    }
   ],
   "source": [
    "roi_names_all = obj.roi.values\n",
    "roi_names = np.unique(roi_names_all)\n",
    "\n",
    "roi_names"
   ]
  },
  {
   "cell_type": "code",
   "execution_count": 36,
   "metadata": {},
   "outputs": [
    {
     "data": {
      "text/plain": [
       "array(['LH_AngG', 'LH_AntTemp', 'LH_IFG', 'LH_IFGorb', 'LH_MFG',\n",
       "       'LH_PostTemp', 'RH_AngG', 'RH_AntTemp', 'RH_IFG', 'RH_IFGorb',\n",
       "       'RH_MFG', 'RH_PostTemp'], dtype=object)"
      ]
     },
     "execution_count": 36,
     "metadata": {},
     "output_type": "execute_result"
    }
   ],
   "source": [
    "roi_atlas = obj.roi[{'neuroid': [l == atlas for l in obj['atlas'].values]}].values\n",
    "roi_atlas_u = np.unique(roi_atlas)\n",
    "\n",
    "roi_atlas_u"
   ]
  },
  {
   "cell_type": "code",
   "execution_count": 37,
   "metadata": {},
   "outputs": [],
   "source": [
    "assert set(obj.roi.values)==set(cobj.roi.values)\n"
   ]
  },
  {
   "cell_type": "code",
   "execution_count": 39,
   "metadata": {},
   "outputs": [
    {
     "name": "stdout",
     "output_type": "stream",
     "text": [
      "LH_AngG\n"
     ]
    }
   ],
   "source": [
    "roiID = roi_atlas_u[0] # test with the first ROI\n",
    "print(roiID)"
   ]
  },
  {
   "cell_type": "code",
   "execution_count": 40,
   "metadata": {},
   "outputs": [
    {
     "data": {
      "text/plain": [
       "<xarray.DataArray (neuroid: 64)>\n",
       "array([0.358395, 0.360885, 0.242042, 0.204832, 0.210527, 0.280089, 0.277426,\n",
       "       0.280882, 0.345861, 0.360247, 0.22395 , 0.195325, 0.198404, 0.210925,\n",
       "       0.289423, 0.273528, 0.276834, 0.283263, 0.294808, 0.383073, 0.368613,\n",
       "       0.34728 , 0.343331, 0.352754, 0.205339, 0.201795, 0.191441, 0.202553,\n",
       "       0.239335, 0.260958, 0.279211, 0.303179, 0.30246 , 0.299034, 0.314179,\n",
       "       0.359855, 0.348515, 0.355039, 0.193757, 0.217052, 0.224978, 0.239806,\n",
       "       0.244388, 0.265023, 0.283312, 0.305262, 0.28171 , 0.296313, 0.312393,\n",
       "       0.320825, 0.347104, 0.319847, 0.337521, 0.246558, 0.270656, 0.265839,\n",
       "       0.301261, 0.322632, 0.270207, 0.297157, 0.317253, 0.353437, 0.294178,\n",
       "       0.373618])\n",
       "Coordinates:\n",
       "    layer            <U12 'encoder.h.43'\n",
       "  * neuroid          (neuroid) MultiIndex\n",
       "  - subject          (neuroid) object '288' '288' '288' ... '288' '288' '288'\n",
       "  - voxel_num        (neuroid) int64 10560 11344 11356 ... 12933 12934 12935\n",
       "  - filter_strategy  (neuroid) object nan nan nan nan nan ... nan nan nan nan\n",
       "  - atlas_selection  (neuroid) object 'from90to100prcnt' ... 'from90to100prcnt'\n",
       "  - roi              (neuroid) object 'LH_AngG' 'LH_AngG' ... 'LH_AngG'\n",
       "  - indices_in_3d    (neuroid) int64 249308 256813 256971 ... 272059 272060\n",
       "  - col_to_coord_1   (neuroid) int64 63 63 63 62 63 60 61 ... 62 63 60 61 62 63\n",
       "  - col_to_coord_2   (neuroid) int64 21 21 23 24 24 25 25 ... 23 23 24 24 24 24\n",
       "  - col_to_coord_3   (neuroid) int64 34 35 35 35 35 35 35 ... 37 37 37 37 37 37\n",
       "  - neuroid_id       (neuroid) object '288.10560' '288.11344' ... '288.12935'\n",
       "  - atlas            (neuroid) object 'language' 'language' ... 'language'"
      ]
     },
     "execution_count": 40,
     "metadata": {},
     "output_type": "execute_result"
    }
   ],
   "source": [
    "roi = obj[{'neuroid': [roi == roiID for roi in obj['roi'].values]}]\n",
    "cobj_roi = cobj[{'neuroid': [roi == roiID for roi in cobj['roi'].values]}]\n",
    "\n",
    "roi # ROI values, not ceiled"
   ]
  },
  {
   "cell_type": "code",
   "execution_count": 41,
   "metadata": {},
   "outputs": [
    {
     "data": {
      "text/plain": [
       "<xarray.DataArray (neuroid: 64)>\n",
       "array([0.31265 , 0.300778, 0.226217, 0.221555, 0.190603, 0.310518, 0.281957,\n",
       "       0.269448, 0.321433, 0.311319, 0.189037, 0.21439 , 0.20748 , 0.20254 ,\n",
       "       0.267045, 0.287816, 0.282491, 0.281971, 0.289111, 0.323781, 0.351301,\n",
       "       0.336173, 0.321872, 0.332195, 0.188731, 0.163857, 0.193611, 0.200589,\n",
       "       0.220186, 0.242302, 0.253967, 0.262382, 0.293037, 0.287434, 0.304293,\n",
       "       0.286163, 0.335706, 0.342609, 0.193801, 0.186243, 0.181685, 0.198282,\n",
       "       0.218175, 0.232154, 0.243689, 0.270842, 0.225767, 0.261121, 0.283989,\n",
       "       0.297241, 0.319011, 0.275028, 0.305238, 0.228853, 0.232897, 0.235829,\n",
       "       0.253601, 0.270901, 0.227689, 0.257543, 0.281394, 0.303901, 0.262661,\n",
       "       0.329713])\n",
       "Coordinates:\n",
       "    aggregation      <U10 'center'\n",
       "  * neuroid          (neuroid) MultiIndex\n",
       "  - subject          (neuroid) object '288' '288' '288' ... '288' '288' '288'\n",
       "  - voxel_num        (neuroid) int64 10560 11344 11356 ... 12933 12934 12935\n",
       "  - filter_strategy  (neuroid) object nan nan nan nan nan ... nan nan nan nan\n",
       "  - atlas_selection  (neuroid) object 'from90to100prcnt' ... 'from90to100prcnt'\n",
       "  - roi              (neuroid) object 'LH_AngG' 'LH_AngG' ... 'LH_AngG'\n",
       "  - indices_in_3d    (neuroid) int64 249308 256813 256971 ... 272059 272060\n",
       "  - col_to_coord_1   (neuroid) int64 63 63 63 62 63 60 61 ... 62 63 60 61 62 63\n",
       "  - col_to_coord_2   (neuroid) int64 21 21 23 24 24 25 25 ... 23 23 24 24 24 24\n",
       "  - col_to_coord_3   (neuroid) int64 34 35 35 35 35 35 35 ... 37 37 37 37 37 37\n",
       "  - neuroid_id       (neuroid) object '288.10560' '288.11344' ... '288.12935'\n",
       "  - atlas            (neuroid) object 'language' 'language' ... 'language'\n",
       "Attributes:\n",
       "    raw:                  <xarray.Score (sub_subject: 106, num_subjects: 8, s...\n",
       "    bootstrapped_params:  <xarray.DataAssembly (neuroid: 50628, bootstrap: 10...\n",
       "    endpoint_x:           <xarray.DataAssembly (neuroid: 50628)>\\narray([10, ..."
      ]
     },
     "execution_count": 41,
     "metadata": {},
     "output_type": "execute_result"
    }
   ],
   "source": [
    "cobj_roi # ceiling values for that ROI"
   ]
  },
  {
   "cell_type": "code",
   "execution_count": 42,
   "metadata": {},
   "outputs": [],
   "source": [
    "unique_atlas = np.unique(roi.atlas.values)\n",
    "\n",
    "assert len(unique_atlas) == 1\n"
   ]
  },
  {
   "cell_type": "code",
   "execution_count": 43,
   "metadata": {},
   "outputs": [],
   "source": [
    "# Ceil by median ROI val\n",
    "cobj_roi_med = cobj_roi.median().values # Find the median over the ceiling ROI\n",
    "c_vals = roi/cobj_roi_med"
   ]
  },
  {
   "cell_type": "code",
   "execution_count": 44,
   "metadata": {},
   "outputs": [
    {
     "data": {
      "text/plain": [
       "<xarray.DataArray (neuroid: 64)>\n",
       "array([1.336066, 1.345347, 0.90231 , 0.763598, 0.784826, 1.044146, 1.034222,\n",
       "       1.047102, 1.289339, 1.34297 , 0.834867, 0.728153, 0.739632, 0.786308,\n",
       "       1.078942, 1.01969 , 1.032012, 1.05598 , 1.099019, 1.428063, 1.374157,\n",
       "       1.294632, 1.279908, 1.315036, 0.765488, 0.752276, 0.713675, 0.7551  ,\n",
       "       0.892219, 0.972827, 1.040873, 1.130226, 1.127544, 1.114774, 1.171234,\n",
       "       1.341507, 1.299232, 1.323557, 0.722309, 0.809153, 0.8387  , 0.893975,\n",
       "       0.911059, 0.987981, 1.056161, 1.13799 , 1.050189, 1.104628, 1.164574,\n",
       "       1.196008, 1.293975, 1.192363, 1.258249, 0.919146, 1.008981, 0.991024,\n",
       "       1.123076, 1.202745, 1.00731 , 1.107777, 1.182693, 1.317584, 1.096671,\n",
       "       1.392814])\n",
       "Coordinates:\n",
       "    layer            <U12 'encoder.h.43'\n",
       "  * neuroid          (neuroid) MultiIndex\n",
       "  - subject          (neuroid) object '288' '288' '288' ... '288' '288' '288'\n",
       "  - voxel_num        (neuroid) int64 10560 11344 11356 ... 12933 12934 12935\n",
       "  - filter_strategy  (neuroid) object nan nan nan nan nan ... nan nan nan nan\n",
       "  - atlas_selection  (neuroid) object 'from90to100prcnt' ... 'from90to100prcnt'\n",
       "  - roi              (neuroid) object 'LH_AngG' 'LH_AngG' ... 'LH_AngG'\n",
       "  - indices_in_3d    (neuroid) int64 249308 256813 256971 ... 272059 272060\n",
       "  - col_to_coord_1   (neuroid) int64 63 63 63 62 63 60 61 ... 62 63 60 61 62 63\n",
       "  - col_to_coord_2   (neuroid) int64 21 21 23 24 24 25 25 ... 23 23 24 24 24 24\n",
       "  - col_to_coord_3   (neuroid) int64 34 35 35 35 35 35 35 ... 37 37 37 37 37 37\n",
       "  - neuroid_id       (neuroid) object '288.10560' '288.11344' ... '288.12935'\n",
       "  - atlas            (neuroid) object 'language' 'language' ... 'language'"
      ]
     },
     "execution_count": 44,
     "metadata": {},
     "output_type": "execute_result"
    }
   ],
   "source": [
    "c_vals"
   ]
  },
  {
   "cell_type": "code",
   "execution_count": 46,
   "metadata": {},
   "outputs": [
    {
     "data": {
      "text/plain": [
       "1.3360657902133877"
      ]
     },
     "execution_count": 46,
     "metadata": {},
     "output_type": "execute_result"
    }
   ],
   "source": [
    "# Double check the ceiling computation:\n",
    "0.358395/cobj_roi_med # raw divided by ROI ceiling val (MEDIAN)"
   ]
  },
  {
   "cell_type": "code",
   "execution_count": 47,
   "metadata": {},
   "outputs": [],
   "source": [
    "# Not ceiled\n",
    "roi_mean = roi.mean().values\n",
    "roi_med = roi.median().values\n",
    "\n",
    "roi_std = roi.std().values\n",
    "roi_sem = roi_std/np.sqrt(len(roi.values))\n",
    "\n",
    "roi_mad = stats.median_absolute_deviation(roi)\n",
    "roi_mad_m = roi_mad/np.sqrt(len(roi.values))"
   ]
  },
  {
   "cell_type": "code",
   "execution_count": 51,
   "metadata": {},
   "outputs": [
    {
     "data": {
      "text/plain": [
       "array(1.06755191)"
      ]
     },
     "execution_count": 51,
     "metadata": {},
     "output_type": "execute_result"
    }
   ],
   "source": [
    "# Ceiled\n",
    "croi_med = c_vals.median().values # median over the ceiled ROI values\n",
    "croi_mad = stats.median_absolute_deviation(c_vals) # m.a.d\n",
    "croi_mad_m = croi_mad/np.sqrt(len(c_vals.values))\n",
    "\n",
    "croi_med"
   ]
  },
  {
   "cell_type": "code",
   "execution_count": 49,
   "metadata": {},
   "outputs": [],
   "source": [
    "# All these values are added to a dict:\n",
    "d = {}\n",
    "d[roiID + '_save'] = [roi_mean, roi_med, roi_std, roi_sem, roi_mad, roi_mad_m, \\\n",
    "                              croi_med, croi_mad, croi_mad_m, cobj_roi_med, \n",
    "                              len(c_vals.values), c_vals]"
   ]
  },
  {
   "cell_type": "code",
   "execution_count": 50,
   "metadata": {},
   "outputs": [
    {
     "data": {
      "text/plain": [
       "{'LH_AngG_save': [array(0.28636991),\n",
       "  array(0.28636708),\n",
       "  array(0.0536795),\n",
       "  0.006709937513763667,\n",
       "  0.0639773961513377,\n",
       "  0.007997174518917212,\n",
       "  array(1.06755191),\n",
       "  0.2385022401114188,\n",
       "  0.02981278001392735,\n",
       "  array(0.26824652),\n",
       "  64,\n",
       "  <xarray.DataArray (neuroid: 64)>\n",
       "  array([1.336066, 1.345347, 0.90231 , 0.763598, 0.784826, 1.044146, 1.034222,\n",
       "         1.047102, 1.289339, 1.34297 , 0.834867, 0.728153, 0.739632, 0.786308,\n",
       "         1.078942, 1.01969 , 1.032012, 1.05598 , 1.099019, 1.428063, 1.374157,\n",
       "         1.294632, 1.279908, 1.315036, 0.765488, 0.752276, 0.713675, 0.7551  ,\n",
       "         0.892219, 0.972827, 1.040873, 1.130226, 1.127544, 1.114774, 1.171234,\n",
       "         1.341507, 1.299232, 1.323557, 0.722309, 0.809153, 0.8387  , 0.893975,\n",
       "         0.911059, 0.987981, 1.056161, 1.13799 , 1.050189, 1.104628, 1.164574,\n",
       "         1.196008, 1.293975, 1.192363, 1.258249, 0.919146, 1.008981, 0.991024,\n",
       "         1.123076, 1.202745, 1.00731 , 1.107777, 1.182693, 1.317584, 1.096671,\n",
       "         1.392814])\n",
       "  Coordinates:\n",
       "      layer            <U12 'encoder.h.43'\n",
       "    * neuroid          (neuroid) MultiIndex\n",
       "    - subject          (neuroid) object '288' '288' '288' ... '288' '288' '288'\n",
       "    - voxel_num        (neuroid) int64 10560 11344 11356 ... 12933 12934 12935\n",
       "    - filter_strategy  (neuroid) object nan nan nan nan nan ... nan nan nan nan\n",
       "    - atlas_selection  (neuroid) object 'from90to100prcnt' ... 'from90to100prcnt'\n",
       "    - roi              (neuroid) object 'LH_AngG' 'LH_AngG' ... 'LH_AngG'\n",
       "    - indices_in_3d    (neuroid) int64 249308 256813 256971 ... 272059 272060\n",
       "    - col_to_coord_1   (neuroid) int64 63 63 63 62 63 60 61 ... 62 63 60 61 62 63\n",
       "    - col_to_coord_2   (neuroid) int64 21 21 23 24 24 25 25 ... 23 23 24 24 24 24\n",
       "    - col_to_coord_3   (neuroid) int64 34 35 35 35 35 35 35 ... 37 37 37 37 37 37\n",
       "    - neuroid_id       (neuroid) object '288.10560' '288.11344' ... '288.12935'\n",
       "    - atlas            (neuroid) object 'language' 'language' ... 'language']}"
      ]
     },
     "execution_count": 50,
     "metadata": {},
     "output_type": "execute_result"
    }
   ],
   "source": [
    "d"
   ]
  },
  {
   "cell_type": "code",
   "execution_count": 52,
   "metadata": {},
   "outputs": [],
   "source": [
    "# The writestats function outputs the ceiled ROI median (medsc), and m.a.d. across voxels(madsc), test it:\n",
    "d1=getROIs(o6,c4,filename=matfile_name)"
   ]
  },
  {
   "cell_type": "code",
   "execution_count": 53,
   "metadata": {},
   "outputs": [
    {
     "data": {
      "text/plain": [
       "{'LH_AngG_save': [array(0.28636991),\n",
       "  array(0.28636708),\n",
       "  array(0.0536795),\n",
       "  0.006709937513763667,\n",
       "  0.0639773961513377,\n",
       "  0.007997174518917212,\n",
       "  array(1.06755191),\n",
       "  0.2385022401114188,\n",
       "  0.02981278001392735,\n",
       "  array(0.26824652),\n",
       "  64,\n",
       "  <xarray.DataArray (neuroid: 64)>\n",
       "  array([1.336066, 1.345347, 0.90231 , 0.763598, 0.784826, 1.044146, 1.034222,\n",
       "         1.047102, 1.289339, 1.34297 , 0.834867, 0.728153, 0.739632, 0.786308,\n",
       "         1.078942, 1.01969 , 1.032012, 1.05598 , 1.099019, 1.428063, 1.374157,\n",
       "         1.294632, 1.279908, 1.315036, 0.765488, 0.752276, 0.713675, 0.7551  ,\n",
       "         0.892219, 0.972827, 1.040873, 1.130226, 1.127544, 1.114774, 1.171234,\n",
       "         1.341507, 1.299232, 1.323557, 0.722309, 0.809153, 0.8387  , 0.893975,\n",
       "         0.911059, 0.987981, 1.056161, 1.13799 , 1.050189, 1.104628, 1.164574,\n",
       "         1.196008, 1.293975, 1.192363, 1.258249, 0.919146, 1.008981, 0.991024,\n",
       "         1.123076, 1.202745, 1.00731 , 1.107777, 1.182693, 1.317584, 1.096671,\n",
       "         1.392814])\n",
       "  Coordinates:\n",
       "      layer            <U12 'encoder.h.43'\n",
       "    * neuroid          (neuroid) MultiIndex\n",
       "    - subject          (neuroid) object '288' '288' '288' ... '288' '288' '288'\n",
       "    - voxel_num        (neuroid) int64 10560 11344 11356 ... 12933 12934 12935\n",
       "    - filter_strategy  (neuroid) object nan nan nan nan nan ... nan nan nan nan\n",
       "    - atlas_selection  (neuroid) object 'from90to100prcnt' ... 'from90to100prcnt'\n",
       "    - roi              (neuroid) object 'LH_AngG' 'LH_AngG' ... 'LH_AngG'\n",
       "    - indices_in_3d    (neuroid) int64 249308 256813 256971 ... 272059 272060\n",
       "    - col_to_coord_1   (neuroid) int64 63 63 63 62 63 60 61 ... 62 63 60 61 62 63\n",
       "    - col_to_coord_2   (neuroid) int64 21 21 23 24 24 25 25 ... 23 23 24 24 24 24\n",
       "    - col_to_coord_3   (neuroid) int64 34 35 35 35 35 35 35 ... 37 37 37 37 37 37\n",
       "    - neuroid_id       (neuroid) object '288.10560' '288.11344' ... '288.12935'\n",
       "    - atlas            (neuroid) object 'language' 'language' ... 'language'],\n",
       " 'LH_AntTemp_save': [array(0.34947137),\n",
       "  array(0.3620509),\n",
       "  array(0.05927465),\n",
       "  0.00476105454646942,\n",
       "  0.06195242121870307,\n",
       "  0.004976138219517161,\n",
       "  array(1.05096129),\n",
       "  0.17983548070447775,\n",
       "  0.01444473341243089,\n",
       "  array(0.34449498),\n",
       "  155,\n",
       "  <xarray.DataArray (neuroid: 155)>\n",
       "  array([1.210627, 1.315219, 1.277064, 1.165972, 1.050961, 1.18031 , 1.136177,\n",
       "         1.104608, 0.990424, 1.059283, 1.155386, 1.194128, 0.939383, 0.996438,\n",
       "         1.158151, 1.058358, 1.261099, 1.12032 , 1.267407, 1.069632, 1.145346,\n",
       "         1.107328, 1.149097, 1.27209 , 1.222448, 1.101275, 1.134835, 1.128757,\n",
       "         1.034863, 0.976324, 0.60198 , 0.88002 , 1.085836, 1.201427, 1.218823,\n",
       "         0.929664, 0.679994, 1.119797, 0.987943, 1.23699 , 1.270437, 0.994916,\n",
       "         1.076322, 0.975924, 1.19116 , 1.271701, 1.109629, 1.095637, 0.864743,\n",
       "         1.213378, 0.891641, 0.998115, 0.91482 , 1.08361 , 1.087075, 1.209447,\n",
       "         1.204234, 1.162351, 1.16278 , 1.042198, 1.091086, 0.951893, 0.862272,\n",
       "         0.638158, 1.208032, 0.904358, 0.808264, 1.207297, 1.283675, 1.015245,\n",
       "         1.138337, 1.207865, 0.933826, 1.039341, 0.920991, 0.819511, 0.889705,\n",
       "         0.908293, 1.076497, 1.112232, 1.133817, 1.17941 , 1.092508, 1.032132,\n",
       "         1.093648, 1.049232, 0.86949 , 0.664808, 1.00432 , 0.863072, 0.699181,\n",
       "         0.900325, 0.847757, 0.669412, 1.092281, 1.000932, 0.835846, 0.765683,\n",
       "         0.870597, 1.066202, 0.841182, 0.819449, 0.992646, 0.920642, 1.007862,\n",
       "         1.097132, 1.174919, 1.149471, 1.128937, 1.174927, 1.109661, 1.12344 ,\n",
       "         1.048586, 1.025778, 0.88175 , 0.868709, 0.960452, 1.102502, 0.908793,\n",
       "         0.83233 , 1.03839 , 1.146305, 1.134938, 1.289105, 1.167467, 1.197043,\n",
       "         0.785098, 1.109237, 0.978635, 0.693135, 0.719607, 0.74907 , 0.672823,\n",
       "         0.836172, 0.867467, 0.743585, 0.651726, 1.030081, 0.876781, 1.169993,\n",
       "         0.755617, 1.223856, 0.917146, 0.764877, 1.095643, 1.119847, 0.711649,\n",
       "         0.606885, 1.109117, 0.800504, 0.68155 , 0.701061, 1.045157, 1.083005,\n",
       "         1.103876])\n",
       "  Coordinates:\n",
       "      layer            <U12 'encoder.h.43'\n",
       "    * neuroid          (neuroid) MultiIndex\n",
       "    - subject          (neuroid) object '288' '288' '288' ... '288' '288' '288'\n",
       "    - voxel_num        (neuroid) int64 1264 1297 1298 1299 ... 1742 1743 1744 1745\n",
       "    - filter_strategy  (neuroid) object nan nan nan nan nan ... nan nan nan nan\n",
       "    - atlas_selection  (neuroid) object 'from90to100prcnt' ... 'from90to100prcnt'\n",
       "    - roi              (neuroid) object 'LH_AntTemp' 'LH_AntTemp' ... 'LH_AntTemp'\n",
       "    - indices_in_3d    (neuroid) int64 139024 139184 139185 ... 146770 146771\n",
       "    - col_to_coord_1   (neuroid) int64 63 65 66 67 64 65 66 ... 66 67 65 66 67 68\n",
       "    - col_to_coord_2   (neuroid) int64 50 52 52 52 53 53 53 ... 52 52 53 53 53 53\n",
       "    - col_to_coord_3   (neuroid) int64 19 19 19 19 19 19 19 ... 20 20 20 20 20 20\n",
       "    - neuroid_id       (neuroid) object '288.1264' '288.1297' ... '288.1745'\n",
       "    - atlas            (neuroid) object 'language' 'language' ... 'language'],\n",
       " 'LH_IFG_save': [array(0.31552292),\n",
       "  array(0.31275126),\n",
       "  array(0.03625975),\n",
       "  0.00421511028945179,\n",
       "  0.0376755260489995,\n",
       "  0.0043796909416274465,\n",
       "  array(0.99529864),\n",
       "  0.1198984757028479,\n",
       "  0.013937914689439257,\n",
       "  array(0.31422857),\n",
       "  74,\n",
       "  <xarray.DataArray (neuroid: 74)>\n",
       "  array([0.968716, 0.918678, 0.837152, 0.756337, 1.026956, 0.991969, 0.93525 ,\n",
       "         0.847303, 0.984292, 1.061617, 1.026057, 1.05799 , 1.05138 , 1.103788,\n",
       "         0.889717, 0.901803, 0.825275, 1.002837, 0.956011, 0.886923, 0.810951,\n",
       "         0.998628, 0.979684, 0.982809, 1.089972, 0.955218, 1.056658, 1.104648,\n",
       "         1.13173 , 1.058364, 1.076378, 0.948482, 0.832476, 0.878146, 0.951159,\n",
       "         0.897286, 0.894739, 0.959472, 0.917596, 0.977009, 1.071741, 1.072597,\n",
       "         1.07596 , 1.194133, 1.226206, 1.056331, 1.044475, 0.94648 , 1.146036,\n",
       "         1.102994, 1.039536, 0.891826, 0.892364, 0.86666 , 1.219729, 1.112646,\n",
       "         0.991733, 1.264001, 1.09511 , 0.965019, 1.229441, 1.059054, 1.187772,\n",
       "         0.960465, 0.81495 , 0.77329 , 1.180978, 1.106236, 0.960893, 0.857913,\n",
       "         1.069704, 1.106651, 1.134394, 1.05604 ])\n",
       "  Coordinates:\n",
       "      layer            <U12 'encoder.h.43'\n",
       "    * neuroid          (neuroid) MultiIndex\n",
       "    - subject          (neuroid) object '288' '288' '288' ... '288' '288' '288'\n",
       "    - voxel_num        (neuroid) int64 10093 10094 10095 ... 10894 10895 11654\n",
       "    - filter_strategy  (neuroid) object nan nan nan nan nan ... nan nan nan nan\n",
       "    - atlas_selection  (neuroid) object 'from90to100prcnt' ... 'from90to100prcnt'\n",
       "    - roi              (neuroid) object 'LH_IFG' 'LH_IFG' ... 'LH_IFG' 'LH_IFG'\n",
       "    - indices_in_3d    (neuroid) int64 245280 245281 245282 ... 253105 260132\n",
       "    - col_to_coord_1   (neuroid) int64 64 65 66 67 64 65 66 ... 68 65 66 67 68 64\n",
       "    - col_to_coord_2   (neuroid) int64 65 65 65 65 66 66 66 ... 68 69 69 69 69 63\n",
       "    - col_to_coord_3   (neuroid) int64 33 33 33 33 33 33 33 ... 34 34 34 34 34 35\n",
       "    - neuroid_id       (neuroid) object '288.10093' '288.10094' ... '288.11654'\n",
       "    - atlas            (neuroid) object 'language' 'language' ... 'language'],\n",
       " 'LH_IFGorb_save': [array(0.33834155),\n",
       "  array(0.3347291),\n",
       "  array(0.03112735),\n",
       "  0.005117305204101248,\n",
       "  0.027182382192557576,\n",
       "  0.004468756105003643,\n",
       "  array(0.96205635),\n",
       "  0.07812581331086048,\n",
       "  0.012843804590712866,\n",
       "  array(0.34793087),\n",
       "  37,\n",
       "  <xarray.DataArray (neuroid: 37)>\n",
       "  array([0.946871, 0.652072, 0.970909, 0.936196, 0.934647, 0.93727 , 0.997512,\n",
       "         0.767136, 0.873273, 0.937337, 0.941478, 0.908551, 0.909361, 0.938616,\n",
       "         1.012414, 0.962056, 0.886651, 1.07152 , 0.946075, 1.030868, 0.925903,\n",
       "         0.921248, 0.950471, 1.050077, 1.080752, 1.055292, 1.092031, 1.066794,\n",
       "         1.058848, 1.037083, 1.084598, 0.959839, 1.056347, 0.973112, 1.026265,\n",
       "         1.091479, 0.989291])\n",
       "  Coordinates:\n",
       "      layer            <U12 'encoder.h.43'\n",
       "    * neuroid          (neuroid) MultiIndex\n",
       "    - subject          (neuroid) object '288' '288' '288' ... '288' '288' '288'\n",
       "    - voxel_num        (neuroid) int64 1432 1824 1852 1862 ... 4472 4491 4492 5163\n",
       "    - filter_strategy  (neuroid) object nan nan nan nan nan ... nan nan nan nan\n",
       "    - atlas_selection  (neuroid) object 'from90to100prcnt' ... 'from90to100prcnt'\n",
       "    - roi              (neuroid) object 'LH_IFGorb' 'LH_IFGorb' ... 'LH_IFGorb'\n",
       "    - indices_in_3d    (neuroid) int64 140760 147871 148108 ... 185476 192903\n",
       "    - col_to_coord_1   (neuroid) int64 61 62 62 61 62 61 61 ... 65 64 65 62 63 64\n",
       "    - col_to_coord_2   (neuroid) int64 72 67 70 71 71 72 73 ... 67 67 67 68 68 67\n",
       "    - col_to_coord_3   (neuroid) int64 19 20 20 20 20 20 20 ... 24 25 25 25 25 26\n",
       "    - neuroid_id       (neuroid) object '288.1432' '288.1824' ... '288.5163'\n",
       "    - atlas            (neuroid) object 'language' 'language' ... 'language'],\n",
       " 'LH_MFG_save': [array(0.33219216),\n",
       "  array(0.32790061),\n",
       "  array(0.0368279),\n",
       "  0.005429978085166997,\n",
       "  0.04357703415877418,\n",
       "  0.006425083159798437,\n",
       "  array(0.93030797),\n",
       "  0.12363521510834981,\n",
       "  0.01822901796520659,\n",
       "  array(0.35246458),\n",
       "  46,\n",
       "  <xarray.DataArray (neuroid: 46)>\n",
       "  array([0.87599 , 0.893568, 0.820474, 0.802669, 0.821076, 0.917787, 0.820242,\n",
       "         0.919394, 0.936615, 0.829331, 0.790798, 0.848378, 0.852637, 0.834469,\n",
       "         0.936521, 1.098955, 0.928022, 1.015653, 0.84631 , 0.746908, 0.852147,\n",
       "         1.002467, 0.894   , 1.02745 , 1.132297, 1.082277, 0.932594, 0.955202,\n",
       "         0.820354, 0.887679, 1.013092, 1.064024, 1.097893, 0.933581, 0.94538 ,\n",
       "         1.002974, 1.031579, 1.203853, 1.074265, 1.064241, 0.869174, 1.062479,\n",
       "         1.05722 , 0.987878, 0.919033, 0.905326])\n",
       "  Coordinates:\n",
       "      layer            <U12 'encoder.h.43'\n",
       "    * neuroid          (neuroid) MultiIndex\n",
       "    - subject          (neuroid) object '288' '288' '288' ... '288' '288' '288'\n",
       "    - voxel_num        (neuroid) int64 23019 23020 23962 ... 26855 26856 26857\n",
       "    - filter_strategy  (neuroid) object nan nan nan nan nan ... nan nan nan nan\n",
       "    - atlas_selection  (neuroid) object 'from90to100prcnt' ... 'from90to100prcnt'\n",
       "    - roi              (neuroid) object 'LH_MFG' 'LH_MFG' ... 'LH_MFG' 'LH_MFG'\n",
       "    - indices_in_3d    (neuroid) int64 357456 357457 364803 ... 387318 387319\n",
       "    - col_to_coord_1   (neuroid) int64 60 61 60 59 60 61 60 ... 62 61 62 59 60 61\n",
       "    - col_to_coord_2   (neuroid) int64 60 60 58 59 59 59 60 ... 59 54 57 58 58 58\n",
       "    - col_to_coord_3   (neuroid) int64 48 48 49 49 49 49 49 ... 51 52 52 52 52 52\n",
       "    - neuroid_id       (neuroid) object '288.23019' '288.23020' ... '288.26857'\n",
       "    - atlas            (neuroid) object 'language' 'language' ... 'language'],\n",
       " 'LH_PostTemp_save': [array(0.33058507),\n",
       "  array(0.34025202),\n",
       "  array(0.04437015),\n",
       "  0.0025833302905065116,\n",
       "  0.03707601766354181,\n",
       "  0.0021586492055216387,\n",
       "  array(0.93419839),\n",
       "  0.10179618045620141,\n",
       "  0.005926802766711298,\n",
       "  array(0.36421816),\n",
       "  295,\n",
       "  <xarray.DataArray (neuroid: 295)>\n",
       "  array([1.030346, 0.955955, 0.844204, ..., 0.881088, 0.872331, 0.854443])\n",
       "  Coordinates:\n",
       "      layer            <U12 'encoder.h.43'\n",
       "    * neuroid          (neuroid) MultiIndex\n",
       "    - subject          (neuroid) object '288' '288' '288' ... '288' '288' '288'\n",
       "    - voxel_num        (neuroid) int64 10620 10621 10638 ... 11444 11464 11465\n",
       "    - filter_strategy  (neuroid) object nan nan nan nan nan ... nan nan nan nan\n",
       "    - atlas_selection  (neuroid) object 'from90to100prcnt' ... 'from90to100prcnt'\n",
       "    - roi              (neuroid) object 'LH_PostTemp' ... 'LH_PostTemp'\n",
       "    - indices_in_3d    (neuroid) int64 249862 249863 249940 ... 257524 257525\n",
       "    - col_to_coord_1   (neuroid) int64 64 65 63 64 65 66 67 ... 65 66 67 68 63 64\n",
       "    - col_to_coord_2   (neuroid) int64 28 28 29 29 29 29 29 ... 29 29 29 29 30 30\n",
       "    - col_to_coord_3   (neuroid) int64 34 34 34 34 34 34 34 ... 35 35 35 35 35 35\n",
       "    - neuroid_id       (neuroid) object '288.10620' '288.10621' ... '288.11465'\n",
       "    - atlas            (neuroid) object 'language' 'language' ... 'language'],\n",
       " 'RH_AngG_save': [array(0.28633444),\n",
       "  array(0.28789474),\n",
       "  array(0.04578639),\n",
       "  0.005768543147414364,\n",
       "  0.04094981226119459,\n",
       "  0.0051591914037097345,\n",
       "  array(1.1558087),\n",
       "  0.1644008832601085,\n",
       "  0.020712564401219463,\n",
       "  array(0.24908511),\n",
       "  63,\n",
       "  <xarray.DataArray (neuroid: 63)>\n",
       "  array([1.492855, 1.583884, 1.440564, 1.291224, 1.238407, 1.159339, 1.308961,\n",
       "         0.753145, 1.077178, 1.300168, 1.491252, 1.145636, 0.999852, 1.429308,\n",
       "         1.237684, 1.362062, 1.227316, 1.066611, 1.044922, 1.344586, 1.125635,\n",
       "         1.203416, 1.335421, 0.934955, 1.281297, 1.086467, 1.155809, 0.918474,\n",
       "         0.88351 , 1.102461, 0.850146, 0.955921, 1.170713, 1.113869, 1.074465,\n",
       "         1.238384, 0.900631, 1.070425, 1.050383, 1.315985, 0.883471, 0.752784,\n",
       "         0.840805, 0.93508 , 1.035947, 1.163705, 1.219558, 1.143998, 1.492495,\n",
       "         1.187548, 1.200911, 1.057757, 1.167391, 0.919096, 1.388422, 1.045665,\n",
       "         1.277768, 1.254232, 1.150978, 1.018283, 1.146389, 1.196834, 1.178873])\n",
       "  Coordinates:\n",
       "      layer            <U12 'encoder.h.43'\n",
       "    * neuroid          (neuroid) MultiIndex\n",
       "    - subject          (neuroid) object '288' '288' '288' ... '288' '288' '288'\n",
       "    - voxel_num        (neuroid) int64 10590 11375 11376 ... 16345 16346 16347\n",
       "    - filter_strategy  (neuroid) object nan nan nan nan nan ... nan nan nan nan\n",
       "    - atlas_selection  (neuroid) object 'from90to100prcnt' ... 'from90to100prcnt'\n",
       "    - roi              (neuroid) object 'RH_AngG' 'RH_AngG' ... 'RH_AngG'\n",
       "    - indices_in_3d    (neuroid) int64 249658 257163 257164 ... 302110 302111\n",
       "    - col_to_coord_1   (neuroid) int64 18 18 19 13 14 13 14 ... 14 15 14 13 14 15\n",
       "    - col_to_coord_2   (neuroid) int64 26 26 26 23 23 24 24 ... 23 23 24 25 25 25\n",
       "    - col_to_coord_3   (neuroid) int64 34 35 35 39 39 39 39 ... 41 41 41 41 41 41\n",
       "    - neuroid_id       (neuroid) object '288.10590' '288.11375' ... '288.16347'\n",
       "    - atlas            (neuroid) object 'language' 'language' ... 'language'],\n",
       " 'RH_AntTemp_save': [array(0.28654533),\n",
       "  array(0.28610934),\n",
       "  array(0.04238758),\n",
       "  0.0033200512884943626,\n",
       "  0.04595905117454624,\n",
       "  0.003599790710399465,\n",
       "  array(0.9868234),\n",
       "  0.158517955570546,\n",
       "  0.01241608452113569,\n",
       "  array(0.28992962),\n",
       "  163,\n",
       "  <xarray.DataArray (neuroid: 163)>\n",
       "  array([1.234675, 0.720245, 0.827704, 0.968748, 0.886433, 1.191275, 0.888273,\n",
       "         0.913209, 0.768113, 0.826278, 0.672573, 0.792794, 0.969931, 0.917766,\n",
       "         1.15166 , 1.124893, 0.96315 , 0.763304, 1.140007, 1.157368, 1.091421,\n",
       "         1.026598, 0.947639, 0.944811, 1.00023 , 0.863827, 0.873863, 0.861067,\n",
       "         1.002731, 1.137417, 1.047298, 1.075141, 0.830607, 1.112227, 1.056199,\n",
       "         1.181955, 1.08215 , 1.242327, 1.147698, 1.040492, 1.066667, 1.154927,\n",
       "         1.051517, 1.083392, 1.127571, 1.11797 , 1.188508, 0.967822, 0.97345 ,\n",
       "         1.062612, 0.801253, 0.9245  , 1.012203, 1.009086, 0.97525 , 0.948322,\n",
       "         1.216654, 0.800612, 1.000594, 1.167931, 0.808443, 1.035036, 0.93097 ,\n",
       "         1.071811, 1.252184, 1.101911, 1.28311 , 1.293692, 1.303287, 1.136261,\n",
       "         0.892585, 0.752522, 1.17553 , 0.972648, 0.915777, 1.10213 , 1.191904,\n",
       "         0.847679, 1.079284, 1.228877, 1.069296, 0.847771, 0.833833, 1.109527,\n",
       "         1.128853, 0.551565, 1.020108, 0.986823, 1.175786, 1.043388, 1.136401,\n",
       "         1.192407, 1.287478, 1.011014, 0.80096 , 1.183301, 0.954399, 0.882065,\n",
       "         1.040246, 1.083662, 0.602442, 1.152928, 0.645237, 0.86428 , 0.887934,\n",
       "         1.045482, 1.13627 , 0.941888, 1.050947, 1.159501, 1.208262, 1.198251,\n",
       "         0.866084, 0.816243, 0.885792, 1.01944 , 0.733474, 1.077134, 0.955216,\n",
       "         0.87234 , 0.943555, 0.992831, 1.019878, 1.071791, 1.132206, 0.863365,\n",
       "         0.89391 , 0.851053, 1.004242, 0.908904, 0.921656, 0.893144, 1.010126,\n",
       "         1.053468, 0.983106, 0.900073, 0.928263, 0.879905, 1.044313, 0.770806,\n",
       "         0.874079, 0.926987, 1.011888, 0.927371, 0.862676, 0.870612, 1.020909,\n",
       "         0.907211, 0.867272, 0.922357, 0.910208, 1.04357 , 1.139933, 1.104945,\n",
       "         0.794741, 0.792412, 0.896958, 0.920034, 0.887979, 0.870657, 0.834791,\n",
       "         0.829537, 0.885   ])\n",
       "  Coordinates:\n",
       "      layer            <U12 'encoder.h.43'\n",
       "    * neuroid          (neuroid) MultiIndex\n",
       "    - subject          (neuroid) object '288' '288' '288' ... '288' '288' '288'\n",
       "    - voxel_num        (neuroid) int64 1 1007 1008 1009 ... 1781 1787 1788 1793\n",
       "    - filter_strategy  (neuroid) object nan nan nan nan nan ... nan nan nan nan\n",
       "    - atlas_selection  (neuroid) object 'from90to100prcnt' ... 'from90to100prcnt'\n",
       "    - roi              (neuroid) object 'RH_AntTemp' 'RH_AntTemp' ... 'RH_AntTemp'\n",
       "    - indices_in_3d    (neuroid) int64 57530 132101 132102 ... 147113 147192\n",
       "    - col_to_coord_1   (neuroid) int64 18 13 14 15 14 16 14 ... 11 13 16 13 15 15\n",
       "    - col_to_coord_2   (neuroid) int64 64 58 58 58 59 60 56 ... 57 57 57 58 58 59\n",
       "    - col_to_coord_3   (neuroid) int64 8 18 18 18 18 18 19 ... 20 20 20 20 20 20\n",
       "    - neuroid_id       (neuroid) object '288.1' '288.1007' ... '288.1793'\n",
       "    - atlas            (neuroid) object 'language' 'language' ... 'language'],\n",
       " 'RH_IFG_save': [array(0.28747774),\n",
       "  array(0.27633307),\n",
       "  array(0.05225968),\n",
       "  0.0063374171557404714,\n",
       "  0.059704932994978345,\n",
       "  0.007240286620844727,\n",
       "  array(1.09181238),\n",
       "  0.23589859943609462,\n",
       "  0.028606907129714376,\n",
       "  array(0.25309575),\n",
       "  68,\n",
       "  <xarray.DataArray (neuroid: 68)>\n",
       "  array([1.479313, 1.09002 , 0.782159, 0.923434, 1.088355, 1.352868, 1.184243,\n",
       "         1.02796 , 0.975722, 1.015865, 1.104029, 1.228494, 1.222858, 1.301984,\n",
       "         1.407198, 1.425076, 1.471129, 1.471019, 1.424828, 0.954849, 0.957882,\n",
       "         0.878669, 0.931766, 1.040904, 1.035437, 0.951754, 1.093604, 1.223832,\n",
       "         1.306522, 1.322885, 1.474753, 1.48855 , 1.054159, 0.87951 , 0.989417,\n",
       "         0.933636, 0.796273, 0.992241, 1.078694, 1.060232, 1.376494, 1.269406,\n",
       "         0.97273 , 0.867437, 0.953494, 0.907848, 0.769734, 1.296501, 1.228744,\n",
       "         1.087455, 0.883518, 0.97758 , 0.867526, 0.843819, 1.049072, 1.407393,\n",
       "         1.273702, 1.145931, 1.264712, 1.186788, 1.188186, 1.28244 , 1.382127,\n",
       "         1.122115, 1.080827, 1.211266, 1.657311, 1.261233])\n",
       "  Coordinates:\n",
       "      layer            <U12 'encoder.h.43'\n",
       "    * neuroid          (neuroid) MultiIndex\n",
       "    - subject          (neuroid) object '288' '288' '288' ... '288' '288' '288'\n",
       "    - voxel_num        (neuroid) int64 10109 10110 10111 ... 11697 11698 11699\n",
       "    - filter_strategy  (neuroid) object nan nan nan nan nan ... nan nan nan nan\n",
       "    - atlas_selection  (neuroid) object 'from90to100prcnt' ... 'from90to100prcnt'\n",
       "    - roi              (neuroid) object 'RH_IFG' 'RH_IFG' ... 'RH_IFG' 'RH_IFG'\n",
       "    - indices_in_3d    (neuroid) int64 245545 245546 245547 ... 260637 260638\n",
       "    - col_to_coord_1   (neuroid) int64 13 14 15 16 15 17 13 ... 16 17 14 15 16 17\n",
       "    - col_to_coord_2   (neuroid) int64 69 69 69 69 70 70 69 ... 69 69 70 70 70 70\n",
       "    - col_to_coord_3   (neuroid) int64 33 33 33 33 33 33 34 ... 35 35 35 35 35 35\n",
       "    - neuroid_id       (neuroid) object '288.10109' '288.10110' ... '288.11699'\n",
       "    - atlas            (neuroid) object 'language' 'language' ... 'language'],\n",
       " 'RH_IFGorb_save': [array(0.28538527),\n",
       "  array(0.29346907),\n",
       "  array(0.03935015),\n",
       "  0.00646912474550079,\n",
       "  0.03567404375899111,\n",
       "  0.00586477666706514,\n",
       "  array(0.95009183),\n",
       "  0.11549297990752165,\n",
       "  0.01898692893767454,\n",
       "  array(0.30888495),\n",
       "  37,\n",
       "  <xarray.DataArray (neuroid: 37)>\n",
       "  array([0.617946, 0.936805, 0.991278, 0.934614, 0.737273, 0.607418, 0.973823,\n",
       "         0.950092, 0.792207, 0.828918, 1.03989 , 0.926605, 0.835098, 0.869728,\n",
       "         1.169085, 1.13252 , 0.973002, 1.143552, 0.964248, 0.872193, 0.966228,\n",
       "         0.821684, 0.71967 , 0.945149, 0.953848, 1.045052, 1.032145, 0.964709,\n",
       "         1.063029, 0.887175, 0.766512, 0.954898, 0.834593, 0.94035 , 1.000373,\n",
       "         1.00555 , 0.987815])\n",
       "  Coordinates:\n",
       "      layer            <U12 'encoder.h.43'\n",
       "    * neuroid          (neuroid) MultiIndex\n",
       "    - subject          (neuroid) object '288' '288' '288' ... '288' '288' '288'\n",
       "    - voxel_num        (neuroid) int64 1398 1815 1816 1817 ... 4548 4549 5187 5188\n",
       "    - filter_strategy  (neuroid) object nan nan nan nan nan ... nan nan nan nan\n",
       "    - atlas_selection  (neuroid) object 'from90to100prcnt' ... 'from90to100prcnt'\n",
       "    - roi              (neuroid) object 'RH_IFGorb' 'RH_IFGorb' ... 'RH_IFGorb'\n",
       "    - indices_in_3d    (neuroid) int64 140480 147825 147826 ... 193013 193014\n",
       "    - col_to_coord_1   (neuroid) int64 18 16 17 18 17 18 16 ... 18 16 17 18 16 17\n",
       "    - col_to_coord_2   (neuroid) int64 69 67 67 67 68 69 67 ... 73 74 74 74 69 69\n",
       "    - col_to_coord_3   (neuroid) int64 19 20 20 20 20 20 21 ... 25 25 25 25 26 26\n",
       "    - neuroid_id       (neuroid) object '288.1398' '288.1815' ... '288.5188'\n",
       "    - atlas            (neuroid) object 'language' 'language' ... 'language'],\n",
       " 'RH_MFG_save': [array(0.32289227),\n",
       "  array(0.31607248),\n",
       "  array(0.03804749),\n",
       "  0.005609796294038485,\n",
       "  0.03372791610433994,\n",
       "  0.004972909927452139,\n",
       "  array(1.2027239),\n",
       "  0.12834199114765035,\n",
       "  0.01892299423162406,\n",
       "  array(0.2627972),\n",
       "  46,\n",
       "  <xarray.DataArray (neuroid: 46)>\n",
       "  array([1.027879, 1.195799, 1.334166, 1.214738, 1.445306, 1.469552, 1.497769,\n",
       "         1.355742, 1.16104 , 1.300024, 1.340263, 1.415332, 1.532118, 1.508692,\n",
       "         1.279758, 1.309644, 1.18741 , 1.317986, 1.086266, 1.28928 , 1.289298,\n",
       "         1.259338, 1.356008, 1.426477, 1.191569, 1.280725, 1.155023, 1.202571,\n",
       "         0.913687, 1.071074, 1.137509, 1.106634, 1.138811, 1.171683, 1.162476,\n",
       "         1.24071 , 0.984753, 1.144789, 0.925461, 1.137537, 1.202877, 1.19186 ,\n",
       "         1.122565, 1.15051 , 1.225856, 1.060468])\n",
       "  Coordinates:\n",
       "      layer            <U12 'encoder.h.43'\n",
       "    * neuroid          (neuroid) MultiIndex\n",
       "    - subject          (neuroid) object '288' '288' '288' ... '288' '288' '288'\n",
       "    - voxel_num        (neuroid) int64 22966 23898 23911 ... 27587 27607 27608\n",
       "    - filter_strategy  (neuroid) object nan nan nan nan nan ... nan nan nan nan\n",
       "    - atlas_selection  (neuroid) object 'from90to100prcnt' ... 'from90to100prcnt'\n",
       "    - roi              (neuroid) object 'RH_MFG' 'RH_MFG' ... 'RH_MFG' 'RH_MFG'\n",
       "    - indices_in_3d    (neuroid) int64 357095 364442 364521 ... 394620 394621\n",
       "    - col_to_coord_1   (neuroid) int64 15 15 15 15 15 18 15 ... 16 17 15 16 15 16\n",
       "    - col_to_coord_2   (neuroid) int64 56 54 55 56 55 56 58 ... 54 54 55 55 56 56\n",
       "    - col_to_coord_3   (neuroid) int64 48 49 49 49 50 50 50 ... 53 53 53 53 53 53\n",
       "    - neuroid_id       (neuroid) object '288.22966' '288.23898' ... '288.27608'\n",
       "    - atlas            (neuroid) object 'language' 'language' ... 'language'],\n",
       " 'RH_PostTemp_save': [array(0.28748813),\n",
       "  array(0.28622226),\n",
       "  array(0.04612055),\n",
       "  0.0026943915905749687,\n",
       "  0.04656817071212838,\n",
       "  0.002720541581468304,\n",
       "  array(1.03371268),\n",
       "  0.1681843648492487,\n",
       "  0.009825435505158261,\n",
       "  array(0.27688763),\n",
       "  293,\n",
       "  <xarray.DataArray (neuroid: 293)>\n",
       "  array([0.78652 , 0.869559, 0.865411, ..., 0.940687, 0.887026, 0.952221])\n",
       "  Coordinates:\n",
       "      layer            <U12 'encoder.h.43'\n",
       "    * neuroid          (neuroid) MultiIndex\n",
       "    - subject          (neuroid) object '288' '288' '288' ... '288' '288' '288'\n",
       "    - voxel_num        (neuroid) int64 10758 10768 10769 11567 ... 4264 4265 4267\n",
       "    - filter_strategy  (neuroid) object nan nan nan nan nan ... nan nan nan nan\n",
       "    - atlas_selection  (neuroid) object 'from90to100prcnt' ... 'from90to100prcnt'\n",
       "    - roi              (neuroid) object 'RH_PostTemp' ... 'RH_PostTemp'\n",
       "    - indices_in_3d    (neuroid) int64 250443 250521 250522 ... 183051 183053\n",
       "    - col_to_coord_1   (neuroid) int64 13 12 13 12 13 13 12 13 ... 7 8 9 10 7 8 10\n",
       "    - col_to_coord_2   (neuroid) int64 36 37 37 36 36 37 36 ... 40 40 40 38 38 38\n",
       "    - col_to_coord_3   (neuroid) int64 34 34 34 35 35 35 36 ... 24 24 24 25 25 25\n",
       "    - neuroid_id       (neuroid) object '288.10758' '288.10768' ... '288.4267'\n",
       "    - atlas            (neuroid) object 'language' 'language' ... 'language']}"
      ]
     },
     "execution_count": 53,
     "metadata": {},
     "output_type": "execute_result"
    }
   ],
   "source": [
    "d1 # the lang ang G values correspond to the ones above."
   ]
  },
  {
   "cell_type": "code",
   "execution_count": 55,
   "metadata": {},
   "outputs": [
    {
     "data": {
      "text/plain": [
       "[array(0.93419839),\n",
       " array(1.05096129),\n",
       " array(0.99529864),\n",
       " array(0.96205635),\n",
       " array(0.93030797),\n",
       " array(1.06755191),\n",
       " array(1.03371268),\n",
       " array(0.9868234),\n",
       " array(1.09181238),\n",
       " array(0.95009183),\n",
       " array(1.2027239),\n",
       " array(1.1558087)]"
      ]
     },
     "execution_count": 55,
     "metadata": {},
     "output_type": "execute_result"
    }
   ],
   "source": [
    "bars,err,names=writeStats(d1, names_ordered_lang, workbook_name)\n",
    "bars # angG is supposed to be num 6 in the ordered list: corresponds!"
   ]
  },
  {
   "cell_type": "code",
   "execution_count": 56,
   "metadata": {},
   "outputs": [
    {
     "data": {
      "text/plain": [
       "[0.10179618045620141,\n",
       " 0.17983548070447775,\n",
       " 0.1198984757028479,\n",
       " 0.07812581331086048,\n",
       " 0.12363521510834981,\n",
       " 0.2385022401114188,\n",
       " 0.1681843648492487,\n",
       " 0.158517955570546,\n",
       " 0.23589859943609462,\n",
       " 0.11549297990752165,\n",
       " 0.12834199114765035,\n",
       " 0.1644008832601085]"
      ]
     },
     "execution_count": 56,
     "metadata": {},
     "output_type": "execute_result"
    }
   ],
   "source": [
    "err # the correct error is outputted."
   ]
  },
  {
   "cell_type": "code",
   "execution_count": null,
   "metadata": {},
   "outputs": [],
   "source": [
    "# next, the bars can be plotted:"
   ]
  },
  {
   "cell_type": "code",
   "execution_count": null,
   "metadata": {},
   "outputs": [],
   "source": [
    "plotBars(bars,err,names,colors,model,pngfile_name,subjectID)"
   ]
  },
  {
   "cell_type": "code",
   "execution_count": null,
   "metadata": {},
   "outputs": [],
   "source": []
  },
  {
   "cell_type": "code",
   "execution_count": null,
   "metadata": {},
   "outputs": [],
   "source": []
  },
  {
   "cell_type": "code",
   "execution_count": null,
   "metadata": {},
   "outputs": [],
   "source": []
  }
 ],
 "metadata": {
  "kernelspec": {
   "display_name": "Python 3",
   "language": "python",
   "name": "python3"
  },
  "language_info": {
   "codemirror_mode": {
    "name": "ipython",
    "version": 3
   },
   "file_extension": ".py",
   "mimetype": "text/x-python",
   "name": "python",
   "nbconvert_exporter": "python",
   "pygments_lexer": "ipython3",
   "version": "3.6.10"
  }
 },
 "nbformat": 4,
 "nbformat_minor": 2
}
