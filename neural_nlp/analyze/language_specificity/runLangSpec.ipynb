{
 "cells": [
  {
   "cell_type": "code",
   "execution_count": 4,
   "metadata": {},
   "outputs": [],
   "source": [
    "import pickle\n",
    "import numpy as np\n",
    "import scipy.io as sio\n",
    "import matplotlib.pyplot as plt\n",
    "from matplotlib.lines import Line2D\n",
    "import datetime \n",
    "import seaborn\n",
    "from stats import is_significant, _permutation_test\n",
    "import xlsxwriter \n",
    "from scipy import stats\n",
    "import xarray as xr\n",
    "  \n",
    "# Plot specifications\n",
    "seaborn.set(context='talk')\n",
    "seaborn.set_style(\"whitegrid\", {'axes.grid': False})\n",
    "plt.rc('axes', edgecolor='black')\n",
    "plt.rc('axes', edgecolor='black')\n",
    "plt.rcParams['axes.spines.right'] = False\n",
    "plt.rcParams['axes.spines.top'] = False\n",
    "\n",
    "ceil_name = '/om/user/msch/share/neural_nlp/identifier=Pereira2018-encoding.pkl'\n",
    "score_name = '/om/user/msch/share/neural_nlp/benchmark=Pereira2018-encoding,model=gpt2-xl,subsample=None.pkl'"
   ]
  },
  {
   "cell_type": "code",
   "execution_count": 5,
   "metadata": {},
   "outputs": [],
   "source": [
    "# Load score objects\n",
    "with open(score_name, 'rb') as f:  \n",
    "    result = pickle.load(f)\n",
    "\n",
    "score = result['data']\n",
    "\n",
    "# Load ceil objects\n",
    "with open(ceil_name, 'rb') as f:  \n",
    "    resultc = pickle.load(f)\n",
    "\n",
    "ceil = resultc['data']"
   ]
  },
  {
   "cell_type": "code",
   "execution_count": 6,
   "metadata": {},
   "outputs": [],
   "source": [
    "from func import *"
   ]
  },
  {
   "cell_type": "code",
   "execution_count": 98,
   "metadata": {},
   "outputs": [],
   "source": [
    "models_pkl = []\n",
    "for path,dir,file in os.walk('/braintree/home/msch/.result_caching/neural_nlp.score/'):\n",
    "    for fileNames in file:\n",
    "        if fileNames.startswith(\"benchmark=Pereira2018-encoding\"):\n",
    "            if 'untrained' not in fileNames:\n",
    "                fileName = str(os.path.join(path,fileNames))\n",
    "                models_pkl.append(fileName)"
   ]
  },
  {
   "cell_type": "code",
   "execution_count": 99,
   "metadata": {},
   "outputs": [
    {
     "data": {
      "text/plain": [
       "46"
      ]
     },
     "execution_count": 99,
     "metadata": {},
     "output_type": "execute_result"
    }
   ],
   "source": [
    "len(models_pkl)"
   ]
  },
  {
   "cell_type": "code",
   "execution_count": 111,
   "metadata": {},
   "outputs": [
    {
     "name": "stderr",
     "output_type": "stream",
     "text": [
      "/om/user/gretatu/.conda/envs/brainmodeling/lib/python3.6/site-packages/brainscore/metrics/__init__.py:48: UserWarning: isel on raw values failed: ValueError(\"dimensions ['aggregation'] do not exist\",)\n",
      "  warnings.warn(f\"{operation} on raw values failed: {repr(e)}\")\n",
      "/om/user/gretatu/.conda/envs/brainmodeling/lib/python3.6/site-packages/brainscore/metrics/__init__.py:48: UserWarning: squeeze on raw values failed: KeyError('aggregation',)\n",
      "  warnings.warn(f\"{operation} on raw values failed: {repr(e)}\")\n"
     ]
    },
    {
     "name": "stdout",
     "output_type": "stream",
     "text": [
      "h.46\n"
     ]
    },
    {
     "name": "stderr",
     "output_type": "stream",
     "text": [
      "/om/user/gretatu/.conda/envs/brainmodeling/lib/python3.6/site-packages/xarray/core/nanops.py:159: RuntimeWarning: Mean of empty slice\n",
      "  return np.nanmean(a, axis=axis, dtype=dtype)\n",
      "/om/user/gretatu/.conda/envs/brainmodeling/lib/python3.6/site-packages/brainscore/metrics/__init__.py:48: UserWarning: isel on raw values failed: IndexError('Boolean array size 50628 is used to index array with shape (50647,).',)\n",
      "  warnings.warn(f\"{operation} on raw values failed: {repr(e)}\")\n",
      "/om/user/gretatu/.conda/envs/brainmodeling/lib/python3.6/site-packages/brainscore/metrics/__init__.py:48: UserWarning: isel on raw values failed: ValueError(\"dimensions ['aggregation'] do not exist\",)\n",
      "  warnings.warn(f\"{operation} on raw values failed: {repr(e)}\")\n",
      "/om/user/gretatu/.conda/envs/brainmodeling/lib/python3.6/site-packages/brainscore/metrics/__init__.py:48: UserWarning: squeeze on raw values failed: KeyError('aggregation',)\n",
      "  warnings.warn(f\"{operation} on raw values failed: {repr(e)}\")\n",
      "/om/user/gretatu/.conda/envs/brainmodeling/lib/python3.6/site-packages/xarray/core/nanops.py:159: RuntimeWarning: Mean of empty slice\n",
      "  return np.nanmean(a, axis=axis, dtype=dtype)\n"
     ]
    },
    {
     "name": "stdout",
     "output_type": "stream",
     "text": [
      "encoder.layer_norm2.5\n"
     ]
    },
    {
     "name": "stderr",
     "output_type": "stream",
     "text": [
      "/om/user/gretatu/.conda/envs/brainmodeling/lib/python3.6/site-packages/brainscore/metrics/__init__.py:48: UserWarning: isel on raw values failed: IndexError('Boolean array size 50628 is used to index array with shape (50647,).',)\n",
      "  warnings.warn(f\"{operation} on raw values failed: {repr(e)}\")\n"
     ]
    }
   ],
   "source": [
    "comparison='MD'\n",
    "timestamp = '{:%Y-%m-%d}'.format(datetime.datetime.now())\n",
    "workbook = xlsxwriter.Workbook('Pereira2018-lang-specificy-'+timestamp+'.xlsx')\n",
    "\n",
    "col=0\n",
    "\n",
    "worksheet = workbook.add_worksheet(\"Language vs \"+comparison) \n",
    "worksheet.write(0, col, 'Model_name')\n",
    "worksheet.write(0, 1, 'Best_layer')\n",
    "worksheet.write(0, 2, 'Comparison_1')\n",
    "worksheet.write(0, 3, 'Comparison_2')\n",
    "worksheet.write(0, 4, 'Normalized_Comparison1_Score')\n",
    "worksheet.write(0, 5, 'Normalized_Comparison2_Score')\n",
    "worksheet.write(0, 6, 'Median_Difference')\n",
    "worksheet.write(0, 7, 'Median_Mult_Drop')    \n",
    "worksheet.write(0, 8, 'Median_Perc_Drop')\n",
    "\n",
    "for idx, model in enumerate(models_pkl):\n",
    "\n",
    "    fname = models_pkl[idx]\n",
    "    fname1= fname.split('=')\n",
    "    fname2=fname1[-2].split(',')\n",
    "    \n",
    "    with open(fname, 'rb') as f:  \n",
    "        result = pickle.load(f)\n",
    "\n",
    "    score = result['data']\n",
    "    \n",
    "    diff, mult, perc, ceiled_lang, ceiled_comp, best_layer = computeDrop(score,ceil,comparison)\n",
    " \n",
    "    worksheet.write(idx+1, col, fname2[0]) \n",
    "    worksheet.write(idx+1, col + 1, str(best_layer)) \n",
    "    worksheet.write(idx+1, col + 2, 'Language') \n",
    "    worksheet.write(idx+1, col + 3, comparison) \n",
    "    worksheet.write(idx+1, col + 4, ceiled_lang) \n",
    "    worksheet.write(idx+1, col + 5, ceiled_comp) \n",
    "    worksheet.write(idx+1, col + 6, diff)\n",
    "    worksheet.write(idx+1, col + 7, mult) \n",
    "    worksheet.write(idx+1, col + 8, perc) \n",
    "\n",
    "workbook.close()\n",
    "    \n"
   ]
  },
  {
   "cell_type": "code",
   "execution_count": 109,
   "metadata": {},
   "outputs": [
    {
     "data": {
      "text/plain": [
       "['ctrl', 'subsample']"
      ]
     },
     "execution_count": 109,
     "metadata": {},
     "output_type": "execute_result"
    }
   ],
   "source": [
    "fname2"
   ]
  },
  {
   "cell_type": "code",
   "execution_count": 5,
   "metadata": {},
   "outputs": [
    {
     "data": {
      "text/plain": [
       "<xarray.Score (neuroid: 6723)>\n",
       "array([0.510463, 0.488328, 0.550399, ..., 0.276792, 0.275839, 0.266383])\n",
       "Coordinates:\n",
       "    aggregation      <U10 'center'\n",
       "  * neuroid          (neuroid) MultiIndex\n",
       "  - subject          (neuroid) object '289' '289' '289' ... '289' '289' '289'\n",
       "  - voxel_num        (neuroid) int64 73 80 81 91 139 140 ... 375 503 504 512 513\n",
       "  - filter_strategy  (neuroid) object nan nan nan nan nan ... nan nan nan nan\n",
       "  - atlas_selection  (neuroid) object 'from90to100prcnt' ... 'from90to100prcnt'\n",
       "  - roi              (neuroid) object 'LH_AntTemp' 'LH_AntTemp' ... 'RH_AntTemp'\n",
       "  - indices_in_3d    (neuroid) int64 79933 80012 80013 ... 109667 109745 109746\n",
       "  - col_to_coord_1   (neuroid) int64 64 64 65 65 64 65 64 ... 15 65 14 15 14 15\n",
       "  - col_to_coord_2   (neuroid) int64 62 63 63 64 62 62 63 ... 61 62 59 59 60 60\n",
       "  - col_to_coord_3   (neuroid) int64 11 11 11 11 12 12 12 ... 14 14 15 15 15 15\n",
       "  - neuroid_id       (neuroid) object '289.73' '289.80' ... '289.512' '289.513'\n",
       "  - atlas            (neuroid) object 'language' 'language' ... 'language'\n",
       "Attributes:\n",
       "    raw:                  <xarray.Score (sub_subject: 106, num_subjects: 8, s...\n",
       "    bootstrapped_params:  <xarray.DataAssembly (neuroid: 50628, bootstrap: 10...\n",
       "    endpoint_x:           <xarray.DataAssembly (neuroid: 50628)>\\narray([10, ..."
      ]
     },
     "execution_count": 5,
     "metadata": {},
     "output_type": "execute_result"
    }
   ],
   "source": [
    "\n",
    "    # Ceiling\n",
    "c=getCenter(ceil)\n",
    "c_lang=extractCoord(c,'atlas','language')#.median()\n",
    "c_lang"
   ]
  },
  {
   "cell_type": "code",
   "execution_count": 6,
   "metadata": {},
   "outputs": [
    {
     "data": {
      "text/plain": [
       "<xarray.Score ()>\n",
       "array(0.318567)\n",
       "Coordinates:\n",
       "    aggregation  <U10 'center'"
      ]
     },
     "execution_count": 6,
     "metadata": {},
     "output_type": "execute_result"
    }
   ],
   "source": [
    "ceilang=aggregateScores(c_lang)\n",
    "ceilang"
   ]
  },
  {
   "cell_type": "code",
   "execution_count": 7,
   "metadata": {},
   "outputs": [
    {
     "data": {
      "text/plain": [
       "<xarray.Score ()>\n",
       "array(0.309608)\n",
       "Coordinates:\n",
       "    aggregation  <U10 'center'"
      ]
     },
     "execution_count": 7,
     "metadata": {},
     "output_type": "execute_result"
    }
   ],
   "source": [
    "extractCoord(c,'atlas','language').median()"
   ]
  },
  {
   "cell_type": "code",
   "execution_count": null,
   "metadata": {},
   "outputs": [],
   "source": []
  },
  {
   "cell_type": "code",
   "execution_count": null,
   "metadata": {},
   "outputs": [],
   "source": []
  },
  {
   "cell_type": "code",
   "execution_count": 28,
   "metadata": {},
   "outputs": [],
   "source": [
    "c2=c.groupby('atlas').median()"
   ]
  },
  {
   "cell_type": "code",
   "execution_count": 49,
   "metadata": {},
   "outputs": [
    {
     "data": {
      "text/plain": [
       "array([0.3096079])"
      ]
     },
     "execution_count": 49,
     "metadata": {},
     "output_type": "execute_result"
    }
   ],
   "source": [
    "c2.values[[x == 'language' for x in c2['atlas'].values]]"
   ]
  },
  {
   "cell_type": "code",
   "execution_count": 8,
   "metadata": {},
   "outputs": [],
   "source": [
    "def computeDrop(score,ceil,comparison):\n",
    "    b=bestLangLayer(score)\n",
    "    o=meanSplitExp(score)\n",
    "    o1=freezeBestLangLayer(o,b)\n",
    "    o_lang=extractCoord(o1,'atlas','language')\n",
    "    o_comp=extractCoord(o1,'atlas',comparison)\n",
    "\n",
    "    center_lang=aggregateScores(o_lang)\n",
    "    center_comp=aggregateScores(o_comp)\n",
    "\n",
    "    # Ceiling\n",
    "    c=getCenter(ceil)\n",
    "    c_lang=extractCoord(c,'atlas','language')#.median()\n",
    "    c_comp=extractCoord(c,'atlas',comparison)#.median()\n",
    "    \n",
    "    ceil_lang=aggregateScores(c_lang)\n",
    "    ceil_comp=aggregateScores(c_comp)\n",
    "\n",
    "    ceiled_lang = center_lang/ceil_lang\n",
    "    ceiled_comp = center_comp/ceil_comp\n",
    "\n",
    "    diff = ceiled_lang - ceiled_comp\n",
    "    #print(f\"median drop {np.nanmedian(diffs)}+-{np.std(diffs)}\")\n",
    "    mult = ceiled_lang / ceiled_comp\n",
    "    #print(f\"median multiplicative drop {np.nanmedian(mults)}+-{np.std(mults)}\")\n",
    "    perc = diff / ceiled_lang\n",
    "\n",
    "    return diff, mult, perc, ceiled_lang, ceiled_comp, b "
   ]
  },
  {
   "cell_type": "code",
   "execution_count": 9,
   "metadata": {},
   "outputs": [
    {
     "name": "stdout",
     "output_type": "stream",
     "text": [
      "encoder.h.43\n"
     ]
    },
    {
     "name": "stderr",
     "output_type": "stream",
     "text": [
      "/om/user/gretatu/.conda/envs/brainmodeling/lib/python3.6/site-packages/xarray/core/nanops.py:159: RuntimeWarning: Mean of empty slice\n",
      "  return np.nanmean(a, axis=axis, dtype=dtype)\n"
     ]
    }
   ],
   "source": [
    "diff, mult, perc, ceiled_lang, ceiled_comp, b=computeDrop(score,ceil,'MD')"
   ]
  },
  {
   "cell_type": "code",
   "execution_count": 10,
   "metadata": {},
   "outputs": [
    {
     "name": "stderr",
     "output_type": "stream",
     "text": [
      "/om/user/gretatu/.conda/envs/brainmodeling/lib/python3.6/site-packages/brainscore/metrics/__init__.py:48: UserWarning: isel on raw values failed: ValueError(\"dimensions ['aggregation'] do not exist\",)\n",
      "  warnings.warn(f\"{operation} on raw values failed: {repr(e)}\")\n",
      "/om/user/gretatu/.conda/envs/brainmodeling/lib/python3.6/site-packages/brainscore/metrics/__init__.py:48: UserWarning: squeeze on raw values failed: KeyError('aggregation',)\n",
      "  warnings.warn(f\"{operation} on raw values failed: {repr(e)}\")\n"
     ]
    },
    {
     "name": "stdout",
     "output_type": "stream",
     "text": [
      "encoder.h.43\n"
     ]
    },
    {
     "name": "stderr",
     "output_type": "stream",
     "text": [
      "/om/user/gretatu/.conda/envs/brainmodeling/lib/python3.6/site-packages/xarray/core/nanops.py:159: RuntimeWarning: Mean of empty slice\n",
      "  return np.nanmean(a, axis=axis, dtype=dtype)\n",
      "/om/user/gretatu/.conda/envs/brainmodeling/lib/python3.6/site-packages/brainscore/metrics/__init__.py:48: UserWarning: isel on raw values failed: IndexError('Boolean array size 50628 is used to index array with shape (50647,).',)\n",
      "  warnings.warn(f\"{operation} on raw values failed: {repr(e)}\")\n"
     ]
    },
    {
     "data": {
      "text/plain": [
       "(<xarray.Score ()>\n",
       " array(-0.182367)\n",
       " Coordinates:\n",
       "     layer        <U12 'encoder.h.43'\n",
       "     aggregation  <U10 'center', <xarray.Score ()>\n",
       " array(0.851344)\n",
       " Coordinates:\n",
       "     layer        <U12 'encoder.h.43'\n",
       "     aggregation  <U10 'center', <xarray.Score ()>\n",
       " array(-0.174613)\n",
       " Coordinates:\n",
       "     layer        <U12 'encoder.h.43'\n",
       "     aggregation  <U10 'center', <xarray.Score ()>\n",
       " array(1.044403)\n",
       " Coordinates:\n",
       "     layer        <U12 'encoder.h.43'\n",
       "     aggregation  <U10 'center', <xarray.Score ()>\n",
       " array(1.226769)\n",
       " Coordinates:\n",
       "     layer        <U12 'encoder.h.43'\n",
       "     aggregation  <U10 'center', array('encoder.h.43', dtype='<U12'))"
      ]
     },
     "execution_count": 10,
     "metadata": {},
     "output_type": "execute_result"
    }
   ],
   "source": [
    "computeDrop(score,ceil,'MD')"
   ]
  },
  {
   "cell_type": "code",
   "execution_count": null,
   "metadata": {},
   "outputs": [],
   "source": []
  },
  {
   "cell_type": "markdown",
   "metadata": {},
   "source": [
    "## Sanity checking the entire pipeline and function used."
   ]
  },
  {
   "cell_type": "markdown",
   "metadata": {},
   "source": [
    "#### Using the loaded GPT2-xl and ceiling to check. The function used is as follows:"
   ]
  },
  {
   "cell_type": "code",
   "execution_count": 7,
   "metadata": {},
   "outputs": [],
   "source": [
    "def computeDrop(score,ceil,comparison):\n",
    "    b=bestLangLayer(score)\n",
    "    o=meanSplitExp(score)\n",
    "    o1=freezeBestLangLayer(o,b)\n",
    "    o_lang=extractCoord(o1,'atlas','language')\n",
    "    o_comp=extractCoord(o1,'atlas',comparison)\n",
    "\n",
    "    center_lang=aggregateScores(o_lang)\n",
    "    center_comp=aggregateScores(o_comp)\n",
    "\n",
    "    # Ceiling\n",
    "    c=getCenter(ceil)\n",
    "#    c_lang=extractCoord(c,'atlas','language').median()\n",
    "#    c_comp=extractCoord(c,'atlas',comparison).median()\n",
    "\n",
    "#    ceiled_lang = center_lang/c_lang\n",
    "#    ceiled_comp = center_comp/c_comp\n",
    "\n",
    "    c_lang=extractCoord(c,'atlas','language')#.median()\n",
    "    c_comp=extractCoord(c,'atlas',comparison)#.median()\n",
    "    \n",
    "    ceil_lang=aggregateScores(c_lang)\n",
    "    ceil_comp=aggregateScores(c_comp)\n",
    "\n",
    "    ceiled_lang = center_lang/ceil_lang\n",
    "    ceiled_comp = center_comp/ceil_comp\n",
    "\n",
    "    diff = ceiled_lang - ceiled_comp\n",
    "    mult = ceiled_lang / ceiled_comp\n",
    "    perc = diff / ceiled_lang\n",
    "\n",
    "    return diff, mult, perc, ceiled_lang, ceiled_comp, b "
   ]
  },
  {
   "cell_type": "markdown",
   "metadata": {},
   "source": [
    "## For the scores:"
   ]
  },
  {
   "cell_type": "code",
   "execution_count": 8,
   "metadata": {},
   "outputs": [
    {
     "name": "stderr",
     "output_type": "stream",
     "text": [
      "/om/user/gretatu/.conda/envs/brainmodeling/lib/python3.6/site-packages/brainscore/metrics/__init__.py:48: UserWarning: isel on raw values failed: ValueError(\"dimensions ['aggregation'] do not exist\",)\n",
      "  warnings.warn(f\"{operation} on raw values failed: {repr(e)}\")\n",
      "/om/user/gretatu/.conda/envs/brainmodeling/lib/python3.6/site-packages/brainscore/metrics/__init__.py:48: UserWarning: squeeze on raw values failed: KeyError('aggregation',)\n",
      "  warnings.warn(f\"{operation} on raw values failed: {repr(e)}\")\n"
     ]
    },
    {
     "name": "stdout",
     "output_type": "stream",
     "text": [
      "encoder.h.43\n"
     ]
    },
    {
     "name": "stderr",
     "output_type": "stream",
     "text": [
      "/om/user/gretatu/.conda/envs/brainmodeling/lib/python3.6/site-packages/xarray/core/nanops.py:159: RuntimeWarning: Mean of empty slice\n",
      "  return np.nanmean(a, axis=axis, dtype=dtype)\n"
     ]
    },
    {
     "data": {
      "text/plain": [
       "<xarray.Score (neuroid: 102880)>\n",
       "array([0.314565, 0.31357 , 0.288955, ..., 0.220157, 0.272854, 0.426872])\n",
       "Coordinates:\n",
       "    layer            <U12 'encoder.h.43'\n",
       "  * neuroid          (neuroid) MultiIndex\n",
       "  - subject          (neuroid) object '018' '018' '018' ... '018' '018' '018'\n",
       "  - voxel_num        (neuroid) int64 28 29 31 32 38 42 ... 152 153 154 159 160\n",
       "  - filter_strategy  (neuroid) object nan nan nan nan nan ... nan nan nan nan\n",
       "  - atlas_selection  (neuroid) object 'from90to100prcnt' ... 'from90to100prcnt'\n",
       "  - roi              (neuroid) object 'LH_AntTemp' 'LH_AntTemp' ... 'LH_AntTemp'\n",
       "  - indices_in_3d    (neuroid) int64 72505 72506 72584 ... 87754 87831 87832\n",
       "  - col_to_coord_1   (neuroid) int64 62 63 62 63 63 63 63 ... 65 62 63 64 62 63\n",
       "  - col_to_coord_2   (neuroid) int64 63 63 64 64 65 66 63 ... 65 66 66 66 67 67\n",
       "  - col_to_coord_3   (neuroid) int64 10 10 10 10 10 10 11 ... 12 12 12 12 12 12\n",
       "  - neuroid_id       (neuroid) object '018.28' '018.29' ... '018.159' '018.160'\n",
       "  - atlas            (neuroid) object 'language' 'language' ... 'language'"
      ]
     },
     "execution_count": 8,
     "metadata": {},
     "output_type": "execute_result"
    }
   ],
   "source": [
    "# Going through every single step:\n",
    "b=bestLangLayer(score)\n",
    "o=meanSplitExp(score)\n",
    "o1=freezeBestLangLayer(o,b)\n",
    "o1 # Meaned across split and exp, best layer extracted.\n"
   ]
  },
  {
   "cell_type": "code",
   "execution_count": 9,
   "metadata": {},
   "outputs": [
    {
     "data": {
      "text/plain": [
       "<xarray.Score (neuroid: 13517)>\n",
       "array([0.314565, 0.31357 , 0.288955, ..., 0.38148 , 0.325691, 0.492467])\n",
       "Coordinates:\n",
       "    layer            <U12 'encoder.h.43'\n",
       "  * neuroid          (neuroid) MultiIndex\n",
       "  - subject          (neuroid) object '018' '018' '018' ... '018' '018' '018'\n",
       "  - voxel_num        (neuroid) int64 28 29 31 32 38 42 ... 152 153 154 159 160\n",
       "  - filter_strategy  (neuroid) object nan nan nan nan nan ... nan nan nan nan\n",
       "  - atlas_selection  (neuroid) object 'from90to100prcnt' ... 'from90to100prcnt'\n",
       "  - roi              (neuroid) object 'LH_AntTemp' 'LH_AntTemp' ... 'LH_AntTemp'\n",
       "  - indices_in_3d    (neuroid) int64 72505 72506 72584 ... 87754 87831 87832\n",
       "  - col_to_coord_1   (neuroid) int64 62 63 62 63 63 63 63 ... 65 62 63 64 62 63\n",
       "  - col_to_coord_2   (neuroid) int64 63 63 64 64 65 66 63 ... 65 66 66 66 67 67\n",
       "  - col_to_coord_3   (neuroid) int64 10 10 10 10 10 10 11 ... 12 12 12 12 12 12\n",
       "  - neuroid_id       (neuroid) object '018.28' '018.29' ... '018.159' '018.160'\n",
       "  - atlas            (neuroid) object 'language' 'language' ... 'language'"
      ]
     },
     "execution_count": 9,
     "metadata": {},
     "output_type": "execute_result"
    }
   ],
   "source": [
    "# Extracting the network:\n",
    "comparison='MD'\n",
    "o_lang=extractCoord(o1,'atlas','language')\n",
    "o_comp=extractCoord(o1,'atlas',comparison)\n",
    "o_lang"
   ]
  },
  {
   "cell_type": "code",
   "execution_count": 10,
   "metadata": {},
   "outputs": [
    {
     "data": {
      "text/plain": [
       "<xarray.Score (neuroid: 29845)>\n",
       "array([0.223181, 0.345573, 0.332533, ..., 0.220157, 0.272854, 0.426872])\n",
       "Coordinates:\n",
       "    layer            <U12 'encoder.h.43'\n",
       "  * neuroid          (neuroid) MultiIndex\n",
       "  - subject          (neuroid) object '018' '018' '018' ... '018' '018' '018'\n",
       "  - voxel_num        (neuroid) int64 10170 10186 10187 ... 10307 10308 10315\n",
       "  - filter_strategy  (neuroid) object 'HminusE' 'HminusE' ... 'HminusE'\n",
       "  - atlas_selection  (neuroid) object 'from90to100prcnt' ... 'from90to100prcnt'\n",
       "  - roi              (neuroid) object 'RH_Precental_B_IFGop' ... 'LH_midFrontalOrb'\n",
       "  - indices_in_3d    (neuroid) int64 252421 252629 252630 ... 254007 254041\n",
       "  - col_to_coord_1   (neuroid) int64 16 66 67 12 13 14 68 ... 57 58 20 21 22 56\n",
       "  - col_to_coord_2   (neuroid) int64 61 63 63 64 64 64 64 ... 80 80 81 81 81 81\n",
       "  - col_to_coord_3   (neuroid) int64 34 34 34 34 34 34 34 ... 34 34 34 34 34 34\n",
       "  - neuroid_id       (neuroid) object '018.10170' '018.10186' ... '018.10315'\n",
       "  - atlas            (neuroid) object 'MD' 'MD' 'MD' 'MD' ... 'MD' 'MD' 'MD'"
      ]
     },
     "execution_count": 10,
     "metadata": {},
     "output_type": "execute_result"
    }
   ],
   "source": [
    "o_comp #scores for MD "
   ]
  },
  {
   "cell_type": "code",
   "execution_count": 11,
   "metadata": {},
   "outputs": [],
   "source": [
    "# Aggregate across subjects, median across subjects, and then median again. Identical to msch's function.\n",
    "center_lang=aggregateScores(o_lang)\n",
    "center_comp=aggregateScores(o_comp)"
   ]
  },
  {
   "cell_type": "code",
   "execution_count": 12,
   "metadata": {},
   "outputs": [
    {
     "data": {
      "text/plain": [
       "<xarray.Score ()>\n",
       "array(0.332712)\n",
       "Coordinates:\n",
       "    layer    <U12 'encoder.h.43'"
      ]
     },
     "execution_count": 12,
     "metadata": {},
     "output_type": "execute_result"
    }
   ],
   "source": [
    "center_lang # checked with Martin during a meeting, he had identical value. And see below - the normalized score also matches with msch."
   ]
  },
  {
   "cell_type": "code",
   "execution_count": 13,
   "metadata": {},
   "outputs": [
    {
     "data": {
      "text/plain": [
       "<xarray.Score ()>\n",
       "array(0.304799)\n",
       "Coordinates:\n",
       "    layer    <U12 'encoder.h.43'"
      ]
     },
     "execution_count": 13,
     "metadata": {},
     "output_type": "execute_result"
    }
   ],
   "source": [
    "center_comp"
   ]
  },
  {
   "cell_type": "markdown",
   "metadata": {},
   "source": [
    "## For the ceiling"
   ]
  },
  {
   "cell_type": "code",
   "execution_count": 14,
   "metadata": {},
   "outputs": [
    {
     "data": {
      "text/plain": [
       "<xarray.Score (neuroid: 50628, aggregation: 3)>\n",
       "array([[0.510463, 0.013919, 0.01341 ],\n",
       "       [0.488328, 0.011905, 0.014889],\n",
       "       [0.550399, 0.010395, 0.008968],\n",
       "       ...,\n",
       "       [0.375212, 0.080541, 0.215047],\n",
       "       [0.36408 , 0.057842, 0.174951],\n",
       "       [0.360292, 0.026817, 0.042612]])\n",
       "Coordinates:\n",
       "  * aggregation      (aggregation) <U10 'center' 'error_low' 'error_high'\n",
       "  * neuroid          (neuroid) MultiIndex\n",
       "  - subject          (neuroid) object '289' '289' '289' ... '289' '289' '289'\n",
       "  - voxel_num        (neuroid) int64 73 80 81 91 139 140 ... 363 364 365 375 411\n",
       "  - filter_strategy  (neuroid) object nan nan nan nan ... nan nan 'FIXminusH'\n",
       "  - atlas_selection  (neuroid) object 'from90to100prcnt' ... 'from90to100prcnt'\n",
       "  - roi              (neuroid) object 'LH_AntTemp' ... 'RH_FrontalMed'\n",
       "  - indices_in_3d    (neuroid) int64 79933 80012 80013 ... 102320 102449 103291\n",
       "  - col_to_coord_1   (neuroid) int64 64 64 65 65 64 65 64 ... 16 13 14 15 65 38\n",
       "  - col_to_coord_2   (neuroid) int64 62 63 63 64 62 62 63 ... 60 61 61 61 62 73\n",
       "  - col_to_coord_3   (neuroid) int64 11 11 11 11 12 12 12 ... 14 14 14 14 14 14\n",
       "  - neuroid_id       (neuroid) object '289.73' '289.80' ... '289.375' '289.411'\n",
       "  - atlas            (neuroid) object 'language' 'language' ... 'language' 'DMN'\n",
       "Attributes:\n",
       "    raw:                  <xarray.Score (sub_subject: 106, num_subjects: 8, s...\n",
       "    bootstrapped_params:  <xarray.DataAssembly (neuroid: 50628, bootstrap: 10...\n",
       "    endpoint_x:           <xarray.DataAssembly (neuroid: 50628)>\\narray([10, ..."
      ]
     },
     "execution_count": 14,
     "metadata": {},
     "output_type": "execute_result"
    }
   ],
   "source": [
    "ceil.raw # All computed ceiling values"
   ]
  },
  {
   "cell_type": "code",
   "execution_count": 15,
   "metadata": {},
   "outputs": [
    {
     "data": {
      "text/plain": [
       "<xarray.Score (neuroid: 50628)>\n",
       "array([0.510463, 0.488328, 0.550399, ..., 0.375212, 0.36408 , 0.360292])\n",
       "Coordinates:\n",
       "    aggregation      <U10 'center'\n",
       "  * neuroid          (neuroid) MultiIndex\n",
       "  - subject          (neuroid) object '289' '289' '289' ... '289' '289' '289'\n",
       "  - voxel_num        (neuroid) int64 73 80 81 91 139 140 ... 363 364 365 375 411\n",
       "  - filter_strategy  (neuroid) object nan nan nan nan ... nan nan 'FIXminusH'\n",
       "  - atlas_selection  (neuroid) object 'from90to100prcnt' ... 'from90to100prcnt'\n",
       "  - roi              (neuroid) object 'LH_AntTemp' ... 'RH_FrontalMed'\n",
       "  - indices_in_3d    (neuroid) int64 79933 80012 80013 ... 102320 102449 103291\n",
       "  - col_to_coord_1   (neuroid) int64 64 64 65 65 64 65 64 ... 16 13 14 15 65 38\n",
       "  - col_to_coord_2   (neuroid) int64 62 63 63 64 62 62 63 ... 60 61 61 61 62 73\n",
       "  - col_to_coord_3   (neuroid) int64 11 11 11 11 12 12 12 ... 14 14 14 14 14 14\n",
       "  - neuroid_id       (neuroid) object '289.73' '289.80' ... '289.375' '289.411'\n",
       "  - atlas            (neuroid) object 'language' 'language' ... 'language' 'DMN'\n",
       "Attributes:\n",
       "    raw:                  <xarray.Score (sub_subject: 106, num_subjects: 8, s...\n",
       "    bootstrapped_params:  <xarray.DataAssembly (neuroid: 50628, bootstrap: 10...\n",
       "    endpoint_x:           <xarray.DataAssembly (neuroid: 50628)>\\narray([10, ..."
      ]
     },
     "execution_count": 15,
     "metadata": {},
     "output_type": "execute_result"
    }
   ],
   "source": [
    "c=getCenter(ceil) # Get the center values from above.\n",
    "c"
   ]
  },
  {
   "cell_type": "code",
   "execution_count": 16,
   "metadata": {},
   "outputs": [
    {
     "name": "stderr",
     "output_type": "stream",
     "text": [
      "/om/user/gretatu/.conda/envs/brainmodeling/lib/python3.6/site-packages/brainscore/metrics/__init__.py:48: UserWarning: isel on raw values failed: IndexError('Boolean array size 50628 is used to index array with shape (50647,).',)\n",
      "  warnings.warn(f\"{operation} on raw values failed: {repr(e)}\")\n"
     ]
    },
    {
     "data": {
      "text/plain": [
       "<xarray.Score (neuroid: 6723)>\n",
       "array([0.510463, 0.488328, 0.550399, ..., 0.276792, 0.275839, 0.266383])\n",
       "Coordinates:\n",
       "    aggregation      <U10 'center'\n",
       "  * neuroid          (neuroid) MultiIndex\n",
       "  - subject          (neuroid) object '289' '289' '289' ... '289' '289' '289'\n",
       "  - voxel_num        (neuroid) int64 73 80 81 91 139 140 ... 375 503 504 512 513\n",
       "  - filter_strategy  (neuroid) object nan nan nan nan nan ... nan nan nan nan\n",
       "  - atlas_selection  (neuroid) object 'from90to100prcnt' ... 'from90to100prcnt'\n",
       "  - roi              (neuroid) object 'LH_AntTemp' 'LH_AntTemp' ... 'RH_AntTemp'\n",
       "  - indices_in_3d    (neuroid) int64 79933 80012 80013 ... 109667 109745 109746\n",
       "  - col_to_coord_1   (neuroid) int64 64 64 65 65 64 65 64 ... 15 65 14 15 14 15\n",
       "  - col_to_coord_2   (neuroid) int64 62 63 63 64 62 62 63 ... 61 62 59 59 60 60\n",
       "  - col_to_coord_3   (neuroid) int64 11 11 11 11 12 12 12 ... 14 14 15 15 15 15\n",
       "  - neuroid_id       (neuroid) object '289.73' '289.80' ... '289.512' '289.513'\n",
       "  - atlas            (neuroid) object 'language' 'language' ... 'language'\n",
       "Attributes:\n",
       "    raw:                  <xarray.Score (sub_subject: 106, num_subjects: 8, s...\n",
       "    bootstrapped_params:  <xarray.DataAssembly (neuroid: 50628, bootstrap: 10...\n",
       "    endpoint_x:           <xarray.DataAssembly (neuroid: 50628)>\\narray([10, ..."
      ]
     },
     "execution_count": 16,
     "metadata": {},
     "output_type": "execute_result"
    }
   ],
   "source": [
    "# Extract the atlas of interest\n",
    "c_lang=extractCoord(c,'atlas','language')\n",
    "c_comp=extractCoord(c,'atlas',comparison)\n",
    "c_lang"
   ]
  },
  {
   "cell_type": "code",
   "execution_count": 17,
   "metadata": {},
   "outputs": [
    {
     "data": {
      "text/plain": [
       "<xarray.Score (neuroid: 14667)>\n",
       "array([0.30579 , 0.309311, 0.30106 , ..., 0.293943, 0.289287, 0.360292])\n",
       "Coordinates:\n",
       "    aggregation      <U10 'center'\n",
       "  * neuroid          (neuroid) MultiIndex\n",
       "  - subject          (neuroid) object '289' '289' '289' ... '289' '289' '289'\n",
       "  - voxel_num        (neuroid) int64 10001 10007 10008 ... 10841 10859 10860\n",
       "  - filter_strategy  (neuroid) object 'HminusE' 'HminusE' ... 'HminusE'\n",
       "  - atlas_selection  (neuroid) object 'from90to100prcnt' ... 'from90to100prcnt'\n",
       "  - roi              (neuroid) object 'LH_midFrontal' ... 'RH_midFrontalOrb'\n",
       "  - indices_in_3d    (neuroid) int64 238802 238912 238913 ... 246933 246982\n",
       "  - col_to_coord_1   (neuroid) int64 64 16 17 28 28 28 56 ... 28 28 28 28 58 28\n",
       "  - col_to_coord_2   (neuroid) int64 78 80 80 83 84 85 87 ... 83 84 85 86 86 87\n",
       "  - col_to_coord_3   (neuroid) int64 32 32 32 32 32 32 32 ... 33 33 33 33 33 33\n",
       "  - neuroid_id       (neuroid) object '289.10001' '289.10007' ... '289.10860'\n",
       "  - atlas            (neuroid) object 'MD' 'MD' 'MD' 'MD' ... 'MD' 'MD' 'MD'\n",
       "Attributes:\n",
       "    raw:                  <xarray.Score (sub_subject: 106, num_subjects: 8, s...\n",
       "    bootstrapped_params:  <xarray.DataAssembly (neuroid: 50628, bootstrap: 10...\n",
       "    endpoint_x:           <xarray.DataAssembly (neuroid: 50628)>\\narray([10, ..."
      ]
     },
     "execution_count": 17,
     "metadata": {},
     "output_type": "execute_result"
    }
   ],
   "source": [
    "c_comp\n"
   ]
  },
  {
   "cell_type": "code",
   "execution_count": 18,
   "metadata": {},
   "outputs": [
    {
     "data": {
      "text/plain": [
       "<xarray.Score ()>\n",
       "array(0.318567)\n",
       "Coordinates:\n",
       "    aggregation  <U10 'center'"
      ]
     },
     "execution_count": 18,
     "metadata": {},
     "output_type": "execute_result"
    }
   ],
   "source": [
    "# Aggregate the scores by computing median over subjects, and median again.\n",
    "ceil_lang=aggregateScores(c_lang)\n",
    "ceil_comp=aggregateScores(c_comp)\n",
    "ceil_lang"
   ]
  },
  {
   "cell_type": "code",
   "execution_count": 19,
   "metadata": {},
   "outputs": [
    {
     "data": {
      "text/plain": [
       "<xarray.Score ()>\n",
       "array(0.248457)\n",
       "Coordinates:\n",
       "    aggregation  <U10 'center'"
      ]
     },
     "execution_count": 19,
     "metadata": {},
     "output_type": "execute_result"
    }
   ],
   "source": [
    "ceil_comp"
   ]
  },
  {
   "cell_type": "code",
   "execution_count": 20,
   "metadata": {},
   "outputs": [],
   "source": [
    "# Compute ceiled value:\n",
    "ceiled_lang = center_lang/ceil_lang\n",
    "ceiled_comp = center_comp/ceil_comp"
   ]
  },
  {
   "cell_type": "code",
   "execution_count": 21,
   "metadata": {},
   "outputs": [
    {
     "data": {
      "text/plain": [
       "<xarray.Score ()>\n",
       "array(1.044403)\n",
       "Coordinates:\n",
       "    layer        <U12 'encoder.h.43'\n",
       "    aggregation  <U10 'center'"
      ]
     },
     "execution_count": 21,
     "metadata": {},
     "output_type": "execute_result"
    }
   ],
   "source": [
    "ceiled_lang"
   ]
  },
  {
   "cell_type": "code",
   "execution_count": 22,
   "metadata": {},
   "outputs": [
    {
     "data": {
      "text/plain": [
       "<xarray.Score ()>\n",
       "array(1.226769)\n",
       "Coordinates:\n",
       "    layer        <U12 'encoder.h.43'\n",
       "    aggregation  <U10 'center'"
      ]
     },
     "execution_count": 22,
     "metadata": {},
     "output_type": "execute_result"
    }
   ],
   "source": [
    "ceiled_comp # Both of these scores match with msch's scores and my scores in the excel:\n",
    "# Pereira2018-lang-MD-specificity-2020-05-19.xlsx"
   ]
  },
  {
   "cell_type": "code",
   "execution_count": 23,
   "metadata": {},
   "outputs": [
    {
     "data": {
      "text/plain": [
       "-0.18236600000000003"
      ]
     },
     "execution_count": 23,
     "metadata": {},
     "output_type": "execute_result"
    }
   ],
   "source": [
    "# The diff should thus be: \n",
    "1.044403-1.226769 #matches with the excel."
   ]
  },
  {
   "cell_type": "code",
   "execution_count": 25,
   "metadata": {},
   "outputs": [
    {
     "name": "stderr",
     "output_type": "stream",
     "text": [
      "/om/user/gretatu/.conda/envs/brainmodeling/lib/python3.6/site-packages/brainscore/metrics/__init__.py:48: UserWarning: isel on raw values failed: ValueError(\"dimensions ['aggregation'] do not exist\",)\n",
      "  warnings.warn(f\"{operation} on raw values failed: {repr(e)}\")\n",
      "/om/user/gretatu/.conda/envs/brainmodeling/lib/python3.6/site-packages/brainscore/metrics/__init__.py:48: UserWarning: squeeze on raw values failed: KeyError('aggregation',)\n",
      "  warnings.warn(f\"{operation} on raw values failed: {repr(e)}\")\n"
     ]
    },
    {
     "name": "stdout",
     "output_type": "stream",
     "text": [
      "encoder.h.43\n"
     ]
    },
    {
     "name": "stderr",
     "output_type": "stream",
     "text": [
      "/om/user/gretatu/.conda/envs/brainmodeling/lib/python3.6/site-packages/xarray/core/nanops.py:159: RuntimeWarning: Mean of empty slice\n",
      "  return np.nanmean(a, axis=axis, dtype=dtype)\n",
      "/om/user/gretatu/.conda/envs/brainmodeling/lib/python3.6/site-packages/brainscore/metrics/__init__.py:48: UserWarning: isel on raw values failed: IndexError('Boolean array size 50628 is used to index array with shape (50647,).',)\n",
      "  warnings.warn(f\"{operation} on raw values failed: {repr(e)}\")\n"
     ]
    },
    {
     "name": "stdout",
     "output_type": "stream",
     "text": [
      "<xarray.Score ()>\n",
      "array(-0.182367)\n",
      "Coordinates:\n",
      "    layer        <U12 'encoder.h.43'\n",
      "    aggregation  <U10 'center'\n"
     ]
    }
   ],
   "source": [
    "# Test the function:\n",
    "diff, mult, perc, ceiled_lang, ceiled_comp, b = computeDrop(score,ceil,comparison)\n",
    "print(diff) # matches."
   ]
  },
  {
   "cell_type": "markdown",
   "metadata": {},
   "source": [
    "### For non-ceiled analyses, the identical thing happens, just without the division with the ceiling."
   ]
  },
  {
   "cell_type": "code",
   "execution_count": null,
   "metadata": {},
   "outputs": [],
   "source": []
  }
 ],
 "metadata": {
  "kernelspec": {
   "display_name": "Python 3",
   "language": "python",
   "name": "python3"
  },
  "language_info": {
   "codemirror_mode": {
    "name": "ipython",
    "version": 3
   },
   "file_extension": ".py",
   "mimetype": "text/x-python",
   "name": "python",
   "nbconvert_exporter": "python",
   "pygments_lexer": "ipython3",
   "version": "3.6.10"
  }
 },
 "nbformat": 4,
 "nbformat_minor": 2
}
