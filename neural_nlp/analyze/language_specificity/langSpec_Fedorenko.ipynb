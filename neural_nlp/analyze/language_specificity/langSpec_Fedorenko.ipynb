{
 "cells": [
  {
   "cell_type": "code",
   "execution_count": 1,
   "metadata": {},
   "outputs": [
    {
     "name": "stdout",
     "output_type": "stream",
     "text": [
      "/braintree/home/msch/.result_caching/neural_nlp.score/benchmark=Fedorenko2016v3-encoding,model=xlm-mlm-xnli15-1024,subsample=None.pkl\n",
      "/braintree/home/msch/.result_caching/neural_nlp.score/benchmark=Fedorenko2016v3-encoding,model=glove,subsample=None.pkl\n",
      "/braintree/home/msch/.result_caching/neural_nlp.score/benchmark=Fedorenko2016v3nonlang-encoding,model=albert-xlarge-v2,subsample=None.pkl\n",
      "/braintree/home/msch/.result_caching/neural_nlp.score/benchmark=Fedorenko2016v3nonlang-encoding,model=xlm-mlm-en-2048,subsample=None.pkl\n",
      "/braintree/home/msch/.result_caching/neural_nlp.score/benchmark=Fedorenko2016v3-encoding,model=word2vec,subsample=None.pkl\n",
      "/braintree/home/msch/.result_caching/neural_nlp.score/benchmark=Fedorenko2016v3-encoding,model=distilgpt2,subsample=None.pkl\n",
      "/braintree/home/msch/.result_caching/neural_nlp.score/benchmark=Fedorenko2016v3nonlang-encoding,model=xlnet-base-cased,subsample=None.pkl\n",
      "/braintree/home/msch/.result_caching/neural_nlp.score/benchmark=Fedorenko2016v3-encoding,model=albert-xxlarge-v1,subsample=None.pkl\n",
      "/braintree/home/msch/.result_caching/neural_nlp.score/benchmark=Fedorenko2016v3-encoding,model=albert-large-v1,subsample=None.pkl\n",
      "/braintree/home/msch/.result_caching/neural_nlp.score/benchmark=Fedorenko2016v3-encoding,model=roberta-large,subsample=None.pkl\n",
      "/braintree/home/msch/.result_caching/neural_nlp.score/benchmark=Fedorenko2016v3-encoding,model=gpt2,subsample=None.pkl\n",
      "/braintree/home/msch/.result_caching/neural_nlp.score/benchmark=Fedorenko2016v3-encoding,model=gpt2-large,subsample=None.pkl\n",
      "/braintree/home/msch/.result_caching/neural_nlp.score/benchmark=Fedorenko2016v3-encoding,model=t5-3b,subsample=None.pkl\n",
      "/braintree/home/msch/.result_caching/neural_nlp.score/benchmark=Fedorenko2016v3nonlang-encoding,model=gpt2-large,subsample=None.pkl\n",
      "/braintree/home/msch/.result_caching/neural_nlp.score/benchmark=Fedorenko2016v3-encoding,model=gpt2-medium,subsample=None.pkl\n",
      "/braintree/home/msch/.result_caching/neural_nlp.score/benchmark=Fedorenko2016v3nonlang-encoding,model=lm_1b,subsample=None.pkl\n",
      "/braintree/home/msch/.result_caching/neural_nlp.score/benchmark=Fedorenko2016v3nonlang-encoding,model=albert-large-v2,subsample=None.pkl\n",
      "/braintree/home/msch/.result_caching/neural_nlp.score/benchmark=Fedorenko2016v3-encoding,model=albert-base-v2,subsample=None.pkl\n",
      "/braintree/home/msch/.result_caching/neural_nlp.score/benchmark=Fedorenko2016v3nonlang-encoding,model=albert-xxlarge-v1,subsample=None.pkl\n",
      "/braintree/home/msch/.result_caching/neural_nlp.score/benchmark=Fedorenko2016v3nonlang-encoding,model=distilbert-base-uncased,subsample=None.pkl\n",
      "/braintree/home/msch/.result_caching/neural_nlp.score/benchmark=Fedorenko2016v3-encoding,model=t5-11b,subsample=None.pkl\n",
      "/braintree/home/msch/.result_caching/neural_nlp.score/benchmark=Fedorenko2016v3nonlang-encoding,model=xlnet-large-cased,subsample=None.pkl\n",
      "/braintree/home/msch/.result_caching/neural_nlp.score/benchmark=Fedorenko2016v3-encoding,model=distilroberta-base,subsample=None.pkl\n",
      "/braintree/home/msch/.result_caching/neural_nlp.score/benchmark=Fedorenko2016v3-encoding,model=xlm-mlm-enfr-1024,subsample=None.pkl\n",
      "/braintree/home/msch/.result_caching/neural_nlp.score/benchmark=Fedorenko2016v3-encoding,model=xlnet-base-cased,subsample=None.pkl\n",
      "/braintree/home/msch/.result_caching/neural_nlp.score/benchmark=Fedorenko2016v3-encoding,model=ctrl,subsample=None.pkl\n",
      "/braintree/home/msch/.result_caching/neural_nlp.score/benchmark=Fedorenko2016v3-encoding,model=gpt2-xl,subsample=None.pkl\n",
      "/braintree/home/msch/.result_caching/neural_nlp.score/benchmark=Fedorenko2016v3-encoding,model=distilbert-base-uncased,subsample=None.pkl\n",
      "/braintree/home/msch/.result_caching/neural_nlp.score/benchmark=Fedorenko2016v3nonlang-encoding,model=t5-large,subsample=None.pkl\n",
      "/braintree/home/msch/.result_caching/neural_nlp.score/benchmark=Fedorenko2016v3-encoding,model=bert-base-multilingual-cased,subsample=None.pkl\n",
      "/braintree/home/msch/.result_caching/neural_nlp.score/benchmark=Fedorenko2016v3nonlang-encoding,model=albert-xlarge-v1,subsample=None.pkl\n",
      "/braintree/home/msch/.result_caching/neural_nlp.score/benchmark=Fedorenko2016v3-encoding,model=albert-large-v2,subsample=None.pkl\n",
      "/braintree/home/msch/.result_caching/neural_nlp.score/benchmark=Fedorenko2016v3nonlang-encoding,model=bert-base-uncased,subsample=None.pkl\n",
      "/braintree/home/msch/.result_caching/neural_nlp.score/benchmark=Fedorenko2016v3nonlang-encoding,model=gpt2-xl,subsample=None.pkl\n",
      "/braintree/home/msch/.result_caching/neural_nlp.score/benchmark=Fedorenko2016v3-encoding,model=albert-xlarge-v1,subsample=None.pkl\n",
      "/braintree/home/msch/.result_caching/neural_nlp.score/benchmark=Fedorenko2016v3nonlang-encoding,model=t5-small,subsample=None.pkl\n",
      "/braintree/home/msch/.result_caching/neural_nlp.score/benchmark=Fedorenko2016v3nonlang-encoding,model=glove,subsample=None.pkl\n",
      "/braintree/home/msch/.result_caching/neural_nlp.score/benchmark=Fedorenko2016v3nonlang-encoding,model=openaigpt,subsample=None.pkl\n",
      "/braintree/home/msch/.result_caching/neural_nlp.score/benchmark=Fedorenko2016v3nonlang-encoding,model=albert-large-v1,subsample=None.pkl\n",
      "/braintree/home/msch/.result_caching/neural_nlp.score/benchmark=Fedorenko2016v3nonlang-encoding,model=albert-xxlarge-v2,subsample=None.pkl\n",
      "/braintree/home/msch/.result_caching/neural_nlp.score/benchmark=Fedorenko2016v3nonlang-encoding,model=t5-11b,subsample=None.pkl\n",
      "/braintree/home/msch/.result_caching/neural_nlp.score/benchmark=Fedorenko2016v3nonlang-encoding,model=bert-large-uncased,subsample=None.pkl\n",
      "/braintree/home/msch/.result_caching/neural_nlp.score/benchmark=Fedorenko2016v3nonlang-encoding,model=gpt2-medium,subsample=None.pkl\n",
      "/braintree/home/msch/.result_caching/neural_nlp.score/benchmark=Fedorenko2016v3-encoding,model=xlm-mlm-100-1280,subsample=None.pkl\n",
      "/braintree/home/msch/.result_caching/neural_nlp.score/benchmark=Fedorenko2016v3nonlang-encoding,model=gpt2,subsample=None.pkl\n",
      "/braintree/home/msch/.result_caching/neural_nlp.score/benchmark=Fedorenko2016v3nonlang-encoding,model=xlm-roberta-base,subsample=None.pkl\n",
      "/braintree/home/msch/.result_caching/neural_nlp.score/benchmark=Fedorenko2016v3-encoding,model=xlm-clm-enfr-1024,subsample=None.pkl\n",
      "/braintree/home/msch/.result_caching/neural_nlp.score/benchmark=Fedorenko2016v3nonlang-encoding,model=bert-base-multilingual-cased,subsample=None.pkl\n",
      "/braintree/home/msch/.result_caching/neural_nlp.score/benchmark=Fedorenko2016v3nonlang-encoding,model=transformer,subsample=None.pkl\n",
      "/braintree/home/msch/.result_caching/neural_nlp.score/benchmark=Fedorenko2016v3-encoding,model=bert-base-uncased,subsample=None.pkl\n",
      "/braintree/home/msch/.result_caching/neural_nlp.score/benchmark=Fedorenko2016v3-encoding,model=xlm-roberta-base,subsample=None.pkl\n",
      "/braintree/home/msch/.result_caching/neural_nlp.score/benchmark=Fedorenko2016v3-encoding,model=t5-large,subsample=None.pkl\n",
      "/braintree/home/msch/.result_caching/neural_nlp.score/benchmark=Fedorenko2016v3-encoding,model=albert-base-v1,subsample=None.pkl\n",
      "/braintree/home/msch/.result_caching/neural_nlp.score/benchmark=Fedorenko2016v3-encoding,model=xlnet-large-cased,subsample=None.pkl\n",
      "/braintree/home/msch/.result_caching/neural_nlp.score/benchmark=Fedorenko2016v3nonlang-encoding,model=distilroberta-base,subsample=None.pkl\n",
      "/braintree/home/msch/.result_caching/neural_nlp.score/benchmark=Fedorenko2016v3-encoding,model=t5-base,subsample=None.pkl\n",
      "/braintree/home/msch/.result_caching/neural_nlp.score/benchmark=Fedorenko2016v3nonlang-encoding,model=distilgpt2,subsample=None.pkl\n",
      "/braintree/home/msch/.result_caching/neural_nlp.score/benchmark=Fedorenko2016v3nonlang-encoding,model=roberta-large,subsample=None.pkl\n",
      "/braintree/home/msch/.result_caching/neural_nlp.score/benchmark=Fedorenko2016v3nonlang-encoding,model=albert-base-v2,subsample=None.pkl\n",
      "/braintree/home/msch/.result_caching/neural_nlp.score/benchmark=Fedorenko2016v3nonlang-encoding,model=ETM,subsample=None.pkl\n",
      "/braintree/home/msch/.result_caching/neural_nlp.score/benchmark=Fedorenko2016v3nonlang-encoding,model=skip-thoughts,subsample=None.pkl\n",
      "/braintree/home/msch/.result_caching/neural_nlp.score/benchmark=Fedorenko2016v3-encoding,model=albert-xlarge-v2,subsample=None.pkl\n",
      "/braintree/home/msch/.result_caching/neural_nlp.score/benchmark=Fedorenko2016v3nonlang-encoding,model=word2vec,subsample=None.pkl\n",
      "/braintree/home/msch/.result_caching/neural_nlp.score/benchmark=Fedorenko2016v3-encoding,model=albert-xxlarge-v2,subsample=None.pkl\n",
      "/braintree/home/msch/.result_caching/neural_nlp.score/benchmark=Fedorenko2016v3nonlang-encoding,model=xlm-mlm-100-1280,subsample=None.pkl\n",
      "/braintree/home/msch/.result_caching/neural_nlp.score/benchmark=Fedorenko2016v3-encoding,model=openaigpt,subsample=None.pkl\n",
      "/braintree/home/msch/.result_caching/neural_nlp.score/benchmark=Fedorenko2016v3-encoding,model=xlm-mlm-en-2048,subsample=None.pkl\n",
      "/braintree/home/msch/.result_caching/neural_nlp.score/benchmark=Fedorenko2016v3-encoding,model=bert-large-uncased,subsample=None.pkl\n",
      "/braintree/home/msch/.result_caching/neural_nlp.score/benchmark=Fedorenko2016v3nonlang-encoding,model=ctrl,subsample=None.pkl\n",
      "/braintree/home/msch/.result_caching/neural_nlp.score/benchmark=Fedorenko2016v3-encoding,model=transfo-xl-wt103,subsample=None.pkl\n",
      "/braintree/home/msch/.result_caching/neural_nlp.score/benchmark=Fedorenko2016v3nonlang-encoding,model=t5-base,subsample=None.pkl\n",
      "/braintree/home/msch/.result_caching/neural_nlp.score/benchmark=Fedorenko2016v3-encoding,model=t5-small,subsample=None.pkl\n",
      "/braintree/home/msch/.result_caching/neural_nlp.score/benchmark=Fedorenko2016v3-encoding,model=transformer,subsample=None.pkl\n",
      "/braintree/home/msch/.result_caching/neural_nlp.score/benchmark=Fedorenko2016v3-encoding,model=ETM,subsample=None.pkl\n",
      "/braintree/home/msch/.result_caching/neural_nlp.score/benchmark=Fedorenko2016v3nonlang-encoding,model=xlm-mlm-enfr-1024,subsample=None.pkl\n",
      "/braintree/home/msch/.result_caching/neural_nlp.score/benchmark=Fedorenko2016v3-encoding,model=bert-large-uncased-whole-word-masking,subsample=None.pkl\n",
      "/braintree/home/msch/.result_caching/neural_nlp.score/benchmark=Fedorenko2016v3nonlang-encoding,model=t5-3b,subsample=None.pkl\n",
      "/braintree/home/msch/.result_caching/neural_nlp.score/benchmark=Fedorenko2016v3-encoding,model=skip-thoughts,subsample=None.pkl\n",
      "/braintree/home/msch/.result_caching/neural_nlp.score/benchmark=Fedorenko2016v3nonlang-encoding,model=xlm-clm-enfr-1024,subsample=None.pkl\n",
      "/braintree/home/msch/.result_caching/neural_nlp.score/benchmark=Fedorenko2016v3nonlang-encoding,model=roberta-base,subsample=None.pkl\n",
      "/braintree/home/msch/.result_caching/neural_nlp.score/benchmark=Fedorenko2016v3nonlang-encoding,model=transfo-xl-wt103,subsample=None.pkl\n",
      "/braintree/home/msch/.result_caching/neural_nlp.score/benchmark=Fedorenko2016v3nonlang-encoding,model=xlm-mlm-xnli15-1024,subsample=None.pkl\n",
      "/braintree/home/msch/.result_caching/neural_nlp.score/benchmark=Fedorenko2016v3-encoding,model=xlm-roberta-large,subsample=None.pkl\n",
      "/braintree/home/msch/.result_caching/neural_nlp.score/benchmark=Fedorenko2016v3nonlang-encoding,model=bert-large-uncased-whole-word-masking,subsample=None.pkl\n",
      "/braintree/home/msch/.result_caching/neural_nlp.score/benchmark=Fedorenko2016v3-encoding,model=roberta-base,subsample=None.pkl\n",
      "/braintree/home/msch/.result_caching/neural_nlp.score/benchmark=Fedorenko2016v3-encoding,model=lm_1b,subsample=None.pkl\n",
      "/braintree/home/msch/.result_caching/neural_nlp.score/benchmark=Fedorenko2016v3nonlang-encoding,model=albert-base-v1,subsample=None.pkl\n",
      "/braintree/home/msch/.result_caching/neural_nlp.score/benchmark=Fedorenko2016v3nonlang-encoding,model=xlm-roberta-large,subsample=None.pkl\n"
     ]
    }
   ],
   "source": [
    "import pickle\n",
    "import numpy as np\n",
    "import scipy.io as sio\n",
    "import matplotlib.pyplot as plt\n",
    "import datetime \n",
    "import seaborn\n",
    "import xlsxwriter \n",
    "import os\n",
    "\n",
    "from func import *\n",
    "\n",
    "models_l_pkl = []\n",
    "models_nl_pkl = []\n",
    "\n",
    "for path,dir,file in os.walk('/braintree/home/msch/.result_caching/neural_nlp.score/'):\n",
    "    for fileNames in file:\n",
    "        if fileNames.startswith(\"benchmark=Fedorenko2016v3-encoding\"):\n",
    "            if 'untrained' not in fileNames and 'random-embedding' not in fileNames:\n",
    "                fileName = str(os.path.join(path,fileNames))\n",
    "                print(fileName)\n",
    "                models_l_pkl.append(fileName)\n",
    "                \n",
    "        if fileNames.startswith(\"benchmark=Fedorenko2016v3nonlang-encoding\"):\n",
    "            if 'untrained' not in fileNames:\n",
    "                fileName = str(os.path.join(path,fileNames))\n",
    "                print(fileName)\n",
    "                models_nl_pkl.append(fileName)"
   ]
  },
  {
   "cell_type": "code",
   "execution_count": 2,
   "metadata": {},
   "outputs": [
    {
     "data": {
      "text/plain": [
       "44"
      ]
     },
     "execution_count": 2,
     "metadata": {},
     "output_type": "execute_result"
    }
   ],
   "source": [
    "len(models_l_pkl)"
   ]
  },
  {
   "cell_type": "code",
   "execution_count": 3,
   "metadata": {},
   "outputs": [
    {
     "data": {
      "text/plain": [
       "44"
      ]
     },
     "execution_count": 3,
     "metadata": {},
     "output_type": "execute_result"
    }
   ],
   "source": [
    "len(models_nl_pkl)"
   ]
  },
  {
   "cell_type": "markdown",
   "metadata": {},
   "source": [
    "# Ceiled"
   ]
  },
  {
   "cell_type": "code",
   "execution_count": 117,
   "metadata": {},
   "outputs": [
    {
     "name": "stdout",
     "output_type": "stream",
     "text": [
      "/braintree/home/msch/.result_caching/neural_nlp.score/benchmark=Fedorenko2016v3-encoding,model=xlm-mlm-xnli15-1024,subsample=None.pkl\n",
      "/braintree/home/msch/.result_caching/neural_nlp.score/benchmark=Fedorenko2016v3nonlang-encoding,model=xlm-mlm-xnli15-1024,subsample=None.pkl\n",
      "encoder.layer_norm2.9\n",
      "/braintree/home/msch/.result_caching/neural_nlp.score/benchmark=Fedorenko2016v3-encoding,model=glove,subsample=None.pkl\n",
      "/braintree/home/msch/.result_caching/neural_nlp.score/benchmark=Fedorenko2016v3nonlang-encoding,model=glove,subsample=None.pkl\n",
      "projection\n",
      "/braintree/home/msch/.result_caching/neural_nlp.score/benchmark=Fedorenko2016v3-encoding,model=word2vec,subsample=None.pkl\n",
      "/braintree/home/msch/.result_caching/neural_nlp.score/benchmark=Fedorenko2016v3nonlang-encoding,model=word2vec,subsample=None.pkl\n",
      "projection\n",
      "/braintree/home/msch/.result_caching/neural_nlp.score/benchmark=Fedorenko2016v3-encoding,model=distilgpt2,subsample=None.pkl\n",
      "/braintree/home/msch/.result_caching/neural_nlp.score/benchmark=Fedorenko2016v3nonlang-encoding,model=distilgpt2,subsample=None.pkl\n",
      "encoder.h.2\n",
      "/braintree/home/msch/.result_caching/neural_nlp.score/benchmark=Fedorenko2016v3-encoding,model=albert-xxlarge-v1,subsample=None.pkl\n",
      "/braintree/home/msch/.result_caching/neural_nlp.score/benchmark=Fedorenko2016v3nonlang-encoding,model=albert-xxlarge-v1,subsample=None.pkl\n",
      "embeddings\n",
      "/braintree/home/msch/.result_caching/neural_nlp.score/benchmark=Fedorenko2016v3-encoding,model=albert-large-v1,subsample=None.pkl\n",
      "/braintree/home/msch/.result_caching/neural_nlp.score/benchmark=Fedorenko2016v3nonlang-encoding,model=albert-large-v1,subsample=None.pkl\n",
      "embeddings\n",
      "/braintree/home/msch/.result_caching/neural_nlp.score/benchmark=Fedorenko2016v3-encoding,model=roberta-large,subsample=None.pkl\n",
      "/braintree/home/msch/.result_caching/neural_nlp.score/benchmark=Fedorenko2016v3nonlang-encoding,model=roberta-large,subsample=None.pkl\n",
      "encoder.layer.18\n",
      "/braintree/home/msch/.result_caching/neural_nlp.score/benchmark=Fedorenko2016v3-encoding,model=gpt2,subsample=None.pkl\n",
      "/braintree/home/msch/.result_caching/neural_nlp.score/benchmark=Fedorenko2016v3nonlang-encoding,model=gpt2,subsample=None.pkl\n",
      "encoder.h.7\n",
      "/braintree/home/msch/.result_caching/neural_nlp.score/benchmark=Fedorenko2016v3-encoding,model=gpt2-large,subsample=None.pkl\n",
      "/braintree/home/msch/.result_caching/neural_nlp.score/benchmark=Fedorenko2016v3nonlang-encoding,model=gpt2-large,subsample=None.pkl\n",
      "encoder.h.28\n",
      "/braintree/home/msch/.result_caching/neural_nlp.score/benchmark=Fedorenko2016v3-encoding,model=t5-3b,subsample=None.pkl\n",
      "/braintree/home/msch/.result_caching/neural_nlp.score/benchmark=Fedorenko2016v3nonlang-encoding,model=t5-3b,subsample=None.pkl\n",
      "encoder.block.20\n",
      "/braintree/home/msch/.result_caching/neural_nlp.score/benchmark=Fedorenko2016v3-encoding,model=gpt2-medium,subsample=None.pkl\n",
      "/braintree/home/msch/.result_caching/neural_nlp.score/benchmark=Fedorenko2016v3nonlang-encoding,model=gpt2-medium,subsample=None.pkl\n",
      "encoder.h.14\n",
      "/braintree/home/msch/.result_caching/neural_nlp.score/benchmark=Fedorenko2016v3-encoding,model=albert-base-v2,subsample=None.pkl\n",
      "/braintree/home/msch/.result_caching/neural_nlp.score/benchmark=Fedorenko2016v3nonlang-encoding,model=albert-base-v2,subsample=None.pkl\n",
      "embeddings\n",
      "/braintree/home/msch/.result_caching/neural_nlp.score/benchmark=Fedorenko2016v3-encoding,model=t5-11b,subsample=None.pkl\n",
      "/braintree/home/msch/.result_caching/neural_nlp.score/benchmark=Fedorenko2016v3nonlang-encoding,model=t5-11b,subsample=None.pkl\n",
      "encoder.block.5\n",
      "/braintree/home/msch/.result_caching/neural_nlp.score/benchmark=Fedorenko2016v3-encoding,model=distilroberta-base,subsample=None.pkl\n",
      "/braintree/home/msch/.result_caching/neural_nlp.score/benchmark=Fedorenko2016v3nonlang-encoding,model=distilroberta-base,subsample=None.pkl\n",
      "encoder.layer.3\n",
      "/braintree/home/msch/.result_caching/neural_nlp.score/benchmark=Fedorenko2016v3-encoding,model=xlm-mlm-enfr-1024,subsample=None.pkl\n",
      "/braintree/home/msch/.result_caching/neural_nlp.score/benchmark=Fedorenko2016v3nonlang-encoding,model=xlm-mlm-enfr-1024,subsample=None.pkl\n",
      "encoder.layer_norm2.5\n",
      "/braintree/home/msch/.result_caching/neural_nlp.score/benchmark=Fedorenko2016v3-encoding,model=xlnet-base-cased,subsample=None.pkl\n",
      "/braintree/home/msch/.result_caching/neural_nlp.score/benchmark=Fedorenko2016v3nonlang-encoding,model=xlnet-base-cased,subsample=None.pkl\n",
      "encoder.layer.5\n",
      "/braintree/home/msch/.result_caching/neural_nlp.score/benchmark=Fedorenko2016v3-encoding,model=ctrl,subsample=None.pkl\n",
      "/braintree/home/msch/.result_caching/neural_nlp.score/benchmark=Fedorenko2016v3nonlang-encoding,model=ctrl,subsample=None.pkl\n",
      "h.39\n",
      "/braintree/home/msch/.result_caching/neural_nlp.score/benchmark=Fedorenko2016v3-encoding,model=gpt2-xl,subsample=None.pkl\n",
      "/braintree/home/msch/.result_caching/neural_nlp.score/benchmark=Fedorenko2016v3nonlang-encoding,model=gpt2-xl,subsample=None.pkl\n",
      "encoder.h.17\n",
      "/braintree/home/msch/.result_caching/neural_nlp.score/benchmark=Fedorenko2016v3-encoding,model=distilbert-base-uncased,subsample=None.pkl\n",
      "/braintree/home/msch/.result_caching/neural_nlp.score/benchmark=Fedorenko2016v3nonlang-encoding,model=distilbert-base-uncased,subsample=None.pkl\n",
      "transformer.layer.4\n",
      "/braintree/home/msch/.result_caching/neural_nlp.score/benchmark=Fedorenko2016v3-encoding,model=bert-base-multilingual-cased,subsample=None.pkl\n",
      "/braintree/home/msch/.result_caching/neural_nlp.score/benchmark=Fedorenko2016v3nonlang-encoding,model=bert-base-multilingual-cased,subsample=None.pkl\n",
      "encoder.layer.6.output\n",
      "/braintree/home/msch/.result_caching/neural_nlp.score/benchmark=Fedorenko2016v3-encoding,model=albert-large-v2,subsample=None.pkl\n",
      "/braintree/home/msch/.result_caching/neural_nlp.score/benchmark=Fedorenko2016v3nonlang-encoding,model=albert-large-v2,subsample=None.pkl\n",
      "embeddings\n",
      "/braintree/home/msch/.result_caching/neural_nlp.score/benchmark=Fedorenko2016v3-encoding,model=albert-xlarge-v1,subsample=None.pkl\n",
      "/braintree/home/msch/.result_caching/neural_nlp.score/benchmark=Fedorenko2016v3nonlang-encoding,model=albert-xlarge-v1,subsample=None.pkl\n",
      "embeddings\n",
      "/braintree/home/msch/.result_caching/neural_nlp.score/benchmark=Fedorenko2016v3-encoding,model=xlm-mlm-100-1280,subsample=None.pkl\n",
      "/braintree/home/msch/.result_caching/neural_nlp.score/benchmark=Fedorenko2016v3nonlang-encoding,model=xlm-mlm-100-1280,subsample=None.pkl\n",
      "encoder.layer_norm2.1\n",
      "/braintree/home/msch/.result_caching/neural_nlp.score/benchmark=Fedorenko2016v3-encoding,model=xlm-clm-enfr-1024,subsample=None.pkl\n",
      "/braintree/home/msch/.result_caching/neural_nlp.score/benchmark=Fedorenko2016v3nonlang-encoding,model=xlm-clm-enfr-1024,subsample=None.pkl\n",
      "encoder.layer_norm2.5\n",
      "/braintree/home/msch/.result_caching/neural_nlp.score/benchmark=Fedorenko2016v3-encoding,model=bert-base-uncased,subsample=None.pkl\n",
      "/braintree/home/msch/.result_caching/neural_nlp.score/benchmark=Fedorenko2016v3nonlang-encoding,model=bert-base-uncased,subsample=None.pkl\n",
      "encoder.layer.6.output\n",
      "/braintree/home/msch/.result_caching/neural_nlp.score/benchmark=Fedorenko2016v3-encoding,model=xlm-roberta-base,subsample=None.pkl\n",
      "/braintree/home/msch/.result_caching/neural_nlp.score/benchmark=Fedorenko2016v3nonlang-encoding,model=xlm-roberta-base,subsample=None.pkl\n",
      "encoder.layer.4\n",
      "/braintree/home/msch/.result_caching/neural_nlp.score/benchmark=Fedorenko2016v3-encoding,model=t5-large,subsample=None.pkl\n",
      "/braintree/home/msch/.result_caching/neural_nlp.score/benchmark=Fedorenko2016v3nonlang-encoding,model=t5-large,subsample=None.pkl\n",
      "encoder.block.21\n",
      "/braintree/home/msch/.result_caching/neural_nlp.score/benchmark=Fedorenko2016v3-encoding,model=albert-base-v1,subsample=None.pkl\n",
      "/braintree/home/msch/.result_caching/neural_nlp.score/benchmark=Fedorenko2016v3nonlang-encoding,model=albert-base-v1,subsample=None.pkl\n",
      "embeddings\n",
      "/braintree/home/msch/.result_caching/neural_nlp.score/benchmark=Fedorenko2016v3-encoding,model=xlnet-large-cased,subsample=None.pkl\n",
      "/braintree/home/msch/.result_caching/neural_nlp.score/benchmark=Fedorenko2016v3nonlang-encoding,model=xlnet-large-cased,subsample=None.pkl\n",
      "encoder.layer.23\n",
      "/braintree/home/msch/.result_caching/neural_nlp.score/benchmark=Fedorenko2016v3-encoding,model=t5-base,subsample=None.pkl\n",
      "/braintree/home/msch/.result_caching/neural_nlp.score/benchmark=Fedorenko2016v3nonlang-encoding,model=t5-base,subsample=None.pkl\n",
      "encoder.block.9\n",
      "/braintree/home/msch/.result_caching/neural_nlp.score/benchmark=Fedorenko2016v3-encoding,model=albert-xlarge-v2,subsample=None.pkl\n",
      "/braintree/home/msch/.result_caching/neural_nlp.score/benchmark=Fedorenko2016v3nonlang-encoding,model=albert-xlarge-v2,subsample=None.pkl\n"
     ]
    },
    {
     "name": "stdout",
     "output_type": "stream",
     "text": [
      "embeddings\n",
      "/braintree/home/msch/.result_caching/neural_nlp.score/benchmark=Fedorenko2016v3-encoding,model=albert-xxlarge-v2,subsample=None.pkl\n",
      "/braintree/home/msch/.result_caching/neural_nlp.score/benchmark=Fedorenko2016v3nonlang-encoding,model=albert-xxlarge-v2,subsample=None.pkl\n",
      "embeddings\n",
      "/braintree/home/msch/.result_caching/neural_nlp.score/benchmark=Fedorenko2016v3-encoding,model=openaigpt,subsample=None.pkl\n",
      "/braintree/home/msch/.result_caching/neural_nlp.score/benchmark=Fedorenko2016v3nonlang-encoding,model=openaigpt,subsample=None.pkl\n",
      "encoder.h.9.ln_2\n",
      "/braintree/home/msch/.result_caching/neural_nlp.score/benchmark=Fedorenko2016v3-encoding,model=xlm-mlm-en-2048,subsample=None.pkl\n",
      "/braintree/home/msch/.result_caching/neural_nlp.score/benchmark=Fedorenko2016v3nonlang-encoding,model=xlm-mlm-en-2048,subsample=None.pkl\n",
      "encoder.layer_norm2.2\n",
      "/braintree/home/msch/.result_caching/neural_nlp.score/benchmark=Fedorenko2016v3-encoding,model=bert-large-uncased,subsample=None.pkl\n",
      "/braintree/home/msch/.result_caching/neural_nlp.score/benchmark=Fedorenko2016v3nonlang-encoding,model=bert-large-uncased,subsample=None.pkl\n",
      "encoder.layer.12.output\n",
      "/braintree/home/msch/.result_caching/neural_nlp.score/benchmark=Fedorenko2016v3-encoding,model=transfo-xl-wt103,subsample=None.pkl\n",
      "/braintree/home/msch/.result_caching/neural_nlp.score/benchmark=Fedorenko2016v3nonlang-encoding,model=transfo-xl-wt103,subsample=None.pkl\n",
      "encoder.layers.8\n",
      "/braintree/home/msch/.result_caching/neural_nlp.score/benchmark=Fedorenko2016v3-encoding,model=t5-small,subsample=None.pkl\n",
      "/braintree/home/msch/.result_caching/neural_nlp.score/benchmark=Fedorenko2016v3nonlang-encoding,model=t5-small,subsample=None.pkl\n",
      "encoder.block.0\n",
      "/braintree/home/msch/.result_caching/neural_nlp.score/benchmark=Fedorenko2016v3-encoding,model=transformer,subsample=None.pkl\n",
      "/braintree/home/msch/.result_caching/neural_nlp.score/benchmark=Fedorenko2016v3nonlang-encoding,model=transformer,subsample=None.pkl\n",
      "encoder.transformer.5.feed_forward.layer_norm\n",
      "/braintree/home/msch/.result_caching/neural_nlp.score/benchmark=Fedorenko2016v3-encoding,model=ETM,subsample=None.pkl\n",
      "/braintree/home/msch/.result_caching/neural_nlp.score/benchmark=Fedorenko2016v3nonlang-encoding,model=ETM,subsample=None.pkl\n",
      "projection\n",
      "/braintree/home/msch/.result_caching/neural_nlp.score/benchmark=Fedorenko2016v3-encoding,model=bert-large-uncased-whole-word-masking,subsample=None.pkl\n",
      "/braintree/home/msch/.result_caching/neural_nlp.score/benchmark=Fedorenko2016v3nonlang-encoding,model=bert-large-uncased-whole-word-masking,subsample=None.pkl\n",
      "encoder.layer.9.output\n",
      "/braintree/home/msch/.result_caching/neural_nlp.score/benchmark=Fedorenko2016v3-encoding,model=skip-thoughts,subsample=None.pkl\n",
      "/braintree/home/msch/.result_caching/neural_nlp.score/benchmark=Fedorenko2016v3nonlang-encoding,model=skip-thoughts,subsample=None.pkl\n",
      "encoder\n",
      "/braintree/home/msch/.result_caching/neural_nlp.score/benchmark=Fedorenko2016v3-encoding,model=xlm-roberta-large,subsample=None.pkl\n",
      "/braintree/home/msch/.result_caching/neural_nlp.score/benchmark=Fedorenko2016v3nonlang-encoding,model=xlm-roberta-large,subsample=None.pkl\n",
      "encoder.layer.14\n",
      "/braintree/home/msch/.result_caching/neural_nlp.score/benchmark=Fedorenko2016v3-encoding,model=roberta-base,subsample=None.pkl\n",
      "/braintree/home/msch/.result_caching/neural_nlp.score/benchmark=Fedorenko2016v3nonlang-encoding,model=roberta-base,subsample=None.pkl\n",
      "encoder.layer.11\n",
      "/braintree/home/msch/.result_caching/neural_nlp.score/benchmark=Fedorenko2016v3-encoding,model=lm_1b,subsample=None.pkl\n",
      "/braintree/home/msch/.result_caching/neural_nlp.score/benchmark=Fedorenko2016v3nonlang-encoding,model=lm_1b,subsample=None.pkl\n",
      "lstm/lstm_1/control_dependency\n"
     ]
    }
   ],
   "source": [
    "\n",
    "comparison='Non-Language'\n",
    "timestamp = '{:%Y-%m-%d}'.format(datetime.datetime.now())\n",
    "workbook = xlsxwriter.Workbook('Fedorenko2016-Language-'+comparison+'-specificity-ceiled-'+timestamp+'.xlsx')\n",
    "\n",
    "col=0\n",
    "\n",
    "worksheet = workbook.add_worksheet(\"Language vs \"+comparison) \n",
    "worksheet.write(0, col, 'Model_name')\n",
    "worksheet.write(0, 1, 'Best_layer')\n",
    "worksheet.write(0, 2, 'Comparison_1')\n",
    "worksheet.write(0, 3, 'Comparison_2')\n",
    "worksheet.write(0, 4, 'Normalized_Comparison1_Score')\n",
    "worksheet.write(0, 5, 'Normalized_Comparison2_Score')\n",
    "worksheet.write(0, 6, 'Median_Difference')\n",
    "worksheet.write(0, 7, 'Median_Mult_Drop')    \n",
    "worksheet.write(0, 8, 'Median_Perc_Drop')\n",
    "\n",
    "for idx, model in enumerate(models_l_pkl):\n",
    "\n",
    "    fname = models_l_pkl[idx]\n",
    "    fname1 = fname.split('=')\n",
    "    fname2 = fname1[-2].split(',')\n",
    "\n",
    "    print(fname)\n",
    "    fname_nl = '/braintree/home/msch/.result_caching/neural_nlp.score/benchmark=Fedorenko2016v3nonlang-encoding,model='+fname2[0]+',subsample=None.pkl'\n",
    "    print(fname_nl)\n",
    "\n",
    "    with open(fname, 'rb') as f:  \n",
    "        result = pickle.load(f)\n",
    "\n",
    "    score_l = result['data']\n",
    "\n",
    "    with open(fname_nl, 'rb') as f:  \n",
    "        result_nl = pickle.load(f)\n",
    "\n",
    "    score_nl = result_nl['data']\n",
    "    \n",
    "    diff, mult, perc, ceiled_lang, ceiled_comp, best_layer = computeDropFedorenko(score_l,score_nl,ceil=True)\n",
    " \n",
    "    worksheet.write(idx+1, col, fname2[0]) \n",
    "    worksheet.write(idx+1, col + 1, str(best_layer)) \n",
    "    worksheet.write(idx+1, col + 2, 'Language') \n",
    "    worksheet.write(idx+1, col + 3, comparison) \n",
    "    worksheet.write(idx+1, col + 4, ceiled_lang) \n",
    "    worksheet.write(idx+1, col + 5, ceiled_comp) \n",
    "    worksheet.write(idx+1, col + 6, diff)\n",
    "    worksheet.write(idx+1, col + 7, mult) \n",
    "    worksheet.write(idx+1, col + 8, perc) \n",
    "\n",
    "workbook.close()"
   ]
  },
  {
   "cell_type": "markdown",
   "metadata": {},
   "source": [
    "# Not ceiled - reran 21062020"
   ]
  },
  {
   "cell_type": "code",
   "execution_count": 4,
   "metadata": {},
   "outputs": [
    {
     "name": "stdout",
     "output_type": "stream",
     "text": [
      "/braintree/home/msch/.result_caching/neural_nlp.score/benchmark=Fedorenko2016v3-encoding,model=xlm-mlm-xnli15-1024,subsample=None.pkl\n",
      "/braintree/home/msch/.result_caching/neural_nlp.score/benchmark=Fedorenko2016v3nonlang-encoding,model=xlm-mlm-xnli15-1024,subsample=None.pkl\n"
     ]
    },
    {
     "name": "stderr",
     "output_type": "stream",
     "text": [
      "/om/user/gretatu/.conda/envs/brainmodeling/lib/python3.6/site-packages/brainscore/metrics/__init__.py:48: UserWarning: isel on raw values failed: ValueError(\"dimensions ['aggregation'] do not exist\",)\n",
      "  warnings.warn(f\"{operation} on raw values failed: {repr(e)}\")\n",
      "/om/user/gretatu/.conda/envs/brainmodeling/lib/python3.6/site-packages/brainscore/metrics/__init__.py:48: UserWarning: squeeze on raw values failed: KeyError('aggregation',)\n",
      "  warnings.warn(f\"{operation} on raw values failed: {repr(e)}\")\n",
      "/om/user/gretatu/.conda/envs/brainmodeling/lib/python3.6/site-packages/brainscore/metrics/__init__.py:48: UserWarning: isel on raw values failed: ValueError(\"dimensions ['aggregation'] do not exist\",)\n",
      "  warnings.warn(f\"{operation} on raw values failed: {repr(e)}\")\n",
      "/om/user/gretatu/.conda/envs/brainmodeling/lib/python3.6/site-packages/brainscore/metrics/__init__.py:48: UserWarning: squeeze on raw values failed: KeyError('aggregation',)\n",
      "  warnings.warn(f\"{operation} on raw values failed: {repr(e)}\")\n",
      "/om/user/gretatu/.conda/envs/brainmodeling/lib/python3.6/site-packages/brainscore/metrics/__init__.py:48: UserWarning: isel on raw values failed: ValueError(\"dimensions ['aggregation'] do not exist\",)\n",
      "  warnings.warn(f\"{operation} on raw values failed: {repr(e)}\")\n",
      "/om/user/gretatu/.conda/envs/brainmodeling/lib/python3.6/site-packages/brainscore/metrics/__init__.py:48: UserWarning: squeeze on raw values failed: KeyError('aggregation',)\n",
      "  warnings.warn(f\"{operation} on raw values failed: {repr(e)}\")\n",
      "/om/user/gretatu/.conda/envs/brainmodeling/lib/python3.6/site-packages/brainscore/metrics/__init__.py:48: UserWarning: isel on raw values failed: ValueError(\"dimensions ['aggregation'] do not exist\",)\n",
      "  warnings.warn(f\"{operation} on raw values failed: {repr(e)}\")\n",
      "/om/user/gretatu/.conda/envs/brainmodeling/lib/python3.6/site-packages/brainscore/metrics/__init__.py:48: UserWarning: squeeze on raw values failed: KeyError('aggregation',)\n",
      "  warnings.warn(f\"{operation} on raw values failed: {repr(e)}\")\n"
     ]
    },
    {
     "name": "stdout",
     "output_type": "stream",
     "text": [
      "encoder.layer_norm2.9\n",
      "/braintree/home/msch/.result_caching/neural_nlp.score/benchmark=Fedorenko2016v3-encoding,model=glove,subsample=None.pkl\n",
      "/braintree/home/msch/.result_caching/neural_nlp.score/benchmark=Fedorenko2016v3nonlang-encoding,model=glove,subsample=None.pkl\n",
      "projection\n",
      "/braintree/home/msch/.result_caching/neural_nlp.score/benchmark=Fedorenko2016v3-encoding,model=word2vec,subsample=None.pkl\n",
      "/braintree/home/msch/.result_caching/neural_nlp.score/benchmark=Fedorenko2016v3nonlang-encoding,model=word2vec,subsample=None.pkl\n",
      "projection\n",
      "/braintree/home/msch/.result_caching/neural_nlp.score/benchmark=Fedorenko2016v3-encoding,model=distilgpt2,subsample=None.pkl\n",
      "/braintree/home/msch/.result_caching/neural_nlp.score/benchmark=Fedorenko2016v3nonlang-encoding,model=distilgpt2,subsample=None.pkl\n",
      "encoder.h.2\n",
      "/braintree/home/msch/.result_caching/neural_nlp.score/benchmark=Fedorenko2016v3-encoding,model=albert-xxlarge-v1,subsample=None.pkl\n",
      "/braintree/home/msch/.result_caching/neural_nlp.score/benchmark=Fedorenko2016v3nonlang-encoding,model=albert-xxlarge-v1,subsample=None.pkl\n"
     ]
    },
    {
     "name": "stderr",
     "output_type": "stream",
     "text": [
      "/om/user/gretatu/.conda/envs/brainmodeling/lib/python3.6/site-packages/brainscore/metrics/__init__.py:48: UserWarning: isel on raw values failed: ValueError(\"dimensions ['aggregation'] do not exist\",)\n",
      "  warnings.warn(f\"{operation} on raw values failed: {repr(e)}\")\n",
      "/om/user/gretatu/.conda/envs/brainmodeling/lib/python3.6/site-packages/brainscore/metrics/__init__.py:48: UserWarning: squeeze on raw values failed: KeyError('aggregation',)\n",
      "  warnings.warn(f\"{operation} on raw values failed: {repr(e)}\")\n",
      "/om/user/gretatu/.conda/envs/brainmodeling/lib/python3.6/site-packages/brainscore/metrics/__init__.py:48: UserWarning: isel on raw values failed: ValueError(\"dimensions ['aggregation'] do not exist\",)\n",
      "  warnings.warn(f\"{operation} on raw values failed: {repr(e)}\")\n",
      "/om/user/gretatu/.conda/envs/brainmodeling/lib/python3.6/site-packages/brainscore/metrics/__init__.py:48: UserWarning: squeeze on raw values failed: KeyError('aggregation',)\n",
      "  warnings.warn(f\"{operation} on raw values failed: {repr(e)}\")\n",
      "/om/user/gretatu/.conda/envs/brainmodeling/lib/python3.6/site-packages/brainscore/metrics/__init__.py:48: UserWarning: isel on raw values failed: ValueError(\"dimensions ['aggregation'] do not exist\",)\n",
      "  warnings.warn(f\"{operation} on raw values failed: {repr(e)}\")\n",
      "/om/user/gretatu/.conda/envs/brainmodeling/lib/python3.6/site-packages/brainscore/metrics/__init__.py:48: UserWarning: squeeze on raw values failed: KeyError('aggregation',)\n",
      "  warnings.warn(f\"{operation} on raw values failed: {repr(e)}\")\n",
      "/om/user/gretatu/.conda/envs/brainmodeling/lib/python3.6/site-packages/brainscore/metrics/__init__.py:48: UserWarning: isel on raw values failed: ValueError(\"dimensions ['aggregation'] do not exist\",)\n",
      "  warnings.warn(f\"{operation} on raw values failed: {repr(e)}\")\n",
      "/om/user/gretatu/.conda/envs/brainmodeling/lib/python3.6/site-packages/brainscore/metrics/__init__.py:48: UserWarning: squeeze on raw values failed: KeyError('aggregation',)\n",
      "  warnings.warn(f\"{operation} on raw values failed: {repr(e)}\")\n"
     ]
    },
    {
     "name": "stdout",
     "output_type": "stream",
     "text": [
      "embeddings\n",
      "/braintree/home/msch/.result_caching/neural_nlp.score/benchmark=Fedorenko2016v3-encoding,model=albert-large-v1,subsample=None.pkl\n",
      "/braintree/home/msch/.result_caching/neural_nlp.score/benchmark=Fedorenko2016v3nonlang-encoding,model=albert-large-v1,subsample=None.pkl\n",
      "embeddings\n",
      "/braintree/home/msch/.result_caching/neural_nlp.score/benchmark=Fedorenko2016v3-encoding,model=roberta-large,subsample=None.pkl\n",
      "/braintree/home/msch/.result_caching/neural_nlp.score/benchmark=Fedorenko2016v3nonlang-encoding,model=roberta-large,subsample=None.pkl\n",
      "encoder.layer.18\n",
      "/braintree/home/msch/.result_caching/neural_nlp.score/benchmark=Fedorenko2016v3-encoding,model=gpt2,subsample=None.pkl\n",
      "/braintree/home/msch/.result_caching/neural_nlp.score/benchmark=Fedorenko2016v3nonlang-encoding,model=gpt2,subsample=None.pkl\n",
      "encoder.h.7\n",
      "/braintree/home/msch/.result_caching/neural_nlp.score/benchmark=Fedorenko2016v3-encoding,model=gpt2-large,subsample=None.pkl\n",
      "/braintree/home/msch/.result_caching/neural_nlp.score/benchmark=Fedorenko2016v3nonlang-encoding,model=gpt2-large,subsample=None.pkl\n"
     ]
    },
    {
     "name": "stderr",
     "output_type": "stream",
     "text": [
      "/om/user/gretatu/.conda/envs/brainmodeling/lib/python3.6/site-packages/brainscore/metrics/__init__.py:48: UserWarning: isel on raw values failed: ValueError(\"dimensions ['aggregation'] do not exist\",)\n",
      "  warnings.warn(f\"{operation} on raw values failed: {repr(e)}\")\n",
      "/om/user/gretatu/.conda/envs/brainmodeling/lib/python3.6/site-packages/brainscore/metrics/__init__.py:48: UserWarning: squeeze on raw values failed: KeyError('aggregation',)\n",
      "  warnings.warn(f\"{operation} on raw values failed: {repr(e)}\")\n",
      "/om/user/gretatu/.conda/envs/brainmodeling/lib/python3.6/site-packages/brainscore/metrics/__init__.py:48: UserWarning: isel on raw values failed: ValueError(\"dimensions ['aggregation'] do not exist\",)\n",
      "  warnings.warn(f\"{operation} on raw values failed: {repr(e)}\")\n",
      "/om/user/gretatu/.conda/envs/brainmodeling/lib/python3.6/site-packages/brainscore/metrics/__init__.py:48: UserWarning: squeeze on raw values failed: KeyError('aggregation',)\n",
      "  warnings.warn(f\"{operation} on raw values failed: {repr(e)}\")\n",
      "/om/user/gretatu/.conda/envs/brainmodeling/lib/python3.6/site-packages/brainscore/metrics/__init__.py:48: UserWarning: isel on raw values failed: ValueError(\"dimensions ['aggregation'] do not exist\",)\n",
      "  warnings.warn(f\"{operation} on raw values failed: {repr(e)}\")\n",
      "/om/user/gretatu/.conda/envs/brainmodeling/lib/python3.6/site-packages/brainscore/metrics/__init__.py:48: UserWarning: squeeze on raw values failed: KeyError('aggregation',)\n",
      "  warnings.warn(f\"{operation} on raw values failed: {repr(e)}\")\n",
      "/om/user/gretatu/.conda/envs/brainmodeling/lib/python3.6/site-packages/brainscore/metrics/__init__.py:48: UserWarning: isel on raw values failed: ValueError(\"dimensions ['aggregation'] do not exist\",)\n",
      "  warnings.warn(f\"{operation} on raw values failed: {repr(e)}\")\n",
      "/om/user/gretatu/.conda/envs/brainmodeling/lib/python3.6/site-packages/brainscore/metrics/__init__.py:48: UserWarning: squeeze on raw values failed: KeyError('aggregation',)\n",
      "  warnings.warn(f\"{operation} on raw values failed: {repr(e)}\")\n"
     ]
    },
    {
     "name": "stdout",
     "output_type": "stream",
     "text": [
      "encoder.h.28\n",
      "/braintree/home/msch/.result_caching/neural_nlp.score/benchmark=Fedorenko2016v3-encoding,model=t5-3b,subsample=None.pkl\n",
      "/braintree/home/msch/.result_caching/neural_nlp.score/benchmark=Fedorenko2016v3nonlang-encoding,model=t5-3b,subsample=None.pkl\n",
      "encoder.block.20\n",
      "/braintree/home/msch/.result_caching/neural_nlp.score/benchmark=Fedorenko2016v3-encoding,model=gpt2-medium,subsample=None.pkl\n",
      "/braintree/home/msch/.result_caching/neural_nlp.score/benchmark=Fedorenko2016v3nonlang-encoding,model=gpt2-medium,subsample=None.pkl\n",
      "encoder.h.14\n",
      "/braintree/home/msch/.result_caching/neural_nlp.score/benchmark=Fedorenko2016v3-encoding,model=albert-base-v2,subsample=None.pkl\n",
      "/braintree/home/msch/.result_caching/neural_nlp.score/benchmark=Fedorenko2016v3nonlang-encoding,model=albert-base-v2,subsample=None.pkl\n",
      "embeddings\n",
      "/braintree/home/msch/.result_caching/neural_nlp.score/benchmark=Fedorenko2016v3-encoding,model=t5-11b,subsample=None.pkl\n",
      "/braintree/home/msch/.result_caching/neural_nlp.score/benchmark=Fedorenko2016v3nonlang-encoding,model=t5-11b,subsample=None.pkl\n",
      "encoder.block.5\n",
      "/braintree/home/msch/.result_caching/neural_nlp.score/benchmark=Fedorenko2016v3-encoding,model=distilroberta-base,subsample=None.pkl\n",
      "/braintree/home/msch/.result_caching/neural_nlp.score/benchmark=Fedorenko2016v3nonlang-encoding,model=distilroberta-base,subsample=None.pkl\n",
      "encoder.layer.3\n",
      "/braintree/home/msch/.result_caching/neural_nlp.score/benchmark=Fedorenko2016v3-encoding,model=xlm-mlm-enfr-1024,subsample=None.pkl\n",
      "/braintree/home/msch/.result_caching/neural_nlp.score/benchmark=Fedorenko2016v3nonlang-encoding,model=xlm-mlm-enfr-1024,subsample=None.pkl\n",
      "encoder.layer_norm2.5\n",
      "/braintree/home/msch/.result_caching/neural_nlp.score/benchmark=Fedorenko2016v3-encoding,model=xlnet-base-cased,subsample=None.pkl\n",
      "/braintree/home/msch/.result_caching/neural_nlp.score/benchmark=Fedorenko2016v3nonlang-encoding,model=xlnet-base-cased,subsample=None.pkl\n",
      "encoder.layer.5\n"
     ]
    },
    {
     "name": "stderr",
     "output_type": "stream",
     "text": [
      "/om/user/gretatu/.conda/envs/brainmodeling/lib/python3.6/site-packages/brainscore/metrics/__init__.py:48: UserWarning: isel on raw values failed: ValueError(\"dimensions ['aggregation'] do not exist\",)\n",
      "  warnings.warn(f\"{operation} on raw values failed: {repr(e)}\")\n",
      "/om/user/gretatu/.conda/envs/brainmodeling/lib/python3.6/site-packages/brainscore/metrics/__init__.py:48: UserWarning: squeeze on raw values failed: KeyError('aggregation',)\n",
      "  warnings.warn(f\"{operation} on raw values failed: {repr(e)}\")\n",
      "/om/user/gretatu/.conda/envs/brainmodeling/lib/python3.6/site-packages/brainscore/metrics/__init__.py:48: UserWarning: isel on raw values failed: ValueError(\"dimensions ['aggregation'] do not exist\",)\n",
      "  warnings.warn(f\"{operation} on raw values failed: {repr(e)}\")\n",
      "/om/user/gretatu/.conda/envs/brainmodeling/lib/python3.6/site-packages/brainscore/metrics/__init__.py:48: UserWarning: squeeze on raw values failed: KeyError('aggregation',)\n",
      "  warnings.warn(f\"{operation} on raw values failed: {repr(e)}\")\n",
      "/om/user/gretatu/.conda/envs/brainmodeling/lib/python3.6/site-packages/brainscore/metrics/__init__.py:48: UserWarning: isel on raw values failed: ValueError(\"dimensions ['aggregation'] do not exist\",)\n",
      "  warnings.warn(f\"{operation} on raw values failed: {repr(e)}\")\n",
      "/om/user/gretatu/.conda/envs/brainmodeling/lib/python3.6/site-packages/brainscore/metrics/__init__.py:48: UserWarning: squeeze on raw values failed: KeyError('aggregation',)\n",
      "  warnings.warn(f\"{operation} on raw values failed: {repr(e)}\")\n",
      "/om/user/gretatu/.conda/envs/brainmodeling/lib/python3.6/site-packages/brainscore/metrics/__init__.py:48: UserWarning: isel on raw values failed: ValueError(\"dimensions ['aggregation'] do not exist\",)\n",
      "  warnings.warn(f\"{operation} on raw values failed: {repr(e)}\")\n",
      "/om/user/gretatu/.conda/envs/brainmodeling/lib/python3.6/site-packages/brainscore/metrics/__init__.py:48: UserWarning: squeeze on raw values failed: KeyError('aggregation',)\n",
      "  warnings.warn(f\"{operation} on raw values failed: {repr(e)}\")\n"
     ]
    },
    {
     "name": "stdout",
     "output_type": "stream",
     "text": [
      "/braintree/home/msch/.result_caching/neural_nlp.score/benchmark=Fedorenko2016v3-encoding,model=ctrl,subsample=None.pkl\n",
      "/braintree/home/msch/.result_caching/neural_nlp.score/benchmark=Fedorenko2016v3nonlang-encoding,model=ctrl,subsample=None.pkl\n",
      "h.39\n",
      "/braintree/home/msch/.result_caching/neural_nlp.score/benchmark=Fedorenko2016v3-encoding,model=gpt2-xl,subsample=None.pkl\n",
      "/braintree/home/msch/.result_caching/neural_nlp.score/benchmark=Fedorenko2016v3nonlang-encoding,model=gpt2-xl,subsample=None.pkl\n",
      "encoder.h.17\n",
      "/braintree/home/msch/.result_caching/neural_nlp.score/benchmark=Fedorenko2016v3-encoding,model=distilbert-base-uncased,subsample=None.pkl\n",
      "/braintree/home/msch/.result_caching/neural_nlp.score/benchmark=Fedorenko2016v3nonlang-encoding,model=distilbert-base-uncased,subsample=None.pkl\n",
      "transformer.layer.4\n",
      "/braintree/home/msch/.result_caching/neural_nlp.score/benchmark=Fedorenko2016v3-encoding,model=bert-base-multilingual-cased,subsample=None.pkl\n",
      "/braintree/home/msch/.result_caching/neural_nlp.score/benchmark=Fedorenko2016v3nonlang-encoding,model=bert-base-multilingual-cased,subsample=None.pkl\n",
      "encoder.layer.6.output\n"
     ]
    },
    {
     "name": "stderr",
     "output_type": "stream",
     "text": [
      "/om/user/gretatu/.conda/envs/brainmodeling/lib/python3.6/site-packages/brainscore/metrics/__init__.py:48: UserWarning: isel on raw values failed: ValueError(\"dimensions ['aggregation'] do not exist\",)\n",
      "  warnings.warn(f\"{operation} on raw values failed: {repr(e)}\")\n",
      "/om/user/gretatu/.conda/envs/brainmodeling/lib/python3.6/site-packages/brainscore/metrics/__init__.py:48: UserWarning: squeeze on raw values failed: KeyError('aggregation',)\n",
      "  warnings.warn(f\"{operation} on raw values failed: {repr(e)}\")\n",
      "/om/user/gretatu/.conda/envs/brainmodeling/lib/python3.6/site-packages/brainscore/metrics/__init__.py:48: UserWarning: isel on raw values failed: ValueError(\"dimensions ['aggregation'] do not exist\",)\n",
      "  warnings.warn(f\"{operation} on raw values failed: {repr(e)}\")\n",
      "/om/user/gretatu/.conda/envs/brainmodeling/lib/python3.6/site-packages/brainscore/metrics/__init__.py:48: UserWarning: squeeze on raw values failed: KeyError('aggregation',)\n",
      "  warnings.warn(f\"{operation} on raw values failed: {repr(e)}\")\n",
      "/om/user/gretatu/.conda/envs/brainmodeling/lib/python3.6/site-packages/brainscore/metrics/__init__.py:48: UserWarning: isel on raw values failed: ValueError(\"dimensions ['aggregation'] do not exist\",)\n",
      "  warnings.warn(f\"{operation} on raw values failed: {repr(e)}\")\n",
      "/om/user/gretatu/.conda/envs/brainmodeling/lib/python3.6/site-packages/brainscore/metrics/__init__.py:48: UserWarning: squeeze on raw values failed: KeyError('aggregation',)\n",
      "  warnings.warn(f\"{operation} on raw values failed: {repr(e)}\")\n",
      "/om/user/gretatu/.conda/envs/brainmodeling/lib/python3.6/site-packages/brainscore/metrics/__init__.py:48: UserWarning: isel on raw values failed: ValueError(\"dimensions ['aggregation'] do not exist\",)\n",
      "  warnings.warn(f\"{operation} on raw values failed: {repr(e)}\")\n",
      "/om/user/gretatu/.conda/envs/brainmodeling/lib/python3.6/site-packages/brainscore/metrics/__init__.py:48: UserWarning: squeeze on raw values failed: KeyError('aggregation',)\n",
      "  warnings.warn(f\"{operation} on raw values failed: {repr(e)}\")\n"
     ]
    },
    {
     "name": "stdout",
     "output_type": "stream",
     "text": [
      "/braintree/home/msch/.result_caching/neural_nlp.score/benchmark=Fedorenko2016v3-encoding,model=albert-large-v2,subsample=None.pkl\n",
      "/braintree/home/msch/.result_caching/neural_nlp.score/benchmark=Fedorenko2016v3nonlang-encoding,model=albert-large-v2,subsample=None.pkl\n",
      "embeddings\n",
      "/braintree/home/msch/.result_caching/neural_nlp.score/benchmark=Fedorenko2016v3-encoding,model=albert-xlarge-v1,subsample=None.pkl\n",
      "/braintree/home/msch/.result_caching/neural_nlp.score/benchmark=Fedorenko2016v3nonlang-encoding,model=albert-xlarge-v1,subsample=None.pkl\n",
      "embeddings\n",
      "/braintree/home/msch/.result_caching/neural_nlp.score/benchmark=Fedorenko2016v3-encoding,model=xlm-mlm-100-1280,subsample=None.pkl\n",
      "/braintree/home/msch/.result_caching/neural_nlp.score/benchmark=Fedorenko2016v3nonlang-encoding,model=xlm-mlm-100-1280,subsample=None.pkl\n",
      "encoder.layer_norm2.1\n",
      "/braintree/home/msch/.result_caching/neural_nlp.score/benchmark=Fedorenko2016v3-encoding,model=xlm-clm-enfr-1024,subsample=None.pkl\n",
      "/braintree/home/msch/.result_caching/neural_nlp.score/benchmark=Fedorenko2016v3nonlang-encoding,model=xlm-clm-enfr-1024,subsample=None.pkl\n",
      "encoder.layer_norm2.5\n"
     ]
    },
    {
     "name": "stderr",
     "output_type": "stream",
     "text": [
      "/om/user/gretatu/.conda/envs/brainmodeling/lib/python3.6/site-packages/brainscore/metrics/__init__.py:48: UserWarning: isel on raw values failed: ValueError(\"dimensions ['aggregation'] do not exist\",)\n",
      "  warnings.warn(f\"{operation} on raw values failed: {repr(e)}\")\n",
      "/om/user/gretatu/.conda/envs/brainmodeling/lib/python3.6/site-packages/brainscore/metrics/__init__.py:48: UserWarning: squeeze on raw values failed: KeyError('aggregation',)\n",
      "  warnings.warn(f\"{operation} on raw values failed: {repr(e)}\")\n",
      "/om/user/gretatu/.conda/envs/brainmodeling/lib/python3.6/site-packages/brainscore/metrics/__init__.py:48: UserWarning: isel on raw values failed: ValueError(\"dimensions ['aggregation'] do not exist\",)\n",
      "  warnings.warn(f\"{operation} on raw values failed: {repr(e)}\")\n",
      "/om/user/gretatu/.conda/envs/brainmodeling/lib/python3.6/site-packages/brainscore/metrics/__init__.py:48: UserWarning: squeeze on raw values failed: KeyError('aggregation',)\n",
      "  warnings.warn(f\"{operation} on raw values failed: {repr(e)}\")\n",
      "/om/user/gretatu/.conda/envs/brainmodeling/lib/python3.6/site-packages/brainscore/metrics/__init__.py:48: UserWarning: isel on raw values failed: ValueError(\"dimensions ['aggregation'] do not exist\",)\n",
      "  warnings.warn(f\"{operation} on raw values failed: {repr(e)}\")\n",
      "/om/user/gretatu/.conda/envs/brainmodeling/lib/python3.6/site-packages/brainscore/metrics/__init__.py:48: UserWarning: squeeze on raw values failed: KeyError('aggregation',)\n",
      "  warnings.warn(f\"{operation} on raw values failed: {repr(e)}\")\n",
      "/om/user/gretatu/.conda/envs/brainmodeling/lib/python3.6/site-packages/brainscore/metrics/__init__.py:48: UserWarning: isel on raw values failed: ValueError(\"dimensions ['aggregation'] do not exist\",)\n",
      "  warnings.warn(f\"{operation} on raw values failed: {repr(e)}\")\n",
      "/om/user/gretatu/.conda/envs/brainmodeling/lib/python3.6/site-packages/brainscore/metrics/__init__.py:48: UserWarning: squeeze on raw values failed: KeyError('aggregation',)\n",
      "  warnings.warn(f\"{operation} on raw values failed: {repr(e)}\")\n"
     ]
    },
    {
     "name": "stdout",
     "output_type": "stream",
     "text": [
      "/braintree/home/msch/.result_caching/neural_nlp.score/benchmark=Fedorenko2016v3-encoding,model=bert-base-uncased,subsample=None.pkl\n",
      "/braintree/home/msch/.result_caching/neural_nlp.score/benchmark=Fedorenko2016v3nonlang-encoding,model=bert-base-uncased,subsample=None.pkl\n",
      "encoder.layer.6.output\n",
      "/braintree/home/msch/.result_caching/neural_nlp.score/benchmark=Fedorenko2016v3-encoding,model=xlm-roberta-base,subsample=None.pkl\n",
      "/braintree/home/msch/.result_caching/neural_nlp.score/benchmark=Fedorenko2016v3nonlang-encoding,model=xlm-roberta-base,subsample=None.pkl\n",
      "encoder.layer.4\n",
      "/braintree/home/msch/.result_caching/neural_nlp.score/benchmark=Fedorenko2016v3-encoding,model=t5-large,subsample=None.pkl\n",
      "/braintree/home/msch/.result_caching/neural_nlp.score/benchmark=Fedorenko2016v3nonlang-encoding,model=t5-large,subsample=None.pkl\n",
      "encoder.block.21\n",
      "/braintree/home/msch/.result_caching/neural_nlp.score/benchmark=Fedorenko2016v3-encoding,model=albert-base-v1,subsample=None.pkl\n",
      "/braintree/home/msch/.result_caching/neural_nlp.score/benchmark=Fedorenko2016v3nonlang-encoding,model=albert-base-v1,subsample=None.pkl\n",
      "embeddings\n"
     ]
    },
    {
     "name": "stderr",
     "output_type": "stream",
     "text": [
      "/om/user/gretatu/.conda/envs/brainmodeling/lib/python3.6/site-packages/brainscore/metrics/__init__.py:48: UserWarning: isel on raw values failed: ValueError(\"dimensions ['aggregation'] do not exist\",)\n",
      "  warnings.warn(f\"{operation} on raw values failed: {repr(e)}\")\n",
      "/om/user/gretatu/.conda/envs/brainmodeling/lib/python3.6/site-packages/brainscore/metrics/__init__.py:48: UserWarning: squeeze on raw values failed: KeyError('aggregation',)\n",
      "  warnings.warn(f\"{operation} on raw values failed: {repr(e)}\")\n",
      "/om/user/gretatu/.conda/envs/brainmodeling/lib/python3.6/site-packages/brainscore/metrics/__init__.py:48: UserWarning: isel on raw values failed: ValueError(\"dimensions ['aggregation'] do not exist\",)\n",
      "  warnings.warn(f\"{operation} on raw values failed: {repr(e)}\")\n",
      "/om/user/gretatu/.conda/envs/brainmodeling/lib/python3.6/site-packages/brainscore/metrics/__init__.py:48: UserWarning: squeeze on raw values failed: KeyError('aggregation',)\n",
      "  warnings.warn(f\"{operation} on raw values failed: {repr(e)}\")\n",
      "/om/user/gretatu/.conda/envs/brainmodeling/lib/python3.6/site-packages/brainscore/metrics/__init__.py:48: UserWarning: isel on raw values failed: ValueError(\"dimensions ['aggregation'] do not exist\",)\n",
      "  warnings.warn(f\"{operation} on raw values failed: {repr(e)}\")\n",
      "/om/user/gretatu/.conda/envs/brainmodeling/lib/python3.6/site-packages/brainscore/metrics/__init__.py:48: UserWarning: squeeze on raw values failed: KeyError('aggregation',)\n",
      "  warnings.warn(f\"{operation} on raw values failed: {repr(e)}\")\n",
      "/om/user/gretatu/.conda/envs/brainmodeling/lib/python3.6/site-packages/brainscore/metrics/__init__.py:48: UserWarning: isel on raw values failed: ValueError(\"dimensions ['aggregation'] do not exist\",)\n",
      "  warnings.warn(f\"{operation} on raw values failed: {repr(e)}\")\n",
      "/om/user/gretatu/.conda/envs/brainmodeling/lib/python3.6/site-packages/brainscore/metrics/__init__.py:48: UserWarning: squeeze on raw values failed: KeyError('aggregation',)\n",
      "  warnings.warn(f\"{operation} on raw values failed: {repr(e)}\")\n"
     ]
    },
    {
     "name": "stdout",
     "output_type": "stream",
     "text": [
      "/braintree/home/msch/.result_caching/neural_nlp.score/benchmark=Fedorenko2016v3-encoding,model=xlnet-large-cased,subsample=None.pkl\n",
      "/braintree/home/msch/.result_caching/neural_nlp.score/benchmark=Fedorenko2016v3nonlang-encoding,model=xlnet-large-cased,subsample=None.pkl\n",
      "encoder.layer.23\n",
      "/braintree/home/msch/.result_caching/neural_nlp.score/benchmark=Fedorenko2016v3-encoding,model=t5-base,subsample=None.pkl\n",
      "/braintree/home/msch/.result_caching/neural_nlp.score/benchmark=Fedorenko2016v3nonlang-encoding,model=t5-base,subsample=None.pkl\n",
      "encoder.block.9\n",
      "/braintree/home/msch/.result_caching/neural_nlp.score/benchmark=Fedorenko2016v3-encoding,model=albert-xlarge-v2,subsample=None.pkl\n",
      "/braintree/home/msch/.result_caching/neural_nlp.score/benchmark=Fedorenko2016v3nonlang-encoding,model=albert-xlarge-v2,subsample=None.pkl\n",
      "embeddings\n",
      "/braintree/home/msch/.result_caching/neural_nlp.score/benchmark=Fedorenko2016v3-encoding,model=albert-xxlarge-v2,subsample=None.pkl\n",
      "/braintree/home/msch/.result_caching/neural_nlp.score/benchmark=Fedorenko2016v3nonlang-encoding,model=albert-xxlarge-v2,subsample=None.pkl\n",
      "embeddings\n"
     ]
    },
    {
     "name": "stderr",
     "output_type": "stream",
     "text": [
      "/om/user/gretatu/.conda/envs/brainmodeling/lib/python3.6/site-packages/brainscore/metrics/__init__.py:48: UserWarning: isel on raw values failed: ValueError(\"dimensions ['aggregation'] do not exist\",)\n",
      "  warnings.warn(f\"{operation} on raw values failed: {repr(e)}\")\n",
      "/om/user/gretatu/.conda/envs/brainmodeling/lib/python3.6/site-packages/brainscore/metrics/__init__.py:48: UserWarning: squeeze on raw values failed: KeyError('aggregation',)\n",
      "  warnings.warn(f\"{operation} on raw values failed: {repr(e)}\")\n",
      "/om/user/gretatu/.conda/envs/brainmodeling/lib/python3.6/site-packages/brainscore/metrics/__init__.py:48: UserWarning: isel on raw values failed: ValueError(\"dimensions ['aggregation'] do not exist\",)\n",
      "  warnings.warn(f\"{operation} on raw values failed: {repr(e)}\")\n",
      "/om/user/gretatu/.conda/envs/brainmodeling/lib/python3.6/site-packages/brainscore/metrics/__init__.py:48: UserWarning: squeeze on raw values failed: KeyError('aggregation',)\n",
      "  warnings.warn(f\"{operation} on raw values failed: {repr(e)}\")\n",
      "/om/user/gretatu/.conda/envs/brainmodeling/lib/python3.6/site-packages/brainscore/metrics/__init__.py:48: UserWarning: isel on raw values failed: ValueError(\"dimensions ['aggregation'] do not exist\",)\n",
      "  warnings.warn(f\"{operation} on raw values failed: {repr(e)}\")\n",
      "/om/user/gretatu/.conda/envs/brainmodeling/lib/python3.6/site-packages/brainscore/metrics/__init__.py:48: UserWarning: squeeze on raw values failed: KeyError('aggregation',)\n",
      "  warnings.warn(f\"{operation} on raw values failed: {repr(e)}\")\n",
      "/om/user/gretatu/.conda/envs/brainmodeling/lib/python3.6/site-packages/brainscore/metrics/__init__.py:48: UserWarning: isel on raw values failed: ValueError(\"dimensions ['aggregation'] do not exist\",)\n",
      "  warnings.warn(f\"{operation} on raw values failed: {repr(e)}\")\n",
      "/om/user/gretatu/.conda/envs/brainmodeling/lib/python3.6/site-packages/brainscore/metrics/__init__.py:48: UserWarning: squeeze on raw values failed: KeyError('aggregation',)\n",
      "  warnings.warn(f\"{operation} on raw values failed: {repr(e)}\")\n"
     ]
    },
    {
     "name": "stdout",
     "output_type": "stream",
     "text": [
      "/braintree/home/msch/.result_caching/neural_nlp.score/benchmark=Fedorenko2016v3-encoding,model=openaigpt,subsample=None.pkl\n",
      "/braintree/home/msch/.result_caching/neural_nlp.score/benchmark=Fedorenko2016v3nonlang-encoding,model=openaigpt,subsample=None.pkl\n",
      "encoder.h.9.ln_2\n",
      "/braintree/home/msch/.result_caching/neural_nlp.score/benchmark=Fedorenko2016v3-encoding,model=xlm-mlm-en-2048,subsample=None.pkl\n",
      "/braintree/home/msch/.result_caching/neural_nlp.score/benchmark=Fedorenko2016v3nonlang-encoding,model=xlm-mlm-en-2048,subsample=None.pkl\n",
      "encoder.layer_norm2.2\n",
      "/braintree/home/msch/.result_caching/neural_nlp.score/benchmark=Fedorenko2016v3-encoding,model=bert-large-uncased,subsample=None.pkl\n",
      "/braintree/home/msch/.result_caching/neural_nlp.score/benchmark=Fedorenko2016v3nonlang-encoding,model=bert-large-uncased,subsample=None.pkl\n",
      "encoder.layer.12.output\n",
      "/braintree/home/msch/.result_caching/neural_nlp.score/benchmark=Fedorenko2016v3-encoding,model=transfo-xl-wt103,subsample=None.pkl\n",
      "/braintree/home/msch/.result_caching/neural_nlp.score/benchmark=Fedorenko2016v3nonlang-encoding,model=transfo-xl-wt103,subsample=None.pkl\n",
      "encoder.layers.8\n"
     ]
    },
    {
     "name": "stderr",
     "output_type": "stream",
     "text": [
      "/om/user/gretatu/.conda/envs/brainmodeling/lib/python3.6/site-packages/brainscore/metrics/__init__.py:48: UserWarning: isel on raw values failed: ValueError(\"dimensions ['aggregation'] do not exist\",)\n",
      "  warnings.warn(f\"{operation} on raw values failed: {repr(e)}\")\n",
      "/om/user/gretatu/.conda/envs/brainmodeling/lib/python3.6/site-packages/brainscore/metrics/__init__.py:48: UserWarning: squeeze on raw values failed: KeyError('aggregation',)\n",
      "  warnings.warn(f\"{operation} on raw values failed: {repr(e)}\")\n",
      "/om/user/gretatu/.conda/envs/brainmodeling/lib/python3.6/site-packages/brainscore/metrics/__init__.py:48: UserWarning: isel on raw values failed: ValueError(\"dimensions ['aggregation'] do not exist\",)\n",
      "  warnings.warn(f\"{operation} on raw values failed: {repr(e)}\")\n",
      "/om/user/gretatu/.conda/envs/brainmodeling/lib/python3.6/site-packages/brainscore/metrics/__init__.py:48: UserWarning: squeeze on raw values failed: KeyError('aggregation',)\n",
      "  warnings.warn(f\"{operation} on raw values failed: {repr(e)}\")\n",
      "/om/user/gretatu/.conda/envs/brainmodeling/lib/python3.6/site-packages/brainscore/metrics/__init__.py:48: UserWarning: isel on raw values failed: ValueError(\"dimensions ['aggregation'] do not exist\",)\n",
      "  warnings.warn(f\"{operation} on raw values failed: {repr(e)}\")\n",
      "/om/user/gretatu/.conda/envs/brainmodeling/lib/python3.6/site-packages/brainscore/metrics/__init__.py:48: UserWarning: squeeze on raw values failed: KeyError('aggregation',)\n",
      "  warnings.warn(f\"{operation} on raw values failed: {repr(e)}\")\n",
      "/om/user/gretatu/.conda/envs/brainmodeling/lib/python3.6/site-packages/brainscore/metrics/__init__.py:48: UserWarning: isel on raw values failed: ValueError(\"dimensions ['aggregation'] do not exist\",)\n",
      "  warnings.warn(f\"{operation} on raw values failed: {repr(e)}\")\n",
      "/om/user/gretatu/.conda/envs/brainmodeling/lib/python3.6/site-packages/brainscore/metrics/__init__.py:48: UserWarning: squeeze on raw values failed: KeyError('aggregation',)\n",
      "  warnings.warn(f\"{operation} on raw values failed: {repr(e)}\")\n"
     ]
    },
    {
     "name": "stdout",
     "output_type": "stream",
     "text": [
      "/braintree/home/msch/.result_caching/neural_nlp.score/benchmark=Fedorenko2016v3-encoding,model=t5-small,subsample=None.pkl\n",
      "/braintree/home/msch/.result_caching/neural_nlp.score/benchmark=Fedorenko2016v3nonlang-encoding,model=t5-small,subsample=None.pkl\n",
      "encoder.block.0\n",
      "/braintree/home/msch/.result_caching/neural_nlp.score/benchmark=Fedorenko2016v3-encoding,model=transformer,subsample=None.pkl\n",
      "/braintree/home/msch/.result_caching/neural_nlp.score/benchmark=Fedorenko2016v3nonlang-encoding,model=transformer,subsample=None.pkl\n",
      "encoder.transformer.5.feed_forward.layer_norm\n",
      "/braintree/home/msch/.result_caching/neural_nlp.score/benchmark=Fedorenko2016v3-encoding,model=ETM,subsample=None.pkl\n",
      "/braintree/home/msch/.result_caching/neural_nlp.score/benchmark=Fedorenko2016v3nonlang-encoding,model=ETM,subsample=None.pkl\n",
      "projection\n",
      "/braintree/home/msch/.result_caching/neural_nlp.score/benchmark=Fedorenko2016v3-encoding,model=bert-large-uncased-whole-word-masking,subsample=None.pkl\n",
      "/braintree/home/msch/.result_caching/neural_nlp.score/benchmark=Fedorenko2016v3nonlang-encoding,model=bert-large-uncased-whole-word-masking,subsample=None.pkl\n",
      "encoder.layer.9.output\n"
     ]
    },
    {
     "name": "stderr",
     "output_type": "stream",
     "text": [
      "/om/user/gretatu/.conda/envs/brainmodeling/lib/python3.6/site-packages/brainscore/metrics/__init__.py:48: UserWarning: isel on raw values failed: ValueError(\"dimensions ['aggregation'] do not exist\",)\n",
      "  warnings.warn(f\"{operation} on raw values failed: {repr(e)}\")\n",
      "/om/user/gretatu/.conda/envs/brainmodeling/lib/python3.6/site-packages/brainscore/metrics/__init__.py:48: UserWarning: squeeze on raw values failed: KeyError('aggregation',)\n",
      "  warnings.warn(f\"{operation} on raw values failed: {repr(e)}\")\n",
      "/om/user/gretatu/.conda/envs/brainmodeling/lib/python3.6/site-packages/brainscore/metrics/__init__.py:48: UserWarning: isel on raw values failed: ValueError(\"dimensions ['aggregation'] do not exist\",)\n",
      "  warnings.warn(f\"{operation} on raw values failed: {repr(e)}\")\n",
      "/om/user/gretatu/.conda/envs/brainmodeling/lib/python3.6/site-packages/brainscore/metrics/__init__.py:48: UserWarning: squeeze on raw values failed: KeyError('aggregation',)\n",
      "  warnings.warn(f\"{operation} on raw values failed: {repr(e)}\")\n",
      "/om/user/gretatu/.conda/envs/brainmodeling/lib/python3.6/site-packages/brainscore/metrics/__init__.py:48: UserWarning: isel on raw values failed: ValueError(\"dimensions ['aggregation'] do not exist\",)\n",
      "  warnings.warn(f\"{operation} on raw values failed: {repr(e)}\")\n",
      "/om/user/gretatu/.conda/envs/brainmodeling/lib/python3.6/site-packages/brainscore/metrics/__init__.py:48: UserWarning: squeeze on raw values failed: KeyError('aggregation',)\n",
      "  warnings.warn(f\"{operation} on raw values failed: {repr(e)}\")\n",
      "/om/user/gretatu/.conda/envs/brainmodeling/lib/python3.6/site-packages/brainscore/metrics/__init__.py:48: UserWarning: isel on raw values failed: ValueError(\"dimensions ['aggregation'] do not exist\",)\n",
      "  warnings.warn(f\"{operation} on raw values failed: {repr(e)}\")\n",
      "/om/user/gretatu/.conda/envs/brainmodeling/lib/python3.6/site-packages/brainscore/metrics/__init__.py:48: UserWarning: squeeze on raw values failed: KeyError('aggregation',)\n",
      "  warnings.warn(f\"{operation} on raw values failed: {repr(e)}\")\n"
     ]
    },
    {
     "name": "stdout",
     "output_type": "stream",
     "text": [
      "/braintree/home/msch/.result_caching/neural_nlp.score/benchmark=Fedorenko2016v3-encoding,model=skip-thoughts,subsample=None.pkl\n",
      "/braintree/home/msch/.result_caching/neural_nlp.score/benchmark=Fedorenko2016v3nonlang-encoding,model=skip-thoughts,subsample=None.pkl\n",
      "encoder\n",
      "/braintree/home/msch/.result_caching/neural_nlp.score/benchmark=Fedorenko2016v3-encoding,model=xlm-roberta-large,subsample=None.pkl\n",
      "/braintree/home/msch/.result_caching/neural_nlp.score/benchmark=Fedorenko2016v3nonlang-encoding,model=xlm-roberta-large,subsample=None.pkl\n",
      "encoder.layer.14\n",
      "/braintree/home/msch/.result_caching/neural_nlp.score/benchmark=Fedorenko2016v3-encoding,model=roberta-base,subsample=None.pkl\n",
      "/braintree/home/msch/.result_caching/neural_nlp.score/benchmark=Fedorenko2016v3nonlang-encoding,model=roberta-base,subsample=None.pkl\n",
      "encoder.layer.11\n",
      "/braintree/home/msch/.result_caching/neural_nlp.score/benchmark=Fedorenko2016v3-encoding,model=lm_1b,subsample=None.pkl\n",
      "/braintree/home/msch/.result_caching/neural_nlp.score/benchmark=Fedorenko2016v3nonlang-encoding,model=lm_1b,subsample=None.pkl\n",
      "lstm/lstm_1/control_dependency\n"
     ]
    },
    {
     "name": "stderr",
     "output_type": "stream",
     "text": [
      "/om/user/gretatu/.conda/envs/brainmodeling/lib/python3.6/site-packages/brainscore/metrics/__init__.py:48: UserWarning: isel on raw values failed: ValueError(\"dimensions ['aggregation'] do not exist\",)\n",
      "  warnings.warn(f\"{operation} on raw values failed: {repr(e)}\")\n",
      "/om/user/gretatu/.conda/envs/brainmodeling/lib/python3.6/site-packages/brainscore/metrics/__init__.py:48: UserWarning: squeeze on raw values failed: KeyError('aggregation',)\n",
      "  warnings.warn(f\"{operation} on raw values failed: {repr(e)}\")\n",
      "/om/user/gretatu/.conda/envs/brainmodeling/lib/python3.6/site-packages/brainscore/metrics/__init__.py:48: UserWarning: isel on raw values failed: ValueError(\"dimensions ['aggregation'] do not exist\",)\n",
      "  warnings.warn(f\"{operation} on raw values failed: {repr(e)}\")\n",
      "/om/user/gretatu/.conda/envs/brainmodeling/lib/python3.6/site-packages/brainscore/metrics/__init__.py:48: UserWarning: squeeze on raw values failed: KeyError('aggregation',)\n",
      "  warnings.warn(f\"{operation} on raw values failed: {repr(e)}\")\n",
      "/om/user/gretatu/.conda/envs/brainmodeling/lib/python3.6/site-packages/brainscore/metrics/__init__.py:48: UserWarning: isel on raw values failed: ValueError(\"dimensions ['aggregation'] do not exist\",)\n",
      "  warnings.warn(f\"{operation} on raw values failed: {repr(e)}\")\n",
      "/om/user/gretatu/.conda/envs/brainmodeling/lib/python3.6/site-packages/brainscore/metrics/__init__.py:48: UserWarning: squeeze on raw values failed: KeyError('aggregation',)\n",
      "  warnings.warn(f\"{operation} on raw values failed: {repr(e)}\")\n",
      "/om/user/gretatu/.conda/envs/brainmodeling/lib/python3.6/site-packages/brainscore/metrics/__init__.py:48: UserWarning: isel on raw values failed: ValueError(\"dimensions ['aggregation'] do not exist\",)\n",
      "  warnings.warn(f\"{operation} on raw values failed: {repr(e)}\")\n",
      "/om/user/gretatu/.conda/envs/brainmodeling/lib/python3.6/site-packages/brainscore/metrics/__init__.py:48: UserWarning: squeeze on raw values failed: KeyError('aggregation',)\n",
      "  warnings.warn(f\"{operation} on raw values failed: {repr(e)}\")\n"
     ]
    }
   ],
   "source": [
    "comparison='Non-Language'\n",
    "timestamp = '{:%Y-%m-%d}'.format(datetime.datetime.now())\n",
    "workbook = xlsxwriter.Workbook('Fedorenko2016-Language-'+comparison+'-specificity-non-ceiled-'+timestamp+'.xlsx')\n",
    "\n",
    "col=0\n",
    "\n",
    "worksheet = workbook.add_worksheet(\"Language vs \"+comparison) \n",
    "worksheet.write(0, col, 'Model_name')\n",
    "worksheet.write(0, 1, 'Best_layer')\n",
    "worksheet.write(0, 2, 'Comparison_1')\n",
    "worksheet.write(0, 3, 'Comparison_2')\n",
    "worksheet.write(0, 4, 'Predictivity_Comparison1')\n",
    "worksheet.write(0, 5, 'Predictivity_Comparison2')\n",
    "worksheet.write(0, 6, 'Median_Difference')\n",
    "worksheet.write(0, 7, 'Median_Mult_Drop')    \n",
    "worksheet.write(0, 8, 'Median_Perc_Drop')\n",
    "\n",
    "for idx, model in enumerate(models_l_pkl):\n",
    "\n",
    "    fname = models_l_pkl[idx]\n",
    "    fname1 = fname.split('=')\n",
    "    fname2 = fname1[-2].split(',')\n",
    "\n",
    "    print(fname)\n",
    "    fname_nl = '/braintree/home/msch/.result_caching/neural_nlp.score/benchmark=Fedorenko2016v3nonlang-encoding,model='+fname2[0]+',subsample=None.pkl'\n",
    "    print(fname_nl)\n",
    "\n",
    "    with open(fname, 'rb') as f:  \n",
    "        result = pickle.load(f)\n",
    "\n",
    "    score_l = result['data']\n",
    "\n",
    "    with open(fname_nl, 'rb') as f:  \n",
    "        result_nl = pickle.load(f)\n",
    "\n",
    "    score_nl = result_nl['data']\n",
    "    \n",
    "    diff, mult, perc, ceiled_lang, ceiled_comp, best_layer = computeDropFedorenko(score_l,score_nl,ceil=False)\n",
    " \n",
    "    worksheet.write(idx+1, col, fname2[0]) \n",
    "    worksheet.write(idx+1, col + 1, str(best_layer)) \n",
    "    worksheet.write(idx+1, col + 2, 'Language') \n",
    "    worksheet.write(idx+1, col + 3, comparison) \n",
    "    worksheet.write(idx+1, col + 4, ceiled_lang) \n",
    "    worksheet.write(idx+1, col + 5, ceiled_comp) \n",
    "    worksheet.write(idx+1, col + 6, diff)\n",
    "    worksheet.write(idx+1, col + 7, mult) \n",
    "    worksheet.write(idx+1, col + 8, perc) \n",
    "\n",
    "workbook.close()"
   ]
  },
  {
   "cell_type": "code",
   "execution_count": 125,
   "metadata": {},
   "outputs": [],
   "source": [
    "# ceil=False"
   ]
  },
  {
   "cell_type": "code",
   "execution_count": 136,
   "metadata": {},
   "outputs": [],
   "source": [
    "# def computeDropFedorenko(score_l,score_nl,ceil=True):\n",
    "#     b=bestLangLayer(score_l)\n",
    "#     if ceil:\n",
    "#         o_l=freezeBestLangLayer(score_l,b)\n",
    "#         o_comp=freezeBestLangLayer(score_nl,b) # freeze same layer\n",
    "#         center_lang=getCenter2(o_l).values\n",
    "#         center_comp=getCenter2(o_comp).values\n",
    "#     if not ceil:\n",
    "#         center_lang=freezeBestLangLayer(score_l.raw.raw,b).median()\n",
    "#         center_comp=freezeBestLangLayer(score_nl.raw.raw,b).median()\n",
    "\n",
    "#     diff = center_lang - center_comp\n",
    "#     mult = center_lang / center_comp\n",
    "#     perc = (diff / center_lang)*100\n",
    "\n",
    "#     return diff, mult, perc, center_lang, center_comp, b "
   ]
  },
  {
   "cell_type": "code",
   "execution_count": 131,
   "metadata": {},
   "outputs": [
    {
     "data": {
      "text/plain": [
       "<xarray.Score (layer: 13, neuroid: 105)>\n",
       "array([[-0.016233,  0.031775, -0.008377, ..., -0.015614,  0.026776, -0.031975],\n",
       "       [-0.034956, -0.001076, -0.010744, ...,  0.015962, -0.020611, -0.036501],\n",
       "       [-0.029838,  0.007264, -0.008459, ..., -0.038711,  0.037876,  0.10451 ],\n",
       "       ...,\n",
       "       [ 0.106294, -0.000282,  0.109909, ...,  0.077617,  0.014321,  0.047541],\n",
       "       [ 0.024337, -0.039717,  0.091405, ...,  0.001596, -0.050053,  0.022092],\n",
       "       [ 0.049938,  0.070291,  0.116109, ...,  0.020643, -0.118665, -0.035648]])\n",
       "Coordinates:\n",
       "  * layer        (layer) object 'dropout' ... 'encoder.layer_norm2.11'\n",
       "  * neuroid      (neuroid) MultiIndex\n",
       "  - electrode    (neuroid) int64 0 1 2 3 4 5 6 7 8 ... 22 23 24 25 26 27 28 29\n",
       "  - neuroid_id   (neuroid) int64 0 1 2 3 4 5 6 7 8 ... 22 23 24 25 26 27 28 29\n",
       "  - subject_UID  (neuroid) int64 1 1 1 1 1 1 1 1 1 1 1 ... 1 1 1 1 1 1 2 2 2 2 2\n",
       "Attributes:\n",
       "    raw:      <xarray.Score (layer: 13, split: 5, neuroid: 105)>\\narray([[[ 3..."
      ]
     },
     "execution_count": 131,
     "metadata": {},
     "output_type": "execute_result"
    }
   ],
   "source": [
    "score_nl.raw.raw"
   ]
  },
  {
   "cell_type": "code",
   "execution_count": 120,
   "metadata": {},
   "outputs": [
    {
     "data": {
      "text/plain": [
       "<xarray.Score (layer: 2, aggregation: 2)>\n",
       "array([[-0.060489,  0.047108],\n",
       "       [ 0.003018,  0.023531]])\n",
       "Coordinates:\n",
       "  * layer        (layer) object 'lstm/lstm_0/control_dependency' 'lstm/lstm_1/control_dependency'\n",
       "  * aggregation  (aggregation) <U6 'center' 'error'\n",
       "Attributes:\n",
       "    raw:          <xarray.Score (layer: 2, neuroid: 105)>\\narray([[-7.978483e...\n",
       "    description:  per-neuroid ceiling-normalized score\n",
       "    ceiling:      <xarray.Score (aggregation: 3)>\\narray([0.116164, 0.05213 ,...\n",
       "    model:        lm_1b\n",
       "    benchmark:    Fedorenko2016v3nonlang-encoding"
      ]
     },
     "execution_count": 120,
     "metadata": {},
     "output_type": "execute_result"
    }
   ],
   "source": [
    "score_nl"
   ]
  },
  {
   "cell_type": "code",
   "execution_count": 102,
   "metadata": {},
   "outputs": [],
   "source": []
  },
  {
   "cell_type": "markdown",
   "metadata": {},
   "source": [
    "# Sanity checking - 1. Ceiled analyses"
   ]
  },
  {
   "cell_type": "code",
   "execution_count": 7,
   "metadata": {},
   "outputs": [
    {
     "name": "stdout",
     "output_type": "stream",
     "text": [
      "/braintree/home/msch/.result_caching/neural_nlp.score/benchmark=Fedorenko2016v3-encoding,model=lm_1b,subsample=None.pkl\n"
     ]
    }
   ],
   "source": [
    "# For checking, pick out the last model that is iterated through:\n",
    "\n",
    "print(models_l_pkl[-1])"
   ]
  },
  {
   "cell_type": "code",
   "execution_count": 8,
   "metadata": {},
   "outputs": [
    {
     "name": "stdout",
     "output_type": "stream",
     "text": [
      "/braintree/home/msch/.result_caching/neural_nlp.score/benchmark=Fedorenko2016v3-encoding,model=lm_1b,subsample=None.pkl\n",
      "/braintree/home/msch/.result_caching/neural_nlp.score/benchmark=Fedorenko2016v3nonlang-encoding,model=lm_1b,subsample=None.pkl\n"
     ]
    }
   ],
   "source": [
    "fname = models_l_pkl[-1]\n",
    "fname1 = fname.split('=')\n",
    "fname2 = fname1[-2].split(',')\n",
    "\n",
    "print(fname)\n",
    "fname_nl = '/braintree/home/msch/.result_caching/neural_nlp.score/benchmark=Fedorenko2016v3nonlang-encoding,model='+fname2[0]+',subsample=None.pkl'\n",
    "print(fname_nl)"
   ]
  },
  {
   "cell_type": "code",
   "execution_count": 9,
   "metadata": {},
   "outputs": [],
   "source": [
    "with open(fname, 'rb') as f:  \n",
    "    result = pickle.load(f)\n",
    "\n",
    "score_l = result['data']\n",
    "\n",
    "with open(fname_nl, 'rb') as f:  \n",
    "    result_nl = pickle.load(f)\n",
    "\n",
    "score_nl = result_nl['data']\n",
    "\n"
   ]
  },
  {
   "cell_type": "code",
   "execution_count": 10,
   "metadata": {},
   "outputs": [
    {
     "data": {
      "text/plain": [
       "<xarray.Score (layer: 2, aggregation: 2)>\n",
       "array([[-0.018091,  0.020521],\n",
       "       [ 0.047135,  0.030416]])\n",
       "Coordinates:\n",
       "  * layer        (layer) object 'lstm/lstm_0/control_dependency' 'lstm/lstm_1/control_dependency'\n",
       "  * aggregation  (aggregation) <U6 'center' 'error'\n",
       "Attributes:\n",
       "    raw:          <xarray.Score (layer: 2, neuroid: 97)>\\narray([[-1.486838e-...\n",
       "    description:  per-neuroid ceiling-normalized score\n",
       "    ceiling:      <xarray.Score (aggregation: 3)>\\narray([0.168649, 0.052784,...\n",
       "    model:        lm_1b\n",
       "    benchmark:    Fedorenko2016v3-encoding"
      ]
     },
     "execution_count": 10,
     "metadata": {},
     "output_type": "execute_result"
    }
   ],
   "source": [
    "score_l"
   ]
  },
  {
   "cell_type": "code",
   "execution_count": 11,
   "metadata": {},
   "outputs": [
    {
     "name": "stdout",
     "output_type": "stream",
     "text": [
      "lstm/lstm_1/control_dependency\n",
      "lstm/lstm_1/control_dependency\n"
     ]
    },
    {
     "name": "stderr",
     "output_type": "stream",
     "text": [
      "/om/user/gretatu/.conda/envs/brainmodeling/lib/python3.6/site-packages/brainscore/metrics/__init__.py:48: UserWarning: isel on raw values failed: ValueError(\"dimensions ['aggregation'] do not exist\",)\n",
      "  warnings.warn(f\"{operation} on raw values failed: {repr(e)}\")\n",
      "/om/user/gretatu/.conda/envs/brainmodeling/lib/python3.6/site-packages/brainscore/metrics/__init__.py:48: UserWarning: squeeze on raw values failed: KeyError('aggregation',)\n",
      "  warnings.warn(f\"{operation} on raw values failed: {repr(e)}\")\n"
     ]
    }
   ],
   "source": [
    "b=bestLangLayer(score_l)\n",
    "print(b)"
   ]
  },
  {
   "cell_type": "code",
   "execution_count": 12,
   "metadata": {},
   "outputs": [],
   "source": [
    "# Below code is from the function, if ceil = True\n",
    "# if ceil:\n",
    "o_l=freezeBestLangLayer(score_l,b)\n",
    "o_comp=freezeBestLangLayer(score_nl,b) # freeze same layer"
   ]
  },
  {
   "cell_type": "code",
   "execution_count": 13,
   "metadata": {},
   "outputs": [
    {
     "data": {
      "text/plain": [
       "<xarray.Score (aggregation: 2)>\n",
       "array([0.047135, 0.030416])\n",
       "Coordinates:\n",
       "    layer        <U30 'lstm/lstm_1/control_dependency'\n",
       "  * aggregation  (aggregation) <U6 'center' 'error'\n",
       "Attributes:\n",
       "    raw:          <xarray.Score (neuroid: 97)>\\narray([ 4.129890e-01,  5.2144...\n",
       "    description:  per-neuroid ceiling-normalized score\n",
       "    ceiling:      <xarray.Score (aggregation: 3)>\\narray([0.168649, 0.052784,...\n",
       "    model:        lm_1b\n",
       "    benchmark:    Fedorenko2016v3-encoding"
      ]
     },
     "execution_count": 13,
     "metadata": {},
     "output_type": "execute_result"
    }
   ],
   "source": [
    "o_l # For lang electrodes"
   ]
  },
  {
   "cell_type": "code",
   "execution_count": 11,
   "metadata": {},
   "outputs": [
    {
     "name": "stdout",
     "output_type": "stream",
     "text": [
      "0.04713465259316591\n"
     ]
    }
   ],
   "source": [
    "center_lang=getCenter2(o_l).values # Get center score.\n",
    "print(center_lang)"
   ]
  },
  {
   "cell_type": "code",
   "execution_count": 12,
   "metadata": {},
   "outputs": [
    {
     "data": {
      "text/plain": [
       "<xarray.Score (aggregation: 2)>\n",
       "array([0.003018, 0.023531])\n",
       "Coordinates:\n",
       "    layer        <U30 'lstm/lstm_1/control_dependency'\n",
       "  * aggregation  (aggregation) <U6 'center' 'error'\n",
       "Attributes:\n",
       "    raw:          <xarray.Score (neuroid: 105)>\\narray([ 2.028383e+05, -7.971...\n",
       "    description:  per-neuroid ceiling-normalized score\n",
       "    ceiling:      <xarray.Score (aggregation: 3)>\\narray([0.116164, 0.05213 ,...\n",
       "    model:        lm_1b\n",
       "    benchmark:    Fedorenko2016v3nonlang-encoding"
      ]
     },
     "execution_count": 12,
     "metadata": {},
     "output_type": "execute_result"
    }
   ],
   "source": [
    "# For non-lang\n",
    "o_comp # same layer extracted."
   ]
  },
  {
   "cell_type": "code",
   "execution_count": 14,
   "metadata": {},
   "outputs": [
    {
     "name": "stdout",
     "output_type": "stream",
     "text": [
      "0.0030184169555057642\n"
     ]
    }
   ],
   "source": [
    "center_comp=getCenter2(o_comp).values\n",
    "print(center_comp)"
   ]
  },
  {
   "cell_type": "code",
   "execution_count": 16,
   "metadata": {},
   "outputs": [
    {
     "data": {
      "text/plain": [
       "<xarray.Score (aggregation: 2)>\n",
       "array([0.044116, 0.006886])\n",
       "Coordinates:\n",
       "    layer        <U30 'lstm/lstm_1/control_dependency'\n",
       "  * aggregation  (aggregation) <U6 'center' 'error'"
      ]
     },
     "execution_count": 16,
     "metadata": {},
     "output_type": "execute_result"
    }
   ],
   "source": [
    "# Difference should thus be: \n",
    "o_l-o_comp"
   ]
  },
  {
   "cell_type": "code",
   "execution_count": 18,
   "metadata": {},
   "outputs": [
    {
     "name": "stdout",
     "output_type": "stream",
     "text": [
      "lstm/lstm_1/control_dependency\n",
      "0.04411623563766015\n"
     ]
    }
   ],
   "source": [
    "# Checking with the function:\n",
    "diff, mult, perc, ceiled_lang, ceiled_comp, best_layer = computeDropFedorenko(score_l,score_nl,ceil=True)\n",
    "print(diff) # Corresponds. Also to the excel sheet: Fedorenko2016-Language-Non-Language-specificity-ceiled-2020-06-03.xlsx"
   ]
  },
  {
   "cell_type": "code",
   "execution_count": 25,
   "metadata": {},
   "outputs": [
    {
     "data": {
      "text/plain": [
       "<xarray.Score (layer: 2, aggregation: 2)>\n",
       "array([[-0.018091,  0.020521],\n",
       "       [ 0.047135,  0.030416]])\n",
       "Coordinates:\n",
       "  * layer        (layer) object 'lstm/lstm_0/control_dependency' 'lstm/lstm_1/control_dependency'\n",
       "  * aggregation  (aggregation) <U6 'center' 'error'\n",
       "Attributes:\n",
       "    raw:          <xarray.Score (layer: 2, neuroid: 97)>\\narray([[-1.486838e-...\n",
       "    description:  per-neuroid ceiling-normalized score\n",
       "    ceiling:      <xarray.Score (aggregation: 3)>\\narray([0.168649, 0.052784,...\n",
       "    model:        lm_1b\n",
       "    benchmark:    Fedorenko2016v3-encoding"
      ]
     },
     "execution_count": 25,
     "metadata": {},
     "output_type": "execute_result"
    }
   ],
   "source": [
    "# Investigate ceiling\n",
    "score_l"
   ]
  },
  {
   "cell_type": "code",
   "execution_count": 30,
   "metadata": {},
   "outputs": [
    {
     "data": {
      "text/plain": [
       "<xarray.Score ()>\n",
       "array(0.047135)\n",
       "Coordinates:\n",
       "    layer    <U30 'lstm/lstm_1/control_dependency'"
      ]
     },
     "execution_count": 30,
     "metadata": {},
     "output_type": "execute_result"
    }
   ],
   "source": [
    "o_l.raw.groupby('subject_UID').median().median() # The median score arises from median across subjects, then median again."
   ]
  },
  {
   "cell_type": "code",
   "execution_count": 14,
   "metadata": {},
   "outputs": [
    {
     "data": {
      "text/plain": [
       "<xarray.Score ()>\n",
       "array(0.013898)\n",
       "Coordinates:\n",
       "    layer    <U30 'lstm/lstm_1/control_dependency'"
      ]
     },
     "execution_count": 14,
     "metadata": {},
     "output_type": "execute_result"
    }
   ],
   "source": [
    "# Find median for not ceiled:\n",
    "o_l.raw.raw.groupby('subject_UID').median().median()\n"
   ]
  },
  {
   "cell_type": "code",
   "execution_count": 15,
   "metadata": {},
   "outputs": [
    {
     "data": {
      "text/plain": [
       "<xarray.Score ()>\n",
       "array(0.013252)\n",
       "Coordinates:\n",
       "    layer    <U30 'lstm/lstm_1/control_dependency'"
      ]
     },
     "execution_count": 15,
     "metadata": {},
     "output_type": "execute_result"
    }
   ],
   "source": [
    "# In prev analyses, I did:\n",
    "o_l.raw.raw.median()\n",
    "# Matches the one in: Fedorenko2016-Language-Non-Language-specificity-non-ceiled-2020-06-03 (wrong)"
   ]
  },
  {
   "cell_type": "code",
   "execution_count": null,
   "metadata": {},
   "outputs": [],
   "source": []
  },
  {
   "cell_type": "code",
   "execution_count": 35,
   "metadata": {},
   "outputs": [
    {
     "data": {
      "text/plain": [
       "<xarray.Score (neuroid: 97)>\n",
       "array([2.769856e-01, 2.551926e-01, 4.500265e-01, 3.868833e-01, 1.365794e-01,\n",
       "       4.757289e-01, 1.716244e-01, 9.998963e-01, 4.487407e-02, 2.499845e-01,\n",
       "       1.268732e-01, 8.054062e-05, 1.508040e-01, 4.210789e-01, 1.792784e-01,\n",
       "       5.093611e-01, 1.357931e-05, 1.455410e-01, 2.785566e-01, 1.087995e-01,\n",
       "       1.237404e-01, 1.656640e-01, 2.271788e-01, 3.987137e-01, 2.209538e-01,\n",
       "       4.093732e-01, 3.131316e-01, 9.999843e-01, 3.560733e-01, 2.200534e-01,\n",
       "       3.196259e-02, 1.432794e-01, 2.981981e-01, 6.614607e-02, 1.593810e-01,\n",
       "       3.004410e-01, 2.035088e-01, 1.644961e-01, 1.523567e-01, 9.628072e-02,\n",
       "       2.569274e-01, 7.887249e-02, 8.443256e-02, 1.732331e-02, 1.677446e-06,\n",
       "       7.657057e-02, 7.880096e-02, 5.866428e-02, 1.249446e-01, 1.879526e-01,\n",
       "       1.526759e-01, 1.793452e-07, 1.936113e-01, 9.998272e-01, 2.368586e-01,\n",
       "       1.686485e-01, 1.677023e-01, 7.279055e-02, 2.154246e-01, 1.879795e-01,\n",
       "       2.404010e-01, 2.482637e-01, 5.497518e-02, 7.635533e-02, 1.837049e-01,\n",
       "       6.826332e-02, 1.267216e-01, 3.209607e-01, 2.957279e-01, 8.721872e-02,\n",
       "       3.081920e-01, 9.999793e-01, 1.942932e-02, 2.216633e-01, 2.555422e-01,\n",
       "       8.102906e-02, 1.735399e-08, 2.739911e-01, 5.483897e-02, 1.925713e-08,\n",
       "       7.177569e-02, 2.237534e-01, 9.985581e-01, 4.113639e-02, 9.985423e-01,\n",
       "       3.308510e-01, 3.955836e-02, 1.248298e-07, 9.940586e-01, 9.005335e-08,\n",
       "       1.164091e-10, 4.955911e-02, 1.428497e-01, 3.139645e-01, 2.229899e-01,\n",
       "       1.583682e-01, 3.781333e-01])\n",
       "Coordinates:\n",
       "    aggregation  <U10 'center'\n",
       "  * neuroid      (neuroid) MultiIndex\n",
       "  - neuroid_id   (neuroid) int64 0 1 2 3 4 5 6 7 8 ... 22 23 24 25 26 27 28 29\n",
       "Attributes:\n",
       "    raw:                  <xarray.Score (sub_subject_UID: 26, num_subjects: 4...\n",
       "    bootstrapped_params:  <xarray.DataAssembly (bootstrap: 100, param: 2, neu...\n",
       "    endpoint_x:           <xarray.DataAssembly (neuroid: 97)>\\narray([ 20.,  ..."
      ]
     },
     "execution_count": 35,
     "metadata": {},
     "output_type": "execute_result"
    }
   ],
   "source": [
    "# How was the ceiling computed? \n",
    "o_l_center_ceil = getCenter2(o_l.raw.ceiling)\n",
    "o_l_center_ceil"
   ]
  },
  {
   "cell_type": "code",
   "execution_count": 43,
   "metadata": {},
   "outputs": [
    {
     "data": {
      "text/plain": [
       "<xarray.Score (aggregation: 3, neuroid: 97)>\n",
       "array([[0.276986, 0.255193, 0.450026, ..., 0.22299 , 0.158368, 0.378133],\n",
       "       [0.127214, 0.148544, 0.133262, ..., 0.118591, 0.108438, 0.047434],\n",
       "       [0.42316 , 0.429424, 0.387923, ..., 0.376741, 0.293212, 0.093101]])\n",
       "Coordinates:\n",
       "  * aggregation  (aggregation) <U10 'center' 'error_low' 'error_high'\n",
       "  * neuroid      (neuroid) MultiIndex\n",
       "  - neuroid_id   (neuroid) int64 0 1 2 3 4 5 6 7 8 ... 22 23 24 25 26 27 28 29\n",
       "Attributes:\n",
       "    raw:                  <xarray.Score (sub_subject_UID: 26, num_subjects: 4...\n",
       "    bootstrapped_params:  <xarray.DataAssembly (bootstrap: 100, param: 2, neu...\n",
       "    endpoint_x:           <xarray.DataAssembly (neuroid: 97)>\\narray([ 20.,  ..."
      ]
     },
     "execution_count": 43,
     "metadata": {},
     "output_type": "execute_result"
    }
   ],
   "source": [
    "o_l.raw.ceiling"
   ]
  },
  {
   "cell_type": "code",
   "execution_count": 45,
   "metadata": {},
   "outputs": [
    {
     "data": {
      "text/plain": [
       "<xarray.Score ()>\n",
       "array(0.168649)\n",
       "Coordinates:\n",
       "    aggregation  <U10 'center'"
      ]
     },
     "execution_count": 45,
     "metadata": {},
     "output_type": "execute_result"
    }
   ],
   "source": [
    "o_l_center_ceil.median() # Median ceiling"
   ]
  },
  {
   "cell_type": "code",
   "execution_count": 47,
   "metadata": {},
   "outputs": [
    {
     "data": {
      "text/plain": [
       "<xarray.Score (aggregation: 3)>\n",
       "array([0.168649, 0.052784, 0.134393])\n",
       "Coordinates:\n",
       "  * aggregation  (aggregation) <U10 'center' 'error_low' 'error_high'\n",
       "Attributes:\n",
       "    bootstrapped_params:  <xarray.DataAssembly (bootstrap: 100, param: 2)>\\na...\n",
       "    endpoint_x:           <xarray.DataAssembly ()>\\narray(9.)\n",
       "    raw:                  <xarray.Score (aggregation: 3, neuroid: 97)>\\narray..."
      ]
     },
     "execution_count": 47,
     "metadata": {},
     "output_type": "execute_result"
    }
   ],
   "source": [
    "score_l.ceiling # Median ceiling - however, note that this median ceiling was not used to obtain the score.\n",
    "# This was done per electrode (see below)"
   ]
  },
  {
   "cell_type": "code",
   "execution_count": 48,
   "metadata": {},
   "outputs": [
    {
     "data": {
      "text/plain": [
       "<xarray.Score (aggregation: 3, neuroid: 97)>\n",
       "array([[0.276986, 0.255193, 0.450026, ..., 0.22299 , 0.158368, 0.378133],\n",
       "       [0.127214, 0.148544, 0.133262, ..., 0.118591, 0.108438, 0.047434],\n",
       "       [0.42316 , 0.429424, 0.387923, ..., 0.376741, 0.293212, 0.093101]])\n",
       "Coordinates:\n",
       "  * aggregation  (aggregation) <U10 'center' 'error_low' 'error_high'\n",
       "  * neuroid      (neuroid) MultiIndex\n",
       "  - neuroid_id   (neuroid) int64 0 1 2 3 4 5 6 7 8 ... 22 23 24 25 26 27 28 29\n",
       "Attributes:\n",
       "    raw:                  <xarray.Score (sub_subject_UID: 26, num_subjects: 4...\n",
       "    bootstrapped_params:  <xarray.DataAssembly (bootstrap: 100, param: 2, neu...\n",
       "    endpoint_x:           <xarray.DataAssembly (neuroid: 97)>\\narray([ 20.,  ..."
      ]
     },
     "execution_count": 48,
     "metadata": {},
     "output_type": "execute_result"
    }
   ],
   "source": [
    "score_l.ceiling.raw"
   ]
  },
  {
   "cell_type": "code",
   "execution_count": 52,
   "metadata": {},
   "outputs": [
    {
     "data": {
      "text/plain": [
       "<xarray.Score (neuroid: 97)>\n",
       "array([ 4.129890e-01,  5.214422e-01,  9.554386e-02,  1.394123e-01,\n",
       "       -4.837559e-01,  1.070129e-02,  7.080731e-02, -7.612255e-03,\n",
       "        5.477528e-01,  5.301158e-02,  7.774736e-02,  5.114603e+02,\n",
       "       -2.213132e-01, -6.648754e-02, -2.486181e-01,  2.262733e-01,\n",
       "       -2.966059e+03, -2.982561e-01,  1.363789e-01, -8.758201e-01,\n",
       "        2.786114e-01, -2.063734e-01,  3.289014e-01,  1.098549e-01,\n",
       "        1.752363e-01, -3.205963e-02,  3.579033e-02,  3.157911e-02,\n",
       "       -3.035445e-02, -3.927964e-01,  1.937184e+00,  1.584248e-01,\n",
       "        1.368624e-01,  8.411252e-01, -3.671141e-01,  5.522539e-02,\n",
       "       -1.732314e-01,  5.934568e-02,  8.850665e-02, -2.751957e-01,\n",
       "        6.660591e-02,  3.354598e-02,  4.909535e-01, -2.192130e+00,\n",
       "        3.703543e+04,  4.774235e-01, -6.460502e-02,  1.063878e+00,\n",
       "        5.307447e-01,  1.487609e-01,  3.305875e-01,  3.885843e+05,\n",
       "        1.858505e-02, -7.532788e-03,  9.360864e-02, -1.550372e-02,\n",
       "       -2.474501e-01, -9.099362e-01, -2.827100e-01,  5.402272e-02,\n",
       "       -1.092837e-01,  7.487155e-02,  1.211784e+00, -2.511760e-01,\n",
       "        5.332096e-01,  1.316855e+00,  5.065640e-01,  3.311073e-01,\n",
       "       -1.069854e-01,  4.101897e-01,  2.661901e-02,  2.446018e-02,\n",
       "       -3.954737e-01, -3.169006e-01, -3.705445e-02, -1.205444e+00,\n",
       "       -4.544622e+06,  5.442457e-02,  2.534326e-01, -4.834928e+06,\n",
       "        6.204517e-01,  2.757755e-01,  7.906800e-02, -1.155706e+00,\n",
       "        5.954951e-02,  1.228014e-01,  5.363870e-01,  9.427448e+04,\n",
       "        3.471979e-02, -3.418377e+05, -1.873618e+08, -1.880603e+00,\n",
       "        5.752154e-01, -2.656465e-02, -5.507474e-02, -2.250024e-01,\n",
       "        7.310163e-02])\n",
       "Coordinates:\n",
       "    layer        <U30 'lstm/lstm_1/control_dependency'\n",
       "  * neuroid      (neuroid) MultiIndex\n",
       "  - electrode    (neuroid) int64 0 1 2 3 4 5 6 7 8 ... 22 23 24 25 26 27 28 29\n",
       "  - neuroid_id   (neuroid) int64 0 1 2 3 4 5 6 7 8 ... 22 23 24 25 26 27 28 29\n",
       "  - subject_UID  (neuroid) int64 1 1 1 1 1 1 1 1 1 1 1 ... 1 1 1 1 1 1 1 1 1 1 1\n",
       "Attributes:\n",
       "    raw:      <xarray.Score (neuroid: 97)>\\narray([ 0.114392,  0.133068,  0.0...\n",
       "    ceiling:  <xarray.Score (aggregation: 3, neuroid: 97)>\\narray([[0.276986,..."
      ]
     },
     "execution_count": 52,
     "metadata": {},
     "output_type": "execute_result"
    }
   ],
   "source": [
    "o_l.raw"
   ]
  },
  {
   "cell_type": "code",
   "execution_count": 53,
   "metadata": {},
   "outputs": [
    {
     "data": {
      "text/plain": [
       "<xarray.Score (neuroid: 97)>\n",
       "array([ 0.114392,  0.133068,  0.042997,  0.053936, -0.066071,  0.005091,\n",
       "        0.012152, -0.007611,  0.02458 ,  0.013252,  0.009864,  0.041193,\n",
       "       -0.033375, -0.027997, -0.044572,  0.115255, -0.040277, -0.043408,\n",
       "        0.037989, -0.095289,  0.034475, -0.034189,  0.074719,  0.043801,\n",
       "        0.038719, -0.013124,  0.011207,  0.031579, -0.010808, -0.086436,\n",
       "        0.061917,  0.022699,  0.040812,  0.055637, -0.058511,  0.016592,\n",
       "       -0.035254,  0.009762,  0.013485, -0.026496,  0.017113,  0.002646,\n",
       "        0.041452, -0.037975,  0.062125,  0.036557, -0.005091,  0.062412,\n",
       "        0.066314,  0.02796 ,  0.050473,  0.069691,  0.003598, -0.007531,\n",
       "        0.022172, -0.002615, -0.041498, -0.066235, -0.060903,  0.010155,\n",
       "       -0.026272,  0.018588,  0.066618, -0.019179,  0.097953,  0.089893,\n",
       "        0.064193,  0.106272, -0.031639,  0.035776,  0.008204,  0.02446 ,\n",
       "       -0.007684, -0.070245, -0.009469, -0.097676, -0.078867,  0.014912,\n",
       "        0.013898, -0.093107,  0.044533,  0.061706,  0.078954, -0.047542,\n",
       "        0.059463,  0.040629,  0.021219,  0.011768,  0.034514, -0.030784,\n",
       "       -0.021811, -0.093201,  0.082169, -0.00834 , -0.012281, -0.035633,\n",
       "        0.027642])\n",
       "Coordinates:\n",
       "    layer        <U30 'lstm/lstm_1/control_dependency'\n",
       "  * neuroid      (neuroid) MultiIndex\n",
       "  - electrode    (neuroid) int64 0 1 2 3 4 5 6 7 8 ... 22 23 24 25 26 27 28 29\n",
       "  - neuroid_id   (neuroid) int64 0 1 2 3 4 5 6 7 8 ... 22 23 24 25 26 27 28 29\n",
       "  - subject_UID  (neuroid) int64 1 1 1 1 1 1 1 1 1 1 1 ... 1 1 1 1 1 1 1 1 1 1 1\n",
       "Attributes:\n",
       "    raw:      <xarray.Score (split: 5, neuroid: 97)>\\narray([[ 6.092489e-02, ..."
      ]
     },
     "execution_count": 53,
     "metadata": {},
     "output_type": "execute_result"
    }
   ],
   "source": [
    "o_l.raw.raw # Not normalized scores."
   ]
  },
  {
   "cell_type": "code",
   "execution_count": 54,
   "metadata": {},
   "outputs": [
    {
     "data": {
      "text/plain": [
       "0.412988382084293"
      ]
     },
     "execution_count": 54,
     "metadata": {},
     "output_type": "execute_result"
    }
   ],
   "source": [
    "0.114392/0.276986 # Gives the first value, i.e. for electrode 1.\n",
    "# This is the not ceiled score, divided by the ceiling. Both for electrode 1."
   ]
  },
  {
   "cell_type": "code",
   "execution_count": 58,
   "metadata": {},
   "outputs": [
    {
     "data": {
      "text/plain": [
       "<xarray.Score (neuroid: 97)>\n",
       "array([ 4.129890e-01,  5.214422e-01,  9.554386e-02,  1.394123e-01,\n",
       "       -4.837559e-01,  1.070129e-02,  7.080731e-02, -7.612255e-03,\n",
       "        5.477528e-01,  5.301158e-02,  7.774736e-02,  5.114603e+02,\n",
       "       -2.213132e-01, -6.648754e-02, -2.486181e-01,  2.262733e-01,\n",
       "       -2.966059e+03, -2.982561e-01,  1.363789e-01, -8.758201e-01,\n",
       "        2.786114e-01, -2.063734e-01,  3.289014e-01,  1.098549e-01,\n",
       "        1.752363e-01, -3.205963e-02,  3.579033e-02,  3.157911e-02,\n",
       "       -3.035445e-02, -3.927964e-01,  1.937184e+00,  1.584248e-01,\n",
       "        1.368624e-01,  8.411252e-01, -3.671141e-01,  5.522539e-02,\n",
       "       -1.732314e-01,  5.934568e-02,  8.850665e-02, -2.751957e-01,\n",
       "        6.660591e-02,  3.354598e-02,  4.909535e-01, -2.192130e+00,\n",
       "        3.703543e+04,  4.774235e-01, -6.460502e-02,  1.063878e+00,\n",
       "        5.307447e-01,  1.487609e-01,  3.305875e-01,  3.885843e+05,\n",
       "        1.858505e-02, -7.532788e-03,  9.360864e-02, -1.550372e-02,\n",
       "       -2.474501e-01, -9.099362e-01, -2.827100e-01,  5.402272e-02,\n",
       "       -1.092837e-01,  7.487155e-02,  1.211784e+00, -2.511760e-01,\n",
       "        5.332096e-01,  1.316855e+00,  5.065640e-01,  3.311073e-01,\n",
       "       -1.069854e-01,  4.101897e-01,  2.661901e-02,  2.446018e-02,\n",
       "       -3.954737e-01, -3.169006e-01, -3.705445e-02, -1.205444e+00,\n",
       "       -4.544622e+06,  5.442457e-02,  2.534326e-01, -4.834928e+06,\n",
       "        6.204517e-01,  2.757755e-01,  7.906800e-02, -1.155706e+00,\n",
       "        5.954951e-02,  1.228014e-01,  5.363870e-01,  9.427448e+04,\n",
       "        3.471979e-02, -3.418377e+05, -1.873618e+08, -1.880603e+00,\n",
       "        5.752154e-01, -2.656465e-02, -5.507474e-02, -2.250024e-01,\n",
       "        7.310163e-02])\n",
       "Coordinates:\n",
       "    layer        <U30 'lstm/lstm_1/control_dependency'\n",
       "  * neuroid      (neuroid) MultiIndex\n",
       "  - electrode    (neuroid) int64 0 1 2 3 4 5 6 7 8 ... 22 23 24 25 26 27 28 29\n",
       "  - neuroid_id   (neuroid) int64 0 1 2 3 4 5 6 7 8 ... 22 23 24 25 26 27 28 29\n",
       "  - subject_UID  (neuroid) int64 1 1 1 1 1 1 1 1 1 1 1 ... 1 1 1 1 1 1 1 1 1 1 1"
      ]
     },
     "execution_count": 58,
     "metadata": {},
     "output_type": "execute_result"
    }
   ],
   "source": [
    "# Divide all normalized scores by their ceiling:\n",
    "# All not ceiled vals divided by ceiling, per electrode:\n",
    "manual_ceiled = o_l.raw.raw/o_l_center_ceil.values\n",
    "manual_ceiled"
   ]
  },
  {
   "cell_type": "code",
   "execution_count": 61,
   "metadata": {},
   "outputs": [
    {
     "data": {
      "text/plain": [
       "<xarray.Score ()>\n",
       "array(0.047135)\n",
       "Coordinates:\n",
       "    layer    <U30 'lstm/lstm_1/control_dependency'"
      ]
     },
     "execution_count": 61,
     "metadata": {},
     "output_type": "execute_result"
    }
   ],
   "source": [
    "manual_ceiled.groupby('subject_UID').median().median()"
   ]
  },
  {
   "cell_type": "code",
   "execution_count": null,
   "metadata": {},
   "outputs": [],
   "source": [
    "# Thus, the ECoG data was normalized per-electrode. Then median across subs, then median again."
   ]
  },
  {
   "cell_type": "markdown",
   "metadata": {},
   "source": [
    "### Checking whether this also holds true for the non-lang assembly."
   ]
  },
  {
   "cell_type": "code",
   "execution_count": 62,
   "metadata": {},
   "outputs": [
    {
     "data": {
      "text/plain": [
       "<xarray.Score (aggregation: 2)>\n",
       "array([0.003018, 0.023531])\n",
       "Coordinates:\n",
       "    layer        <U30 'lstm/lstm_1/control_dependency'\n",
       "  * aggregation  (aggregation) <U6 'center' 'error'\n",
       "Attributes:\n",
       "    raw:          <xarray.Score (neuroid: 105)>\\narray([ 2.028383e+05, -7.971...\n",
       "    description:  per-neuroid ceiling-normalized score\n",
       "    ceiling:      <xarray.Score (aggregation: 3)>\\narray([0.116164, 0.05213 ,...\n",
       "    model:        lm_1b\n",
       "    benchmark:    Fedorenko2016v3nonlang-encoding"
      ]
     },
     "execution_count": 62,
     "metadata": {},
     "output_type": "execute_result"
    }
   ],
   "source": [
    "o_comp # Overall score - the one used for analyses."
   ]
  },
  {
   "cell_type": "code",
   "execution_count": 63,
   "metadata": {},
   "outputs": [
    {
     "data": {
      "text/plain": [
       "<xarray.Score (neuroid: 105)>\n",
       "array([1.448933e-07, 5.212969e-02, 9.635411e-02, 4.839803e-08, 9.990403e-01,\n",
       "       1.551109e-01, 4.671731e-02, 6.648999e-02, 4.411571e-01, 4.250366e-02,\n",
       "       1.949580e-01, 5.954338e-02, 9.997326e-01, 9.999873e-01, 8.251841e-02,\n",
       "       2.128950e-01, 1.645926e-01, 3.944148e-01, 9.915946e-02, 1.507927e-01,\n",
       "       1.573497e-01, 1.229716e-01, 8.502359e-02, 1.404781e-01, 4.407586e-08,\n",
       "       1.085917e-01, 2.246840e-01, 3.040161e-01, 1.933836e-01, 9.976442e-01,\n",
       "       1.077222e-01, 5.264769e-01, 1.161641e-01, 9.987514e-01, 3.278715e-01,\n",
       "       2.680098e-02, 2.848121e-01, 1.859232e-01, 9.999476e-01, 4.764583e-02,\n",
       "       7.792652e-02, 3.652808e-02, 9.933857e-08, 1.056405e-01, 2.642320e-02,\n",
       "       1.330423e-09, 9.999736e-01, 1.782986e-02, 4.198945e-02, 4.718160e-02,\n",
       "       1.853546e-08, 5.646617e-09, 1.067096e-06, 7.481936e-08, 8.295233e-02,\n",
       "       9.628907e-09, 9.994804e-01, 1.388746e-01, 4.136222e-06, 1.962669e-09,\n",
       "       9.918041e-10, 9.888310e-01, 1.782349e-01, 1.514683e-01, 1.074162e-01,\n",
       "       5.204102e-08, 1.242286e-01, 2.266789e-01, 4.519900e-01, 9.874366e-02,\n",
       "       1.698989e-01, 9.999013e-01, 1.892756e-01, 1.205234e-08, 1.785040e-01,\n",
       "       1.995444e-01, 1.021251e-01, 3.322269e-02, 1.939734e-01, 9.993898e-01,\n",
       "       6.847818e-02, 2.264878e-01, 7.851257e-02, 9.996205e-01, 1.448965e-01,\n",
       "       9.999037e-01, 1.357868e-02, 9.998558e-01, 2.472776e-08, 8.532755e-07,\n",
       "       2.740003e-01, 9.859109e-01, 8.779939e-02, 1.260890e-01, 8.346778e-01,\n",
       "       7.975184e-02, 4.694324e-09, 9.997569e-01, 9.999361e-01, 6.899808e-02,\n",
       "       1.099540e-01, 2.020270e-01, 1.074981e-01, 1.694541e-05, 5.553572e-01])\n",
       "Coordinates:\n",
       "    aggregation  <U10 'center'\n",
       "  * neuroid      (neuroid) MultiIndex\n",
       "  - neuroid_id   (neuroid) int64 0 1 2 3 4 5 6 7 8 ... 22 23 24 25 26 27 28 29\n",
       "Attributes:\n",
       "    raw:                  <xarray.Score (sub_subject_UID: 26, num_subjects: 4...\n",
       "    bootstrapped_params:  <xarray.DataAssembly (bootstrap: 100, param: 2, neu...\n",
       "    endpoint_x:           <xarray.DataAssembly (neuroid: 105)>\\narray([  0., ..."
      ]
     },
     "execution_count": 63,
     "metadata": {},
     "output_type": "execute_result"
    }
   ],
   "source": [
    "# Get center ceiling values:\n",
    "o_comp_center_ceil = getCenter2(o_comp.raw.ceiling)\n",
    "o_comp_center_ceil"
   ]
  },
  {
   "cell_type": "code",
   "execution_count": 64,
   "metadata": {},
   "outputs": [
    {
     "data": {
      "text/plain": [
       "<xarray.Score (neuroid: 105)>\n",
       "array([ 2.938991e-02, -4.155691e-02,  6.308131e-02, -2.554944e-02,\n",
       "        6.745820e-02,  4.159275e-02,  3.040040e-02, -1.056268e-02,\n",
       "        1.544086e-02,  4.958228e-02,  1.547964e-01, -9.721864e-02,\n",
       "        1.659298e-02, -7.855656e-02, -3.575510e-02, -1.159213e-02,\n",
       "       -3.304446e-02,  8.564529e-05,  5.387235e-02,  2.165194e-02,\n",
       "       -7.804589e-02,  9.447160e-02, -2.388053e-02, -3.482680e-02,\n",
       "       -3.525356e-02, -4.633790e-02, -1.018333e-01, -1.344557e-02,\n",
       "       -5.272226e-02,  3.886134e-02,  3.043477e-03,  7.715291e-02,\n",
       "       -1.759912e-03,  3.387968e-02,  4.716172e-02, -9.718474e-02,\n",
       "        3.520585e-02, -4.439626e-02, -6.673006e-02,  1.843675e-02,\n",
       "        1.576181e-01, -8.346981e-03, -6.181820e-02,  5.078812e-02,\n",
       "        4.102869e-02,  4.269619e-02, -2.197833e-03, -9.374865e-02,\n",
       "       -7.704697e-02,  1.191005e-02, -1.467647e-01, -1.036329e-01,\n",
       "       -1.025818e-01, -6.906747e-02, -1.010563e-01, -1.737336e-01,\n",
       "        1.063392e-02,  3.769011e-03, -7.957756e-02,  4.101340e-02,\n",
       "        1.843975e-02, -6.013187e-03,  4.359340e-02,  3.131849e-02,\n",
       "        1.221679e-02, -1.070418e-01,  4.247246e-02, -1.420489e-02,\n",
       "       -4.631650e-02, -7.475656e-03, -5.104097e-02,  2.242325e-02,\n",
       "       -7.535868e-03,  2.064283e-02,  3.005873e-02, -5.399307e-02,\n",
       "        1.480711e-02, -3.724809e-02,  5.658273e-03,  8.666773e-02,\n",
       "       -3.400515e-02,  4.415189e-02,  3.040860e-02,  1.002174e-02,\n",
       "       -7.749219e-02,  6.600484e-04,  4.265898e-02, -8.119187e-03,\n",
       "        4.972940e-02, -1.618346e-02, -3.123396e-03,  8.072705e-02,\n",
       "        5.511461e-03, -4.924978e-02,  4.761597e-02,  1.865252e-02,\n",
       "        1.002912e-02, -9.961890e-02,  1.743496e-02, -7.208118e-02,\n",
       "        4.228782e-02,  2.817220e-02, -5.503607e-02, -5.649442e-02,\n",
       "       -2.962724e-02])\n",
       "Coordinates:\n",
       "    layer        <U30 'lstm/lstm_1/control_dependency'\n",
       "  * neuroid      (neuroid) MultiIndex\n",
       "  - electrode    (neuroid) int64 0 1 2 3 4 5 6 7 8 ... 22 23 24 25 26 27 28 29\n",
       "  - neuroid_id   (neuroid) int64 0 1 2 3 4 5 6 7 8 ... 22 23 24 25 26 27 28 29\n",
       "  - subject_UID  (neuroid) int64 1 1 1 1 1 1 1 1 1 1 1 ... 1 1 1 1 1 1 2 2 2 2 2\n",
       "Attributes:\n",
       "    raw:      <xarray.Score (split: 5, neuroid: 105)>\\narray([[ 0.095617, -0...."
      ]
     },
     "execution_count": 64,
     "metadata": {},
     "output_type": "execute_result"
    }
   ],
   "source": [
    "# Get raw values:\n",
    "o_comp.raw.raw"
   ]
  },
  {
   "cell_type": "code",
   "execution_count": 66,
   "metadata": {},
   "outputs": [
    {
     "data": {
      "text/plain": [
       "<xarray.Score (neuroid: 105)>\n",
       "array([ 2.028383e+05, -7.971831e-01,  6.546820e-01, -5.279024e+05,\n",
       "        6.752300e-02,  2.681485e-01,  6.507309e-01, -1.588612e-01,\n",
       "        3.500081e-02,  1.166541e+00,  7.939986e-01, -1.632736e+00,\n",
       "        1.659742e-02, -7.855756e-02, -4.332984e-01, -5.444999e-02,\n",
       "       -2.007652e-01,  2.171452e-04,  5.432900e-01,  1.435874e-01,\n",
       "       -4.960028e-01,  7.682389e-01, -2.808695e-01, -2.479162e-01,\n",
       "       -7.998382e+05, -4.267166e-01, -4.532291e-01, -4.422652e-02,\n",
       "       -2.726304e-01,  3.895311e-02,  2.825302e-02,  1.465457e-01,\n",
       "       -1.515022e-02,  3.392203e-02,  1.438421e-01, -3.626164e+00,\n",
       "        1.236108e-01, -2.387882e-01, -6.673356e-02,  3.869542e-01,\n",
       "        2.022651e+00, -2.285086e-01, -6.222980e+05,  4.807635e-01,\n",
       "        1.552753e+00,  3.209220e+07, -2.197891e-03, -5.257956e+00,\n",
       "       -1.834913e+00,  2.524299e-01, -7.918047e+06, -1.835309e+07,\n",
       "       -9.613175e+04, -9.231230e+05, -1.218246e+00, -1.804292e+07,\n",
       "        1.063944e-02,  2.713968e-02, -1.923919e+04,  2.089675e+07,\n",
       "        1.859213e+07, -6.081107e-03,  2.445839e-01,  2.067659e-01,\n",
       "        1.137332e-01, -2.056874e+06,  3.418895e-01, -6.266524e-02,\n",
       "       -1.024724e-01, -7.570771e-02, -3.004197e-01,  2.242546e-02,\n",
       "       -3.981426e-02,  1.712766e+06,  1.683924e-01, -2.705818e-01,\n",
       "        1.449899e-01, -1.121164e+00,  2.917035e-02,  8.672065e-02,\n",
       "       -4.965837e-01,  1.949416e-01,  3.873087e-01,  1.002554e-02,\n",
       "       -5.348108e-01,  6.601119e-04,  3.141615e+00, -8.120358e-03,\n",
       "        2.011076e+06, -1.896628e+04, -1.139924e-02,  8.188067e-02,\n",
       "        6.277334e-02, -3.905953e-01,  5.704712e-02,  2.338820e-01,\n",
       "        2.136436e+06, -9.964313e-02,  1.743608e-02, -1.044684e+00,\n",
       "        3.845957e-01,  1.394477e-01, -5.119725e-01, -3.333907e+03,\n",
       "       -5.334808e-02])\n",
       "Coordinates:\n",
       "    layer        <U30 'lstm/lstm_1/control_dependency'\n",
       "  * neuroid      (neuroid) MultiIndex\n",
       "  - electrode    (neuroid) int64 0 1 2 3 4 5 6 7 8 ... 22 23 24 25 26 27 28 29\n",
       "  - neuroid_id   (neuroid) int64 0 1 2 3 4 5 6 7 8 ... 22 23 24 25 26 27 28 29\n",
       "  - subject_UID  (neuroid) int64 1 1 1 1 1 1 1 1 1 1 1 ... 1 1 1 1 1 1 2 2 2 2 2"
      ]
     },
     "execution_count": 66,
     "metadata": {},
     "output_type": "execute_result"
    }
   ],
   "source": [
    "# Normalize:\n",
    "manual_o_comp_ceiled = o_comp.raw.raw/o_comp_center_ceil.values\n",
    "manual_o_comp_ceiled"
   ]
  },
  {
   "cell_type": "code",
   "execution_count": 67,
   "metadata": {},
   "outputs": [
    {
     "data": {
      "text/plain": [
       "<xarray.Score ()>\n",
       "array(0.003018)\n",
       "Coordinates:\n",
       "    layer    <U30 'lstm/lstm_1/control_dependency'"
      ]
     },
     "execution_count": 67,
     "metadata": {},
     "output_type": "execute_result"
    }
   ],
   "source": [
    "manual_o_comp_ceiled.groupby('subject_UID').median().median() # Corresponds. Also corresponds to Martins:\n",
    "# scores-Fedorenko2016v3nonlang-encoding-normalized"
   ]
  },
  {
   "cell_type": "code",
   "execution_count": null,
   "metadata": {},
   "outputs": [],
   "source": []
  },
  {
   "cell_type": "code",
   "execution_count": null,
   "metadata": {},
   "outputs": [],
   "source": []
  },
  {
   "cell_type": "code",
   "execution_count": null,
   "metadata": {},
   "outputs": [],
   "source": []
  },
  {
   "cell_type": "code",
   "execution_count": null,
   "metadata": {},
   "outputs": [],
   "source": []
  },
  {
   "cell_type": "code",
   "execution_count": null,
   "metadata": {},
   "outputs": [],
   "source": []
  },
  {
   "cell_type": "code",
   "execution_count": null,
   "metadata": {},
   "outputs": [],
   "source": []
  },
  {
   "cell_type": "code",
   "execution_count": null,
   "metadata": {},
   "outputs": [],
   "source": []
  },
  {
   "cell_type": "code",
   "execution_count": null,
   "metadata": {},
   "outputs": [],
   "source": []
  },
  {
   "cell_type": "code",
   "execution_count": null,
   "metadata": {},
   "outputs": [],
   "source": []
  },
  {
   "cell_type": "code",
   "execution_count": null,
   "metadata": {},
   "outputs": [],
   "source": []
  },
  {
   "cell_type": "code",
   "execution_count": null,
   "metadata": {},
   "outputs": [],
   "source": []
  },
  {
   "cell_type": "code",
   "execution_count": null,
   "metadata": {},
   "outputs": [],
   "source": []
  },
  {
   "cell_type": "markdown",
   "metadata": {},
   "source": [
    "## Older sanity checking - based on xlm-mlm-xnli15-1024"
   ]
  },
  {
   "cell_type": "code",
   "execution_count": 25,
   "metadata": {},
   "outputs": [
    {
     "data": {
      "text/plain": [
       "(13, 97)"
      ]
     },
     "execution_count": 25,
     "metadata": {},
     "output_type": "execute_result"
    }
   ],
   "source": [
    "np.shape(score.raw.values)"
   ]
  },
  {
   "cell_type": "code",
   "execution_count": 40,
   "metadata": {},
   "outputs": [
    {
     "data": {
      "text/plain": [
       "<xarray.Score (layer: 13, neuroid: 97)>\n",
       "array([[ 0.068024, -0.335592, -0.11474 , ..., -0.088335, -0.397793,  0.138809],\n",
       "       [ 0.028067, -0.046891, -0.233998, ..., -0.085894, -0.018869, -0.061208],\n",
       "       [ 0.184944, -0.16922 ,  0.337123, ...,  0.01556 ,  0.275162, -0.162363],\n",
       "       ...,\n",
       "       [ 0.45498 ,  0.083965,  0.369752, ...,  0.597711,  0.648532,  0.352527],\n",
       "       [ 0.347119,  0.378986,  0.381496, ...,  0.285543,  0.091092,  0.433191],\n",
       "       [ 0.330438,  0.107857,  0.229053, ...,  0.690976,  0.834708, -0.188901]])\n",
       "Coordinates:\n",
       "  * layer        (layer) object 'dropout' ... 'encoder.layer_norm2.11'\n",
       "  * neuroid      (neuroid) MultiIndex\n",
       "  - electrode    (neuroid) int64 0 1 2 3 4 5 6 7 8 ... 22 23 24 25 26 27 28 29\n",
       "  - neuroid_id   (neuroid) int64 0 1 2 3 4 5 6 7 8 ... 22 23 24 25 26 27 28 29\n",
       "  - subject_UID  (neuroid) int64 1 1 1 1 1 1 1 1 1 1 1 ... 1 1 1 1 1 1 1 1 1 1 1\n",
       "Attributes:\n",
       "    raw:      <xarray.Score (layer: 13, neuroid: 97)>\\narray([[ 0.018842, -0....\n",
       "    ceiling:  <xarray.Score (aggregation: 3, neuroid: 97)>\\narray([[0.276986,..."
      ]
     },
     "execution_count": 40,
     "metadata": {},
     "output_type": "execute_result"
    }
   ],
   "source": [
    "score.raw"
   ]
  },
  {
   "cell_type": "code",
   "execution_count": 37,
   "metadata": {},
   "outputs": [
    {
     "data": {
      "text/plain": [
       "<xarray.Score (aggregation: 3, neuroid: 97)>\n",
       "array([[0.276986, 0.255193, 0.450026, ..., 0.22299 , 0.158368, 0.378133],\n",
       "       [0.127214, 0.148544, 0.133262, ..., 0.118591, 0.108438, 0.047434],\n",
       "       [0.42316 , 0.429424, 0.387923, ..., 0.376741, 0.293212, 0.093101]])\n",
       "Coordinates:\n",
       "  * aggregation  (aggregation) <U10 'center' 'error_low' 'error_high'\n",
       "  * neuroid      (neuroid) MultiIndex\n",
       "  - neuroid_id   (neuroid) int64 0 1 2 3 4 5 6 7 8 ... 22 23 24 25 26 27 28 29\n",
       "Attributes:\n",
       "    raw:                  <xarray.Score (sub_subject_UID: 26, num_subjects: 4...\n",
       "    bootstrapped_params:  <xarray.DataAssembly (bootstrap: 100, param: 2, neu...\n",
       "    endpoint_x:           <xarray.DataAssembly (neuroid: 97)>\\narray([ 20.,  ..."
      ]
     },
     "execution_count": 37,
     "metadata": {},
     "output_type": "execute_result"
    }
   ],
   "source": [
    "score.raw.ceiling"
   ]
  },
  {
   "cell_type": "code",
   "execution_count": 38,
   "metadata": {},
   "outputs": [
    {
     "data": {
      "text/plain": [
       "<xarray.Score (neuroid: 97)>\n",
       "array([2.769856e-01, 2.551926e-01, 4.500265e-01, 3.868833e-01, 1.365794e-01,\n",
       "       4.757289e-01, 1.716244e-01, 9.998963e-01, 4.487407e-02, 2.499845e-01,\n",
       "       1.268732e-01, 8.054062e-05, 1.508040e-01, 4.210789e-01, 1.792784e-01,\n",
       "       5.093611e-01, 1.357931e-05, 1.455410e-01, 2.785566e-01, 1.087995e-01,\n",
       "       1.237404e-01, 1.656640e-01, 2.271788e-01, 3.987137e-01, 2.209538e-01,\n",
       "       4.093732e-01, 3.131316e-01, 9.999843e-01, 3.560733e-01, 2.200534e-01,\n",
       "       3.196259e-02, 1.432794e-01, 2.981981e-01, 6.614607e-02, 1.593810e-01,\n",
       "       3.004410e-01, 2.035088e-01, 1.644961e-01, 1.523567e-01, 9.628072e-02,\n",
       "       2.569274e-01, 7.887249e-02, 8.443256e-02, 1.732331e-02, 1.677446e-06,\n",
       "       7.657057e-02, 7.880096e-02, 5.866428e-02, 1.249446e-01, 1.879526e-01,\n",
       "       1.526759e-01, 1.793452e-07, 1.936113e-01, 9.998272e-01, 2.368586e-01,\n",
       "       1.686485e-01, 1.677023e-01, 7.279055e-02, 2.154246e-01, 1.879795e-01,\n",
       "       2.404010e-01, 2.482637e-01, 5.497518e-02, 7.635533e-02, 1.837049e-01,\n",
       "       6.826332e-02, 1.267216e-01, 3.209607e-01, 2.957279e-01, 8.721872e-02,\n",
       "       3.081920e-01, 9.999793e-01, 1.942932e-02, 2.216633e-01, 2.555422e-01,\n",
       "       8.102906e-02, 1.735399e-08, 2.739911e-01, 5.483897e-02, 1.925713e-08,\n",
       "       7.177569e-02, 2.237534e-01, 9.985581e-01, 4.113639e-02, 9.985423e-01,\n",
       "       3.308510e-01, 3.955836e-02, 1.248298e-07, 9.940586e-01, 9.005335e-08,\n",
       "       1.164091e-10, 4.955911e-02, 1.428497e-01, 3.139645e-01, 2.229899e-01,\n",
       "       1.583682e-01, 3.781333e-01])\n",
       "Coordinates:\n",
       "    aggregation  <U10 'center'\n",
       "  * neuroid      (neuroid) MultiIndex\n",
       "  - neuroid_id   (neuroid) int64 0 1 2 3 4 5 6 7 8 ... 22 23 24 25 26 27 28 29\n",
       "Attributes:\n",
       "    raw:                  <xarray.Score (sub_subject_UID: 26, num_subjects: 4...\n",
       "    bootstrapped_params:  <xarray.DataAssembly (bootstrap: 100, param: 2, neu...\n",
       "    endpoint_x:           <xarray.DataAssembly (neuroid: 97)>\\narray([ 20.,  ..."
      ]
     },
     "execution_count": 38,
     "metadata": {},
     "output_type": "execute_result"
    }
   ],
   "source": [
    "score.raw.ceiling[{'aggregation': [agg == 'center' for agg in score.raw.ceiling['aggregation'].values]}].squeeze('aggregation')"
   ]
  },
  {
   "cell_type": "code",
   "execution_count": 32,
   "metadata": {},
   "outputs": [
    {
     "data": {
      "text/plain": [
       "-0.08834780590844292"
      ]
     },
     "execution_count": 32,
     "metadata": {},
     "output_type": "execute_result"
    }
   ],
   "source": [
    "np.median(score.raw.values[0,:]) #legit, ceiled val"
   ]
  },
  {
   "cell_type": "code",
   "execution_count": 30,
   "metadata": {},
   "outputs": [
    {
     "data": {
      "text/plain": [
       "<xarray.Score (layer: 13, neuroid: 97)>\n",
       "array([[ 0.018842, -0.085641, -0.051636, ..., -0.019698, -0.062998,  0.052488],\n",
       "       [ 0.007774, -0.011966, -0.105305, ..., -0.019154, -0.002988, -0.023145],\n",
       "       [ 0.051227, -0.043184,  0.151714, ...,  0.00347 ,  0.043577, -0.061395],\n",
       "       ...,\n",
       "       [ 0.126023,  0.021427,  0.166398, ...,  0.133284,  0.102707,  0.133302],\n",
       "       [ 0.096147,  0.096715,  0.171683, ...,  0.063673,  0.014426,  0.163804],\n",
       "       [ 0.091527,  0.027524,  0.10308 , ...,  0.154081,  0.132191, -0.07143 ]])\n",
       "Coordinates:\n",
       "  * layer        (layer) object 'dropout' ... 'encoder.layer_norm2.11'\n",
       "  * neuroid      (neuroid) MultiIndex\n",
       "  - electrode    (neuroid) int64 0 1 2 3 4 5 6 7 8 ... 22 23 24 25 26 27 28 29\n",
       "  - neuroid_id   (neuroid) int64 0 1 2 3 4 5 6 7 8 ... 22 23 24 25 26 27 28 29\n",
       "  - subject_UID  (neuroid) int64 1 1 1 1 1 1 1 1 1 1 1 ... 1 1 1 1 1 1 1 1 1 1 1\n",
       "Attributes:\n",
       "    raw:      <xarray.Score (layer: 13, split: 5, neuroid: 97)>\\narray([[[ 0...."
      ]
     },
     "execution_count": 30,
     "metadata": {},
     "output_type": "execute_result"
    }
   ],
   "source": [
    "score.raw.raw"
   ]
  },
  {
   "cell_type": "code",
   "execution_count": 39,
   "metadata": {},
   "outputs": [
    {
     "data": {
      "text/plain": [
       "0.06802519697774903"
      ]
     },
     "execution_count": 39,
     "metadata": {},
     "output_type": "execute_result"
    }
   ],
   "source": [
    " 0.018842/2.769856e-01 #legit, non-ceiled / ceiling"
   ]
  },
  {
   "cell_type": "code",
   "execution_count": 42,
   "metadata": {},
   "outputs": [
    {
     "data": {
      "text/plain": [
       "<xarray.Score ()>\n",
       "array(0.491101)\n",
       "Coordinates:\n",
       "    layer    <U21 'encoder.layer_norm2.9'"
      ]
     },
     "execution_count": 42,
     "metadata": {},
     "output_type": "execute_result"
    }
   ],
   "source": [
    "freezeBestLangLayer(score.raw,b).median() #legit, ceiled"
   ]
  },
  {
   "cell_type": "code",
   "execution_count": 43,
   "metadata": {},
   "outputs": [
    {
     "data": {
      "text/plain": [
       "<xarray.Score ()>\n",
       "array(0.0799)\n",
       "Coordinates:\n",
       "    layer    <U21 'encoder.layer_norm2.9'"
      ]
     },
     "execution_count": 43,
     "metadata": {},
     "output_type": "execute_result"
    }
   ],
   "source": [
    "freezeBestLangLayer(score.raw.raw,b).median() #legit, not ceiled"
   ]
  },
  {
   "cell_type": "code",
   "execution_count": null,
   "metadata": {},
   "outputs": [],
   "source": []
  }
 ],
 "metadata": {
  "kernelspec": {
   "display_name": "Python 3",
   "language": "python",
   "name": "python3"
  },
  "language_info": {
   "codemirror_mode": {
    "name": "ipython",
    "version": 3
   },
   "file_extension": ".py",
   "mimetype": "text/x-python",
   "name": "python",
   "nbconvert_exporter": "python",
   "pygments_lexer": "ipython3",
   "version": "3.6.10"
  }
 },
 "nbformat": 4,
 "nbformat_minor": 2
}
